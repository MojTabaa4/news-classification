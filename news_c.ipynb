{
 "nbformat": 4,
 "nbformat_minor": 0,
 "metadata": {
  "colab": {
   "name": "Untitled2.ipynb",
   "provenance": [],
   "collapsed_sections": []
  },
  "kernelspec": {
   "name": "python3",
   "display_name": "Python 3"
  },
  "language_info": {
   "name": "python"
  }
 },
 "cells": [
  {
   "cell_type": "code",
   "source": [
    "!wget -O hamshahri.rar \"https://drive.google.com/u/0/uc?id=1D3yt99D0GcCRCbdKbUQGxbqjkeh91hTg&export=download&confirm=t&uuid=8cf8ef84-5033-4de3-97dc-588c35004d6c\""
   ],
   "metadata": {
    "id": "G-NGUHjAgEyq",
    "pycharm": {
     "name": "#%%\n"
    }
   },
   "execution_count": null,
   "outputs": []
  },
  {
   "cell_type": "code",
   "source": [
    "!unrar x hamshahri.rar"
   ],
   "metadata": {
    "id": "OLejfJa8gE2k",
    "pycharm": {
     "name": "#%%\n"
    }
   },
   "execution_count": null,
   "outputs": []
  },
  {
   "cell_type": "code",
   "source": [
    "!unzip hamshahriold / Corpus / Hamshahri-All\\ \\(SQL\\).zip\n",
    "!unzip hamshahriold / Corpus / Hamshahri-Corpus.zip\n",
    "!unzip hamshahriold / Corpus / PersianStopWords.zip"
   ],
   "metadata": {
    "colab": {
     "base_uri": "https://localhost:8080/"
    },
    "id": "KMlhrDntgE5-",
    "outputId": "3d83ad96-a081-4a35-abb7-2a6cc298745d",
    "pycharm": {
     "name": "#%%\n"
    }
   },
   "execution_count": null,
   "outputs": [
    {
     "output_type": "stream",
     "name": "stdout",
     "text": [
      "Archive:  hamshahriold/Corpus/Hamshahri-All (SQL).zip\n",
      "   creating: Hamshahri-All (SQL)/\n",
      "  inflating: Hamshahri-All (SQL)/Hamshahri-Term_Data.MDF  \n",
      "  inflating: Hamshahri-All (SQL)/Hamshahri-Term_Log.LDF  \n"
     ]
    }
   ]
  },
  {
   "cell_type": "code",
   "source": [
    "# !unzip hamshahriold/Corpus/Hamshahri-Query_Judgement.zip\n",
    "# !unzip hamshahriold/Corpus/Hamshahri-Query_Judgement_old.zip"
   ],
   "metadata": {
    "id": "hYadediCgE85",
    "pycharm": {
     "name": "#%%\n"
    }
   },
   "execution_count": null,
   "outputs": []
  },
  {
   "cell_type": "code",
   "source": [
    "!cat hamshahriold / Corpus / Hamshahri-Sample.txt"
   ],
   "metadata": {
    "colab": {
     "base_uri": "https://localhost:8080/"
    },
    "id": "ZDfZV876uKyM",
    "outputId": "f94010a7-e579-48c5-8459-d68238dcb551",
    "pycharm": {
     "name": "#%%\n"
    }
   },
   "execution_count": null,
   "outputs": [
    {
     "output_type": "stream",
     "name": "stdout",
     "text": [
      ".DID\t1S1\r\n",
      ".Date\t75\\04\\02\r\n",
      ".Cat\tadabh\r\n",
      "جاودانگي در زندگي گروهي از طريق هنر \r\n",
      "نگاهي به نمايشگاه آثار هنري احمد طباطبايي \r\n",
      "موضوع آثار طباطبايي مورچگان هستند ولي در باطن چنين ظاهري، اين \r\n",
      "انسانهاهستند كه در هيبتي حشره گونه در تابلوهاي نقاشي نمايشگر \r\n",
      "گوشه هايي از زندگي خود هستند. \r\n",
      "\r\n",
      ".DID\t2S1\r\n",
      ".Date\t75\\05\\02\r\n",
      ".Cat\tadabh\r\n",
      "رويدادهاي هنري جهان \r\n",
      "نمايشگاه هنر در خدمت ديكتاتورها \r\n",
      "نمايشگاه ارتباط بين هنر وقدرت ديكتاتورها در اروپا درشهر برلين \r\n",
      "آغاز به كار كرد. به گزارش واحد مركزي خبر به نقل از شبكه خبري \r\n",
      "\r\n",
      ".DID\t3S1\r\n",
      ".Date\t75\\04\\12\r\n",
      ".Cat\tadabh\r\n",
      "برديوار نگارخانه ها \r\n",
      "گالري گلستان: \r\n",
      "نمايشگاه طرح و ساخت نقره وسنگ ثريا امانپور از 5 تيرماه 12تا\r\n",
      "از ساعت 9 تا 12 16تا 20 و خيابان دروس شهيدكماسايي شماره \r\n",
      ". تلفن 2541589. 42 \r\n",
      "نگارخانه آفرينش سرو: نمايشگاه آثار عكاسي شهريار توكلي و فرشيد \r\n",
      "\r\n",
      ".DID\t4S1\r\n",
      ".Date\t75\\04\\02\r\n",
      ".Cat\tejtem\r\n",
      "بازي را جدي بگيريم \r\n",
      "مطالعه اي مقدماتي پيرامون نقش بازي در زندگي اجتماعي و ساماندهي \r\n",
      "گردشگاهها \r\n",
      "حركت و شلوغ كردن جلوه اي ازلذت كودكانه است، سركوبومخالفت با \r\n",
      "جنب وجوش كودكان بتدريج آسيب رواني به بار مي آورد زمينهاي بازي \r\n",
      "بايد فعاليتهاي هنرمندانه و سازنده را در كنار بازيهاي پرتحرك تشويق \r\n",
      "و ترويج كند \r\n",
      "\r\n",
      "\r\n",
      ".DID\t4S2\r\n",
      ".Date\t75\\04\\30\r\n",
      ".Cat\telmfa\r\n",
      "آيا بهتر نيست مديران مدارس تعمير و رنگ هرساله تخته سياه را در \r\n",
      "سر فصل برنامه هاي كارتابستاني خود قرار بياييم؟ دهند در تابستان \r\n",
      "هر سال خستگي يك سال تحصيلي رااز روي تخته سياههاي مدارس بزداييم \r\n",
      "و با زدن رنگ و تعمير كردن آنها به استقبال سال تحصيلي جديدبرويم \r\n",
      "و بگذاريم اين وسيله آموزشي نيز در ابتداي سال، با ظاهري زيبا، \r\n",
      "پذيراي دانش آموزان در مدارس باشد. تخته سياه، وسيله اي موثر در "
     ]
    }
   ]
  },
  {
   "cell_type": "code",
   "source": [
    "import re\n",
    "\n",
    "dict_ = {}\n",
    "list_of_dict = []\n",
    "\n",
    "with open('Hamshahri-Corpus.txt', \"r\") as content:\n",
    "    content = content.read()\n",
    "lines = content.split(\"\\n\")\n",
    "lines = [line for line in lines if line]\n",
    "line_count = len(lines) - 1\n",
    "\n",
    "for index, line in enumerate(lines):\n",
    "    if '.DID' in line and dict_:\n",
    "        list_of_dict.append(dict_)\n",
    "        dict_ = {}\n",
    "\n",
    "    if '.Cat' in line:\n",
    "        dict_['category'] = line.split(\".Cat\\t\", 1)[1]\n",
    "\n",
    "    elif not re.match(r\"^.[A-Z]\", line) and line:\n",
    "        if 'text' in dict_:\n",
    "            dict_['text'] += line\n",
    "        else:\n",
    "            dict_['text'] = line\n",
    "\n",
    "    if line_count == index and dict_:\n",
    "        list_of_dict.append(dict_)\n",
    "        dict_ = {}\n",
    "\n",
    "len(list_of_dict)"
   ],
   "metadata": {
    "colab": {
     "base_uri": "https://localhost:8080/"
    },
    "id": "6Gke85WJySd4",
    "outputId": "99f93234-2efc-473a-e88b-2c9783723475",
    "pycharm": {
     "name": "#%%\n"
    }
   },
   "execution_count": 136,
   "outputs": [
    {
     "output_type": "execute_result",
     "data": {
      "text/plain": [
       "165225"
      ]
     },
     "metadata": {},
     "execution_count": 136
    }
   ]
  },
  {
   "cell_type": "code",
   "source": [
    "import pandas as pd\n",
    "\n",
    "df = pd.DataFrame(list_of_dict)\n",
    "df.head(20)\n",
    "df.to_csv('data.csv')"
   ],
   "metadata": {
    "id": "_bnef0Hx1Q4d",
    "pycharm": {
     "name": "#%%\n"
    }
   },
   "execution_count": 1,
   "outputs": [
    {
     "ename": "NameError",
     "evalue": "name 'list_of_dict' is not defined",
     "output_type": "error",
     "traceback": [
      "\u001B[0;31m---------------------------------------------------------------------------\u001B[0m",
      "\u001B[0;31mNameError\u001B[0m                                 Traceback (most recent call last)",
      "\u001B[0;32m/tmp/ipykernel_537949/3337089253.py\u001B[0m in \u001B[0;36m<module>\u001B[0;34m\u001B[0m\n\u001B[1;32m      1\u001B[0m \u001B[0;32mimport\u001B[0m \u001B[0mpandas\u001B[0m \u001B[0;32mas\u001B[0m \u001B[0mpd\u001B[0m\u001B[0;34m\u001B[0m\u001B[0;34m\u001B[0m\u001B[0m\n\u001B[1;32m      2\u001B[0m \u001B[0;34m\u001B[0m\u001B[0m\n\u001B[0;32m----> 3\u001B[0;31m \u001B[0mdf\u001B[0m \u001B[0;34m=\u001B[0m \u001B[0mpd\u001B[0m\u001B[0;34m.\u001B[0m\u001B[0mDataFrame\u001B[0m\u001B[0;34m(\u001B[0m\u001B[0mlist_of_dict\u001B[0m\u001B[0;34m)\u001B[0m\u001B[0;34m\u001B[0m\u001B[0;34m\u001B[0m\u001B[0m\n\u001B[0m\u001B[1;32m      4\u001B[0m \u001B[0mdf\u001B[0m\u001B[0;34m.\u001B[0m\u001B[0mhead\u001B[0m\u001B[0;34m(\u001B[0m\u001B[0;36m20\u001B[0m\u001B[0;34m)\u001B[0m\u001B[0;34m\u001B[0m\u001B[0;34m\u001B[0m\u001B[0m\n\u001B[1;32m      5\u001B[0m \u001B[0mdf\u001B[0m\u001B[0;34m.\u001B[0m\u001B[0mto_csv\u001B[0m\u001B[0;34m(\u001B[0m\u001B[0;34m'data.csv'\u001B[0m\u001B[0;34m)\u001B[0m\u001B[0;34m\u001B[0m\u001B[0;34m\u001B[0m\u001B[0m\n",
      "\u001B[0;31mNameError\u001B[0m: name 'list_of_dict' is not defined"
     ]
    }
   ]
  },
  {
   "cell_type": "code",
   "source": [
    "df['category_id'] = df['category'].factorize()[0]\n",
    "df.tail(10)"
   ],
   "metadata": {
    "colab": {
     "base_uri": "https://localhost:8080/",
     "height": 363
    },
    "id": "hh3X-HieXiJx",
    "outputId": "e26b0c9c-423f-4763-814a-4ff6db7e3a96",
    "pycharm": {
     "name": "#%%\n"
    }
   },
   "execution_count": 138,
   "outputs": [
    {
     "output_type": "execute_result",
     "data": {
      "text/plain": [
       "       category                                               text  \\\n",
       "165215    sporw  قانون آنتيچ _ اولين قانون كاري آنتيچ، استفاده ...   \n",
       "165216  theatre  جادو در فضاي خالي گفت وگو با سهيل پارسا - 1 سه...   \n",
       "165217  theatre  نگاه منتقد گفت وگو با گروه بازيگران نمايش; ولش...   \n",
       "165218  theatre  حاشيه تاتر جشنواره * ششم ششمين جشنواره دانشجوي...   \n",
       "165219    vrzsh  گره هاي كور كشتي باز مي؟ شودگروه ورزشي: با حضو...   \n",
       "165220    vrzsh  نماينده فدراسيون جهاني واليبال  از ايران هر نظ...   \n",
       "165221    vrzsh  شكست نامداران تكواندودر پيكارهاي برتر ليگ گروه...   \n",
       "165222    vrzsh  ورزشگاه بزرگ دانشگاه آزاد در تهران ساخته مي شو...   \n",
       "165223    vrzsh  رئيس فدراسيون پزشكي انتخاب شد گروه ورزشي: مجمع...   \n",
       "165224    vrzsh  نتايج هفته يازدهم وزنه برداري باشگاهها گروه ور...   \n",
       "\n",
       "        category_id  \n",
       "165215           96  \n",
       "165216           57  \n",
       "165217           57  \n",
       "165218           57  \n",
       "165219           10  \n",
       "165220           10  \n",
       "165221           10  \n",
       "165222           10  \n",
       "165223           10  \n",
       "165224           10  "
      ],
      "text/html": [
       "\n",
       "  <div id=\"df-7827ef33-b91d-488c-9eff-a2a3b15eb130\">\n",
       "    <div class=\"colab-df-container\">\n",
       "      <div>\n",
       "<style scoped>\n",
       "    .dataframe tbody tr th:only-of-type {\n",
       "        vertical-align: middle;\n",
       "    }\n",
       "\n",
       "    .dataframe tbody tr th {\n",
       "        vertical-align: top;\n",
       "    }\n",
       "\n",
       "    .dataframe thead th {\n",
       "        text-align: right;\n",
       "    }\n",
       "</style>\n",
       "<table border=\"1\" class=\"dataframe\">\n",
       "  <thead>\n",
       "    <tr style=\"text-align: right;\">\n",
       "      <th></th>\n",
       "      <th>category</th>\n",
       "      <th>text</th>\n",
       "      <th>category_id</th>\n",
       "    </tr>\n",
       "  </thead>\n",
       "  <tbody>\n",
       "    <tr>\n",
       "      <th>165215</th>\n",
       "      <td>sporw</td>\n",
       "      <td>قانون آنتيچ _ اولين قانون كاري آنتيچ، استفاده ...</td>\n",
       "      <td>96</td>\n",
       "    </tr>\n",
       "    <tr>\n",
       "      <th>165216</th>\n",
       "      <td>theatre</td>\n",
       "      <td>جادو در فضاي خالي گفت وگو با سهيل پارسا - 1 سه...</td>\n",
       "      <td>57</td>\n",
       "    </tr>\n",
       "    <tr>\n",
       "      <th>165217</th>\n",
       "      <td>theatre</td>\n",
       "      <td>نگاه منتقد گفت وگو با گروه بازيگران نمايش; ولش...</td>\n",
       "      <td>57</td>\n",
       "    </tr>\n",
       "    <tr>\n",
       "      <th>165218</th>\n",
       "      <td>theatre</td>\n",
       "      <td>حاشيه تاتر جشنواره * ششم ششمين جشنواره دانشجوي...</td>\n",
       "      <td>57</td>\n",
       "    </tr>\n",
       "    <tr>\n",
       "      <th>165219</th>\n",
       "      <td>vrzsh</td>\n",
       "      <td>گره هاي كور كشتي باز مي؟ شودگروه ورزشي: با حضو...</td>\n",
       "      <td>10</td>\n",
       "    </tr>\n",
       "    <tr>\n",
       "      <th>165220</th>\n",
       "      <td>vrzsh</td>\n",
       "      <td>نماينده فدراسيون جهاني واليبال  از ايران هر نظ...</td>\n",
       "      <td>10</td>\n",
       "    </tr>\n",
       "    <tr>\n",
       "      <th>165221</th>\n",
       "      <td>vrzsh</td>\n",
       "      <td>شكست نامداران تكواندودر پيكارهاي برتر ليگ گروه...</td>\n",
       "      <td>10</td>\n",
       "    </tr>\n",
       "    <tr>\n",
       "      <th>165222</th>\n",
       "      <td>vrzsh</td>\n",
       "      <td>ورزشگاه بزرگ دانشگاه آزاد در تهران ساخته مي شو...</td>\n",
       "      <td>10</td>\n",
       "    </tr>\n",
       "    <tr>\n",
       "      <th>165223</th>\n",
       "      <td>vrzsh</td>\n",
       "      <td>رئيس فدراسيون پزشكي انتخاب شد گروه ورزشي: مجمع...</td>\n",
       "      <td>10</td>\n",
       "    </tr>\n",
       "    <tr>\n",
       "      <th>165224</th>\n",
       "      <td>vrzsh</td>\n",
       "      <td>نتايج هفته يازدهم وزنه برداري باشگاهها گروه ور...</td>\n",
       "      <td>10</td>\n",
       "    </tr>\n",
       "  </tbody>\n",
       "</table>\n",
       "</div>\n",
       "      <button class=\"colab-df-convert\" onclick=\"convertToInteractive('df-7827ef33-b91d-488c-9eff-a2a3b15eb130')\"\n",
       "              title=\"Convert this dataframe to an interactive table.\"\n",
       "              style=\"display:none;\">\n",
       "        \n",
       "  <svg xmlns=\"http://www.w3.org/2000/svg\" height=\"24px\"viewBox=\"0 0 24 24\"\n",
       "       width=\"24px\">\n",
       "    <path d=\"M0 0h24v24H0V0z\" fill=\"none\"/>\n",
       "    <path d=\"M18.56 5.44l.94 2.06.94-2.06 2.06-.94-2.06-.94-.94-2.06-.94 2.06-2.06.94zm-11 1L8.5 8.5l.94-2.06 2.06-.94-2.06-.94L8.5 2.5l-.94 2.06-2.06.94zm10 10l.94 2.06.94-2.06 2.06-.94-2.06-.94-.94-2.06-.94 2.06-2.06.94z\"/><path d=\"M17.41 7.96l-1.37-1.37c-.4-.4-.92-.59-1.43-.59-.52 0-1.04.2-1.43.59L10.3 9.45l-7.72 7.72c-.78.78-.78 2.05 0 2.83L4 21.41c.39.39.9.59 1.41.59.51 0 1.02-.2 1.41-.59l7.78-7.78 2.81-2.81c.8-.78.8-2.07 0-2.86zM5.41 20L4 18.59l7.72-7.72 1.47 1.35L5.41 20z\"/>\n",
       "  </svg>\n",
       "      </button>\n",
       "      \n",
       "  <style>\n",
       "    .colab-df-container {\n",
       "      display:flex;\n",
       "      flex-wrap:wrap;\n",
       "      gap: 12px;\n",
       "    }\n",
       "\n",
       "    .colab-df-convert {\n",
       "      background-color: #E8F0FE;\n",
       "      border: none;\n",
       "      border-radius: 50%;\n",
       "      cursor: pointer;\n",
       "      display: none;\n",
       "      fill: #1967D2;\n",
       "      height: 32px;\n",
       "      padding: 0 0 0 0;\n",
       "      width: 32px;\n",
       "    }\n",
       "\n",
       "    .colab-df-convert:hover {\n",
       "      background-color: #E2EBFA;\n",
       "      box-shadow: 0px 1px 2px rgba(60, 64, 67, 0.3), 0px 1px 3px 1px rgba(60, 64, 67, 0.15);\n",
       "      fill: #174EA6;\n",
       "    }\n",
       "\n",
       "    [theme=dark] .colab-df-convert {\n",
       "      background-color: #3B4455;\n",
       "      fill: #D2E3FC;\n",
       "    }\n",
       "\n",
       "    [theme=dark] .colab-df-convert:hover {\n",
       "      background-color: #434B5C;\n",
       "      box-shadow: 0px 1px 3px 1px rgba(0, 0, 0, 0.15);\n",
       "      filter: drop-shadow(0px 1px 2px rgba(0, 0, 0, 0.3));\n",
       "      fill: #FFFFFF;\n",
       "    }\n",
       "  </style>\n",
       "\n",
       "      <script>\n",
       "        const buttonEl =\n",
       "          document.querySelector('#df-7827ef33-b91d-488c-9eff-a2a3b15eb130 button.colab-df-convert');\n",
       "        buttonEl.style.display =\n",
       "          google.colab.kernel.accessAllowed ? 'block' : 'none';\n",
       "\n",
       "        async function convertToInteractive(key) {\n",
       "          const element = document.querySelector('#df-7827ef33-b91d-488c-9eff-a2a3b15eb130');\n",
       "          const dataTable =\n",
       "            await google.colab.kernel.invokeFunction('convertToInteractive',\n",
       "                                                     [key], {});\n",
       "          if (!dataTable) return;\n",
       "\n",
       "          const docLinkHtml = 'Like what you see? Visit the ' +\n",
       "            '<a target=\"_blank\" href=https://colab.research.google.com/notebooks/data_table.ipynb>data table notebook</a>'\n",
       "            + ' to learn more about interactive tables.';\n",
       "          element.innerHTML = '';\n",
       "          dataTable['output_type'] = 'display_data';\n",
       "          await google.colab.output.renderOutput(dataTable, element);\n",
       "          const docLink = document.createElement('div');\n",
       "          docLink.innerHTML = docLinkHtml;\n",
       "          element.appendChild(docLink);\n",
       "        }\n",
       "      </script>\n",
       "    </div>\n",
       "  </div>\n",
       "  "
      ]
     },
     "metadata": {},
     "execution_count": 138
    }
   ]
  },
  {
   "cell_type": "code",
   "source": [
    "df.isna().sum()"
   ],
   "metadata": {
    "colab": {
     "base_uri": "https://localhost:8080/"
    },
    "id": "Pl26Yb0vs1T6",
    "outputId": "d1ff5db8-3a55-42fb-e6a3-5413e3940242",
    "pycharm": {
     "name": "#%%\n"
    }
   },
   "execution_count": 139,
   "outputs": [
    {
     "output_type": "execute_result",
     "data": {
      "text/plain": [
       "category       0\n",
       "text           0\n",
       "category_id    0\n",
       "dtype: int64"
      ]
     },
     "metadata": {},
     "execution_count": 139
    }
   ]
  },
  {
   "cell_type": "code",
   "source": [
    "category = df[['category', 'category_id']].drop_duplicates().sort_values('category_id')\n",
    "category"
   ],
   "metadata": {
    "colab": {
     "base_uri": "https://localhost:8080/",
     "height": 424
    },
    "id": "sKqVkKjqXiCE",
    "outputId": "be9cbf2b-97b8-4dfb-cad9-6f3c2fca8487",
    "pycharm": {
     "name": "#%%\n"
    }
   },
   "execution_count": 140,
   "outputs": [
    {
     "output_type": "execute_result",
     "data": {
      "text/plain": [
       "       category  category_id\n",
       "0         adabh            0\n",
       "3         ejtem            1\n",
       "4         elmfa            2\n",
       "10        eqtes            3\n",
       "21        gozar            4\n",
       "...         ...          ...\n",
       "143425    Shari          100\n",
       "145030   ikabar          101\n",
       "145782   imaqal          102\n",
       "150211   igozar          103\n",
       "154494  Thought          104\n",
       "\n",
       "[105 rows x 2 columns]"
      ],
      "text/html": [
       "\n",
       "  <div id=\"df-ec2e23e4-8f1b-411e-8172-97c228dac8e3\">\n",
       "    <div class=\"colab-df-container\">\n",
       "      <div>\n",
       "<style scoped>\n",
       "    .dataframe tbody tr th:only-of-type {\n",
       "        vertical-align: middle;\n",
       "    }\n",
       "\n",
       "    .dataframe tbody tr th {\n",
       "        vertical-align: top;\n",
       "    }\n",
       "\n",
       "    .dataframe thead th {\n",
       "        text-align: right;\n",
       "    }\n",
       "</style>\n",
       "<table border=\"1\" class=\"dataframe\">\n",
       "  <thead>\n",
       "    <tr style=\"text-align: right;\">\n",
       "      <th></th>\n",
       "      <th>category</th>\n",
       "      <th>category_id</th>\n",
       "    </tr>\n",
       "  </thead>\n",
       "  <tbody>\n",
       "    <tr>\n",
       "      <th>0</th>\n",
       "      <td>adabh</td>\n",
       "      <td>0</td>\n",
       "    </tr>\n",
       "    <tr>\n",
       "      <th>3</th>\n",
       "      <td>ejtem</td>\n",
       "      <td>1</td>\n",
       "    </tr>\n",
       "    <tr>\n",
       "      <th>4</th>\n",
       "      <td>elmfa</td>\n",
       "      <td>2</td>\n",
       "    </tr>\n",
       "    <tr>\n",
       "      <th>10</th>\n",
       "      <td>eqtes</td>\n",
       "      <td>3</td>\n",
       "    </tr>\n",
       "    <tr>\n",
       "      <th>21</th>\n",
       "      <td>gozar</td>\n",
       "      <td>4</td>\n",
       "    </tr>\n",
       "    <tr>\n",
       "      <th>...</th>\n",
       "      <td>...</td>\n",
       "      <td>...</td>\n",
       "    </tr>\n",
       "    <tr>\n",
       "      <th>143425</th>\n",
       "      <td>Shari</td>\n",
       "      <td>100</td>\n",
       "    </tr>\n",
       "    <tr>\n",
       "      <th>145030</th>\n",
       "      <td>ikabar</td>\n",
       "      <td>101</td>\n",
       "    </tr>\n",
       "    <tr>\n",
       "      <th>145782</th>\n",
       "      <td>imaqal</td>\n",
       "      <td>102</td>\n",
       "    </tr>\n",
       "    <tr>\n",
       "      <th>150211</th>\n",
       "      <td>igozar</td>\n",
       "      <td>103</td>\n",
       "    </tr>\n",
       "    <tr>\n",
       "      <th>154494</th>\n",
       "      <td>Thought</td>\n",
       "      <td>104</td>\n",
       "    </tr>\n",
       "  </tbody>\n",
       "</table>\n",
       "<p>105 rows × 2 columns</p>\n",
       "</div>\n",
       "      <button class=\"colab-df-convert\" onclick=\"convertToInteractive('df-ec2e23e4-8f1b-411e-8172-97c228dac8e3')\"\n",
       "              title=\"Convert this dataframe to an interactive table.\"\n",
       "              style=\"display:none;\">\n",
       "        \n",
       "  <svg xmlns=\"http://www.w3.org/2000/svg\" height=\"24px\"viewBox=\"0 0 24 24\"\n",
       "       width=\"24px\">\n",
       "    <path d=\"M0 0h24v24H0V0z\" fill=\"none\"/>\n",
       "    <path d=\"M18.56 5.44l.94 2.06.94-2.06 2.06-.94-2.06-.94-.94-2.06-.94 2.06-2.06.94zm-11 1L8.5 8.5l.94-2.06 2.06-.94-2.06-.94L8.5 2.5l-.94 2.06-2.06.94zm10 10l.94 2.06.94-2.06 2.06-.94-2.06-.94-.94-2.06-.94 2.06-2.06.94z\"/><path d=\"M17.41 7.96l-1.37-1.37c-.4-.4-.92-.59-1.43-.59-.52 0-1.04.2-1.43.59L10.3 9.45l-7.72 7.72c-.78.78-.78 2.05 0 2.83L4 21.41c.39.39.9.59 1.41.59.51 0 1.02-.2 1.41-.59l7.78-7.78 2.81-2.81c.8-.78.8-2.07 0-2.86zM5.41 20L4 18.59l7.72-7.72 1.47 1.35L5.41 20z\"/>\n",
       "  </svg>\n",
       "      </button>\n",
       "      \n",
       "  <style>\n",
       "    .colab-df-container {\n",
       "      display:flex;\n",
       "      flex-wrap:wrap;\n",
       "      gap: 12px;\n",
       "    }\n",
       "\n",
       "    .colab-df-convert {\n",
       "      background-color: #E8F0FE;\n",
       "      border: none;\n",
       "      border-radius: 50%;\n",
       "      cursor: pointer;\n",
       "      display: none;\n",
       "      fill: #1967D2;\n",
       "      height: 32px;\n",
       "      padding: 0 0 0 0;\n",
       "      width: 32px;\n",
       "    }\n",
       "\n",
       "    .colab-df-convert:hover {\n",
       "      background-color: #E2EBFA;\n",
       "      box-shadow: 0px 1px 2px rgba(60, 64, 67, 0.3), 0px 1px 3px 1px rgba(60, 64, 67, 0.15);\n",
       "      fill: #174EA6;\n",
       "    }\n",
       "\n",
       "    [theme=dark] .colab-df-convert {\n",
       "      background-color: #3B4455;\n",
       "      fill: #D2E3FC;\n",
       "    }\n",
       "\n",
       "    [theme=dark] .colab-df-convert:hover {\n",
       "      background-color: #434B5C;\n",
       "      box-shadow: 0px 1px 3px 1px rgba(0, 0, 0, 0.15);\n",
       "      filter: drop-shadow(0px 1px 2px rgba(0, 0, 0, 0.3));\n",
       "      fill: #FFFFFF;\n",
       "    }\n",
       "  </style>\n",
       "\n",
       "      <script>\n",
       "        const buttonEl =\n",
       "          document.querySelector('#df-ec2e23e4-8f1b-411e-8172-97c228dac8e3 button.colab-df-convert');\n",
       "        buttonEl.style.display =\n",
       "          google.colab.kernel.accessAllowed ? 'block' : 'none';\n",
       "\n",
       "        async function convertToInteractive(key) {\n",
       "          const element = document.querySelector('#df-ec2e23e4-8f1b-411e-8172-97c228dac8e3');\n",
       "          const dataTable =\n",
       "            await google.colab.kernel.invokeFunction('convertToInteractive',\n",
       "                                                     [key], {});\n",
       "          if (!dataTable) return;\n",
       "\n",
       "          const docLinkHtml = 'Like what you see? Visit the ' +\n",
       "            '<a target=\"_blank\" href=https://colab.research.google.com/notebooks/data_table.ipynb>data table notebook</a>'\n",
       "            + ' to learn more about interactive tables.';\n",
       "          element.innerHTML = '';\n",
       "          dataTable['output_type'] = 'display_data';\n",
       "          await google.colab.output.renderOutput(dataTable, element);\n",
       "          const docLink = document.createElement('div');\n",
       "          docLink.innerHTML = docLinkHtml;\n",
       "          element.appendChild(docLink);\n",
       "        }\n",
       "      </script>\n",
       "    </div>\n",
       "  </div>\n",
       "  "
      ]
     },
     "metadata": {},
     "execution_count": 140
    }
   ]
  },
  {
   "cell_type": "code",
   "source": [
    "df.groupby(['category']).size().reset_index(name='counts').sort_values(['counts'], ascending=False)[:50].plot(\n",
    "    x='category', y='counts', kind='bar', figsize=(20, 10)\n",
    ")"
   ],
   "metadata": {
    "colab": {
     "base_uri": "https://localhost:8080/",
     "height": 647
    },
    "id": "_rvb6z2FuWR4",
    "outputId": "00c6f7ba-6626-4b6d-82df-d6479f311af9",
    "pycharm": {
     "name": "#%%\n"
    }
   },
   "execution_count": 157,
   "outputs": [
    {
     "output_type": "execute_result",
     "data": {
      "text/plain": [
       "<matplotlib.axes._subplots.AxesSubplot at 0x7fa638a6de90>"
      ]
     },
     "metadata": {},
     "execution_count": 157
    },
    {
     "output_type": "display_data",
     "data": {
      "text/plain": [
       "<Figure size 1440x720 with 1 Axes>"
      ],
      "image/png": "[encoded data removed]"
     },
     "metadata": {
      "needs_background": "light"
     }
    }
   ]
  },
  {
   "cell_type": "code",
   "source": [],
   "metadata": {
    "id": "4UziK0l_Xh0m",
    "pycharm": {
     "name": "#%%\n"
    }
   },
   "execution_count": null,
   "outputs": []
  },
  {
   "cell_type": "code",
   "source": [],
   "metadata": {
    "id": "2qUHBthoXhsR",
    "pycharm": {
     "name": "#%%\n"
    }
   },
   "execution_count": null,
   "outputs": []
  },
  {
   "cell_type": "code",
   "source": [],
   "metadata": {
    "id": "pw86X29YXhgR",
    "pycharm": {
     "name": "#%%\n"
    }
   },
   "execution_count": null,
   "outputs": []
  },
  {
   "cell_type": "markdown",
   "source": [],
   "metadata": {
    "id": "qBp77lapzK-P",
    "pycharm": {
     "name": "#%% md\n"
    }
   }
  }
 ]
}