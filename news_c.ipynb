{
 "nbformat": 4,
 "nbformat_minor": 0,
 "metadata": {
  "colab": {
   "name": "news_c.ipynb",
   "provenance": [],
   "collapsed_sections": []
  },
  "kernelspec": {
   "name": "python3",
   "display_name": "Python 3"
  },
  "language_info": {
   "name": "python"
  },
  "accelerator": "GPU",
  "gpuClass": "standard"
 },
 "cells": [
  {
   "cell_type": "code",
   "source": [
    "!pip install hazm"
   ],
   "metadata": {
    "id": "thd931eLB7D5",
    "pycharm": {
     "name": "#%%\n"
    }
   },
   "execution_count": null,
   "outputs": []
  },
  {
   "cell_type": "code",
   "source": [
    "import pickle\n",
    "import re\n",
    "\n",
    "import matplotlib.pyplot as plt\n",
    "import numpy as np\n",
    "import pandas as pd\n",
    "from hazm import word_tokenize, Lemmatizer, Stemmer, Normalizer\n",
    "from keras.callbacks import EarlyStopping\n",
    "from keras.layers import Dense, Embedding, LSTM, SpatialDropout1D\n",
    "from keras.models import Sequential\n",
    "from keras.preprocessing.sequence import pad_sequences\n",
    "from keras.preprocessing.text import Tokenizer\n",
    "from keras.utils.np_utils import to_categorical\n",
    "from sklearn.model_selection import train_test_split\n",
    "from tensorflow import keras"
   ],
   "metadata": {
    "id": "2dzVw_rQB6sN",
    "pycharm": {
     "name": "#%%\n"
    }
   },
   "execution_count": 40,
   "outputs": []
  },
  {
   "cell_type": "code",
   "source": [
    "pd.set_option('display.max_colwidth', None) # optional"
   ],
   "metadata": {
    "id": "Wosn_pd2gD1i",
    "pycharm": {
     "name": "#%%\n"
    }
   },
   "execution_count": null,
   "outputs": []
  },
  {
   "cell_type": "code",
   "source": [
    "from google.colab import drive\n",
    "drive.mount('/content/drive')\n",
    "\n",
    "# df = pd.read_csv('drive/MyDrive/Colab Notebooks/hamshahri_dataset.csv', index_col=0)"
   ],
   "metadata": {
    "id": "VEwLuHWoIAUI",
    "colab": {
     "base_uri": "https://localhost:8080/"
    },
    "outputId": "77c1514a-733e-4a04-fa93-a18f43e7d4d2",
    "pycharm": {
     "name": "#%%\n"
    }
   },
   "execution_count": 3,
   "outputs": [
    {
     "output_type": "stream",
     "name": "stdout",
     "text": [
      "Mounted at /content/drive\n"
     ]
    }
   ]
  },
  {
   "cell_type": "code",
   "source": [
    "!cat Hamshahri-Corpus.txt | head -n100"
   ],
   "metadata": {
    "id": "ueikesJ4wqLY",
    "pycharm": {
     "name": "#%%\n"
    }
   },
   "execution_count": null,
   "outputs": []
  },
  {
   "cell_type": "code",
   "source": [
    "# df.to_pickle(\"drive/MyDrive/Colab Notebooks/hamshahri_DataFrame.pkl\")\n",
    "df = pd.read_pickle(\"drive/MyDrive/Colab Notebooks/hamshahri_DataFrame.pkl\")  "
   ],
   "metadata": {
    "id": "QVt58rJ1IqoN",
    "pycharm": {
     "name": "#%%\n"
    }
   },
   "execution_count": 4,
   "outputs": []
  },
  {
   "cell_type": "code",
   "source": [
    "df"
   ],
   "metadata": {
    "colab": {
     "base_uri": "https://localhost:8080/",
     "height": 424
    },
    "id": "svoV0MI7IrpC",
    "outputId": "c9723dde-f542-4dbf-fd06-1e72399d4b46",
    "pycharm": {
     "name": "#%%\n"
    }
   },
   "execution_count": 5,
   "outputs": [
    {
     "output_type": "execute_result",
     "data": {
      "text/plain": [
       "       category  category_id  \\\n",
       "0         adabh            0   \n",
       "1         adabh            0   \n",
       "2         adabh            0   \n",
       "3         ejtem            1   \n",
       "4         elmfa            2   \n",
       "...         ...          ...   \n",
       "165220    vrzsh           10   \n",
       "165221    vrzsh           10   \n",
       "165222    vrzsh           10   \n",
       "165223    vrzsh           10   \n",
       "165224    vrzsh           10   \n",
       "\n",
       "                                                   tokens  \n",
       "0       [جاودانگی, زندگی, گروهی, طریق, هنر, نگاه, نمای...  \n",
       "1       [رویداد, هنر, جهان, نمایشگاه, هنر, خدمت, دیکتا...  \n",
       "2       [بردیوار, نگارخانه, گالری, گلستان, نمایشگاه, ط...  \n",
       "3       [بازی, جدی, گرفت#گیر, مطالعه, مقدمات, نقش, باز...  \n",
       "4       [تخته, سیاه, غبار, سترده, شد#شو, اشاره;, رغم, ...  \n",
       "...                                                   ...  \n",
       "165220  [نماینده, فدراسیون, جهانی, والیبال, ایران, نظر...  \n",
       "165221  [شکست, نامدار, تکواندودر, پیکار, برتر, لیگ, گر...  \n",
       "165222  [ورزشگاه, بزرگ, دانشگاه, آزاد, تهران, ساخت#ساز...  \n",
       "165223  [رئیس, فدراسیون, پزشک, انتخاب, گروه, ورزش, مجم...  \n",
       "165224  [نتایج, هفته, یازدهم, وزنه, بردار, باشگاه, گرو...  \n",
       "\n",
       "[165225 rows x 3 columns]"
      ],
      "text/html": [
       "\n",
       "  <div id=\"df-f66b4a39-dca1-43c6-9995-1a9b201b99d0\">\n",
       "    <div class=\"colab-df-container\">\n",
       "      <div>\n",
       "<style scoped>\n",
       "    .dataframe tbody tr th:only-of-type {\n",
       "        vertical-align: middle;\n",
       "    }\n",
       "\n",
       "    .dataframe tbody tr th {\n",
       "        vertical-align: top;\n",
       "    }\n",
       "\n",
       "    .dataframe thead th {\n",
       "        text-align: right;\n",
       "    }\n",
       "</style>\n",
       "<table border=\"1\" class=\"dataframe\">\n",
       "  <thead>\n",
       "    <tr style=\"text-align: right;\">\n",
       "      <th></th>\n",
       "      <th>category</th>\n",
       "      <th>category_id</th>\n",
       "      <th>tokens</th>\n",
       "    </tr>\n",
       "  </thead>\n",
       "  <tbody>\n",
       "    <tr>\n",
       "      <th>0</th>\n",
       "      <td>adabh</td>\n",
       "      <td>0</td>\n",
       "      <td>[جاودانگی, زندگی, گروهی, طریق, هنر, نگاه, نمای...</td>\n",
       "    </tr>\n",
       "    <tr>\n",
       "      <th>1</th>\n",
       "      <td>adabh</td>\n",
       "      <td>0</td>\n",
       "      <td>[رویداد, هنر, جهان, نمایشگاه, هنر, خدمت, دیکتا...</td>\n",
       "    </tr>\n",
       "    <tr>\n",
       "      <th>2</th>\n",
       "      <td>adabh</td>\n",
       "      <td>0</td>\n",
       "      <td>[بردیوار, نگارخانه, گالری, گلستان, نمایشگاه, ط...</td>\n",
       "    </tr>\n",
       "    <tr>\n",
       "      <th>3</th>\n",
       "      <td>ejtem</td>\n",
       "      <td>1</td>\n",
       "      <td>[بازی, جدی, گرفت#گیر, مطالعه, مقدمات, نقش, باز...</td>\n",
       "    </tr>\n",
       "    <tr>\n",
       "      <th>4</th>\n",
       "      <td>elmfa</td>\n",
       "      <td>2</td>\n",
       "      <td>[تخته, سیاه, غبار, سترده, شد#شو, اشاره;, رغم, ...</td>\n",
       "    </tr>\n",
       "    <tr>\n",
       "      <th>...</th>\n",
       "      <td>...</td>\n",
       "      <td>...</td>\n",
       "      <td>...</td>\n",
       "    </tr>\n",
       "    <tr>\n",
       "      <th>165220</th>\n",
       "      <td>vrzsh</td>\n",
       "      <td>10</td>\n",
       "      <td>[نماینده, فدراسیون, جهانی, والیبال, ایران, نظر...</td>\n",
       "    </tr>\n",
       "    <tr>\n",
       "      <th>165221</th>\n",
       "      <td>vrzsh</td>\n",
       "      <td>10</td>\n",
       "      <td>[شکست, نامدار, تکواندودر, پیکار, برتر, لیگ, گر...</td>\n",
       "    </tr>\n",
       "    <tr>\n",
       "      <th>165222</th>\n",
       "      <td>vrzsh</td>\n",
       "      <td>10</td>\n",
       "      <td>[ورزشگاه, بزرگ, دانشگاه, آزاد, تهران, ساخت#ساز...</td>\n",
       "    </tr>\n",
       "    <tr>\n",
       "      <th>165223</th>\n",
       "      <td>vrzsh</td>\n",
       "      <td>10</td>\n",
       "      <td>[رئیس, فدراسیون, پزشک, انتخاب, گروه, ورزش, مجم...</td>\n",
       "    </tr>\n",
       "    <tr>\n",
       "      <th>165224</th>\n",
       "      <td>vrzsh</td>\n",
       "      <td>10</td>\n",
       "      <td>[نتایج, هفته, یازدهم, وزنه, بردار, باشگاه, گرو...</td>\n",
       "    </tr>\n",
       "  </tbody>\n",
       "</table>\n",
       "<p>165225 rows × 3 columns</p>\n",
       "</div>\n",
       "      <button class=\"colab-df-convert\" onclick=\"convertToInteractive('df-f66b4a39-dca1-43c6-9995-1a9b201b99d0')\"\n",
       "              title=\"Convert this dataframe to an interactive table.\"\n",
       "              style=\"display:none;\">\n",
       "        \n",
       "  <svg xmlns=\"http://www.w3.org/2000/svg\" height=\"24px\"viewBox=\"0 0 24 24\"\n",
       "       width=\"24px\">\n",
       "    <path d=\"M0 0h24v24H0V0z\" fill=\"none\"/>\n",
       "    <path d=\"M18.56 5.44l.94 2.06.94-2.06 2.06-.94-2.06-.94-.94-2.06-.94 2.06-2.06.94zm-11 1L8.5 8.5l.94-2.06 2.06-.94-2.06-.94L8.5 2.5l-.94 2.06-2.06.94zm10 10l.94 2.06.94-2.06 2.06-.94-2.06-.94-.94-2.06-.94 2.06-2.06.94z\"/><path d=\"M17.41 7.96l-1.37-1.37c-.4-.4-.92-.59-1.43-.59-.52 0-1.04.2-1.43.59L10.3 9.45l-7.72 7.72c-.78.78-.78 2.05 0 2.83L4 21.41c.39.39.9.59 1.41.59.51 0 1.02-.2 1.41-.59l7.78-7.78 2.81-2.81c.8-.78.8-2.07 0-2.86zM5.41 20L4 18.59l7.72-7.72 1.47 1.35L5.41 20z\"/>\n",
       "  </svg>\n",
       "      </button>\n",
       "      \n",
       "  <style>\n",
       "    .colab-df-container {\n",
       "      display:flex;\n",
       "      flex-wrap:wrap;\n",
       "      gap: 12px;\n",
       "    }\n",
       "\n",
       "    .colab-df-convert {\n",
       "      background-color: #E8F0FE;\n",
       "      border: none;\n",
       "      border-radius: 50%;\n",
       "      cursor: pointer;\n",
       "      display: none;\n",
       "      fill: #1967D2;\n",
       "      height: 32px;\n",
       "      padding: 0 0 0 0;\n",
       "      width: 32px;\n",
       "    }\n",
       "\n",
       "    .colab-df-convert:hover {\n",
       "      background-color: #E2EBFA;\n",
       "      box-shadow: 0px 1px 2px rgba(60, 64, 67, 0.3), 0px 1px 3px 1px rgba(60, 64, 67, 0.15);\n",
       "      fill: #174EA6;\n",
       "    }\n",
       "\n",
       "    [theme=dark] .colab-df-convert {\n",
       "      background-color: #3B4455;\n",
       "      fill: #D2E3FC;\n",
       "    }\n",
       "\n",
       "    [theme=dark] .colab-df-convert:hover {\n",
       "      background-color: #434B5C;\n",
       "      box-shadow: 0px 1px 3px 1px rgba(0, 0, 0, 0.15);\n",
       "      filter: drop-shadow(0px 1px 2px rgba(0, 0, 0, 0.3));\n",
       "      fill: #FFFFFF;\n",
       "    }\n",
       "  </style>\n",
       "\n",
       "      <script>\n",
       "        const buttonEl =\n",
       "          document.querySelector('#df-f66b4a39-dca1-43c6-9995-1a9b201b99d0 button.colab-df-convert');\n",
       "        buttonEl.style.display =\n",
       "          google.colab.kernel.accessAllowed ? 'block' : 'none';\n",
       "\n",
       "        async function convertToInteractive(key) {\n",
       "          const element = document.querySelector('#df-f66b4a39-dca1-43c6-9995-1a9b201b99d0');\n",
       "          const dataTable =\n",
       "            await google.colab.kernel.invokeFunction('convertToInteractive',\n",
       "                                                     [key], {});\n",
       "          if (!dataTable) return;\n",
       "\n",
       "          const docLinkHtml = 'Like what you see? Visit the ' +\n",
       "            '<a target=\"_blank\" href=https://colab.research.google.com/notebooks/data_table.ipynb>data table notebook</a>'\n",
       "            + ' to learn more about interactive tables.';\n",
       "          element.innerHTML = '';\n",
       "          dataTable['output_type'] = 'display_data';\n",
       "          await google.colab.output.renderOutput(dataTable, element);\n",
       "          const docLink = document.createElement('div');\n",
       "          docLink.innerHTML = docLinkHtml;\n",
       "          element.appendChild(docLink);\n",
       "        }\n",
       "      </script>\n",
       "    </div>\n",
       "  </div>\n",
       "  "
      ]
     },
     "metadata": {},
     "execution_count": 5
    }
   ]
  },
  {
   "cell_type": "code",
   "source": [
    "LIMIT_CAT_COUNT_NEWS = 1000\n",
    "cat_count = df.category.value_counts()\n",
    "cat_count = cat_count[cat_count > LIMIT_CAT_COUNT_NEWS]\n",
    "df = df[df['category'].isin(cat_count.keys())]\n",
    "print(cat_count.shape)\n",
    "# print(df_limited.shape)\n",
    "print(df.shape)"
   ],
   "metadata": {
    "colab": {
     "base_uri": "https://localhost:8080/"
    },
    "id": "acLiCH1oIrki",
    "outputId": "b3bec2cf-0137-473e-c18d-c8b24141c481",
    "pycharm": {
     "name": "#%%\n"
    }
   },
   "execution_count": 6,
   "outputs": [
    {
     "output_type": "stream",
     "name": "stdout",
     "text": [
      "(22,)\n",
      "(148352, 3)\n"
     ]
    }
   ]
  },
  {
   "cell_type": "code",
   "source": [
    "!wget -O hamshahri.rar \"https://drive.google.com/u/0/uc?id=1D3yt99D0GcCRCbdKbUQGxbqjkeh91hTg&export=download&confirm=t&uuid=8cf8ef84-5033-4de3-97dc-588c35004d6c\" "
   ],
   "metadata": {
    "id": "G-NGUHjAgEyq",
    "colab": {
     "base_uri": "https://localhost:8080/"
    },
    "outputId": "01a71183-03b4-47b5-a8d4-d8fc6a3668bd",
    "pycharm": {
     "name": "#%%\n"
    }
   },
   "execution_count": 7,
   "outputs": [
    {
     "output_type": "stream",
     "name": "stdout",
     "text": [
      "--2022-07-12 06:37:06--  https://drive.google.com/u/0/uc?id=1D3yt99D0GcCRCbdKbUQGxbqjkeh91hTg&export=download&confirm=t&uuid=8cf8ef84-5033-4de3-97dc-588c35004d6c\n",
      "Resolving drive.google.com (drive.google.com)... 142.250.141.101, 142.250.141.139, 142.250.141.113, ...\n",
      "Connecting to drive.google.com (drive.google.com)|142.250.141.101|:443... connected.\n",
      "HTTP request sent, awaiting response... 302 Found\n",
      "Location: https://drive.google.com/uc?id=1D3yt99D0GcCRCbdKbUQGxbqjkeh91hTg&export=download&confirm=t&uuid=8cf8ef84-5033-4de3-97dc-588c35004d6c [following]\n",
      "--2022-07-12 06:37:06--  https://drive.google.com/uc?id=1D3yt99D0GcCRCbdKbUQGxbqjkeh91hTg&export=download&confirm=t&uuid=8cf8ef84-5033-4de3-97dc-588c35004d6c\n",
      "Reusing existing connection to drive.google.com:443.\n",
      "HTTP request sent, awaiting response... 303 See Other\n",
      "Location: https://doc-0o-c8-docs.googleusercontent.com/docs/securesc/ha0ro937gcuc7l7deffksulhg5h7mbp1/he2kr5d0ndi54t003u25uee8e8of6jkl/1657607775000/07941729757921727235/*/1D3yt99D0GcCRCbdKbUQGxbqjkeh91hTg?e=download&uuid=8cf8ef84-5033-4de3-97dc-588c35004d6c [following]\n",
      "Warning: wildcards not supported in HTTP.\n",
      "--2022-07-12 06:37:06--  https://doc-0o-c8-docs.googleusercontent.com/docs/securesc/ha0ro937gcuc7l7deffksulhg5h7mbp1/he2kr5d0ndi54t003u25uee8e8of6jkl/1657607775000/07941729757921727235/*/1D3yt99D0GcCRCbdKbUQGxbqjkeh91hTg?e=download&uuid=8cf8ef84-5033-4de3-97dc-588c35004d6c\n",
      "Resolving doc-0o-c8-docs.googleusercontent.com (doc-0o-c8-docs.googleusercontent.com)... 142.251.2.132, 2607:f8b0:4023:c0d::84\n",
      "Connecting to doc-0o-c8-docs.googleusercontent.com (doc-0o-c8-docs.googleusercontent.com)|142.251.2.132|:443... connected.\n",
      "HTTP request sent, awaiting response... 200 OK\n",
      "Length: 872580674 (832M) [application/x-rar]\n",
      "Saving to: ‘hamshahri.rar’\n",
      "\n",
      "hamshahri.rar       100%[===================>] 832.16M   104MB/s    in 7.5s    \n",
      "\n",
      "2022-07-12 06:37:14 (110 MB/s) - ‘hamshahri.rar’ saved [872580674/872580674]\n",
      "\n"
     ]
    }
   ]
  },
  {
   "cell_type": "code",
   "source": [
    "!unrar x hamshahri.rar"
   ],
   "metadata": {
    "id": "OLejfJa8gE2k",
    "colab": {
     "base_uri": "https://localhost:8080/"
    },
    "outputId": "60bf1b5b-4444-4842-ff3f-a69d40945c0c",
    "pycharm": {
     "name": "#%%\n"
    }
   },
   "execution_count": 8,
   "outputs": [
    {
     "output_type": "stream",
     "name": "stdout",
     "text": [
      "\n",
      "UNRAR 5.50 freeware      Copyright (c) 1993-2017 Alexander Roshal\n",
      "\n",
      "\n",
      "Extracting from hamshahri.rar\n",
      "\n",
      "Creating    hamshahriold                                              OK\n",
      "Creating    hamshahriold/CLEF                                         OK\n",
      "Creating    hamshahriold/CLEF/images                                  OK\n",
      "Extracting  hamshahriold/CLEF/images/ar.JPG                              \b\b\b\b  0%\b\b\b\b\b  OK \n",
      "Extracting  hamshahriold/CLEF/images/ar.psd                              \b\b\b\b  0%\b\b\b\b\b  OK \n",
      "Extracting  hamshahriold/CLEF/images/ar2.JPG                             \b\b\b\b  0%\b\b\b\b\b  OK \n",
      "Extracting  hamshahriold/CLEF/images/arrow.jpg                           \b\b\b\b  0%\b\b\b\b\b  OK \n",
      "Extracting  hamshahriold/CLEF/images/basebg1.jpg                         \b\b\b\b  0%\b\b\b\b\b  OK \n",
      "Extracting  hamshahriold/CLEF/images/basebg2.jpg                         \b\b\b\b  0%\b\b\b\b\b  OK \n",
      "Extracting  hamshahriold/CLEF/images/celct_name.gif                      \b\b\b\b  0%\b\b\b\b\b  OK \n",
      "Extracting  hamshahriold/CLEF/images/DBRG.css                            \b\b\b\b  0%\b\b\b\b\b  OK \n",
      "Extracting  hamshahriold/CLEF/images/DBRG.js                             \b\b\b\b  0%\b\b\b\b\b  OK \n",
      "Extracting  hamshahriold/CLEF/images/ELDA logo.gif                       \b\b\b\b  0%\b\b\b\b\b  OK \n",
      "Extracting  hamshahriold/CLEF/images/ELRA-logo_1.gif                     \b\b\b\b  0%\b\b\b\b\b  OK \n",
      "Extracting  hamshahriold/CLEF/images/iran.jpg                            \b\b\b\b  0%\b\b\b\b\b  OK \n",
      "Extracting  hamshahriold/CLEF/images/logo-small.jpg                      \b\b\b\b  0%\b\b\b\b\b  OK \n",
      "Extracting  hamshahriold/CLEF/images/logo.gif                            \b\b\b\b  0%\b\b\b\b\b  OK \n",
      "Extracting  hamshahriold/CLEF/images/logo300.gif                         \b\b\b\b  0%\b\b\b\b\b  OK \n",
      "Extracting  hamshahriold/CLEF/images/Logo_Clairvoyance.gif               \b\b\b\b  0%\b\b\b\b\b  OK \n",
      "Extracting  hamshahriold/CLEF/images/MSR_type300.JPG                     \b\b\b\b  0%\b\b\b\b\b  OK \n",
      "Extracting  hamshahriold/CLEF/images/navbasebg.jpg                       \b\b\b\b  0%\b\b\b\b\b  OK \n",
      "Extracting  hamshahriold/CLEF/images/navspacer.jpg                       \b\b\b\b  0%\b\b\b\b\b  OK \n",
      "Extracting  hamshahriold/CLEF/images/pdf.gif                             \b\b\b\b  0%\b\b\b\b\b  OK \n",
      "Extracting  hamshahriold/CLEF/images/powerpoint.jpg                      \b\b\b\b  0%\b\b\b\b\b  OK \n",
      "Extracting  hamshahriold/CLEF/images/spacer.gif                          \b\b\b\b  0%\b\b\b\b\b  OK \n",
      "Extracting  hamshahriold/CLEF/images/Thumbs.db                           \b\b\b\b  0%\b\b\b\b\b  OK \n",
      "Extracting  hamshahriold/CLEF/images/topbg.jpg                           \b\b\b\b  0%\b\b\b\b\b  OK \n",
      "Extracting  hamshahriold/CLEF/images/topmidspace.jpg                     \b\b\b\b  0%\b\b\b\b\b  OK \n",
      "Extracting  hamshahriold/CLEF/images/topnavbg.jpg                        \b\b\b\b  0%\b\b\b\b\b  OK \n",
      "Extracting  hamshahriold/CLEF/images/untitled.GIF                        \b\b\b\b  0%\b\b\b\b\b  OK \n",
      "Extracting  hamshahriold/CLEF/images/ut.jpg                              \b\b\b\b  0%\b\b\b\b\b  OK \n",
      "Extracting  hamshahriold/CLEF/images/zip.png                             \b\b\b\b  0%\b\b\b\b\b  OK \n",
      "Extracting  hamshahriold/CLEF/index.html                                 \b\b\b\b  0%\b\b\b\b\b  OK \n",
      "Creating    hamshahriold/Corpus                                       OK\n",
      "Extracting  hamshahriold/Corpus/Hamshahri-All (SQL).zip                  \b\b\b\b  0%\b\b\b\b  1%\b\b\b\b  2%\b\b\b\b  3%\b\b\b\b  4%\b\b\b\b  5%\b\b\b\b  6%\b\b\b\b  7%\b\b\b\b  8%\b\b\b\b  9%\b\b\b\b 10%\b\b\b\b 11%\b\b\b\b 12%\b\b\b\b\b  OK \n",
      "Extracting  hamshahriold/Corpus/Hamshahri-Categories.txt                 \b\b\b\b 12%\b\b\b\b\b  OK \n",
      "Extracting  hamshahriold/Corpus/Hamshahri-Corpus.zip                     \b\b\b\b 12%\b\b\b\b 13%\b\b\b\b 14%\b\b\b\b 15%\b\b\b\b 16%\b\b\b\b 17%\b\b\b\b 18%\b\b\b\b 19%\b\b\b\b 20%\b\b\b\b 21%\b\b\b\b 22%\b\b\b\b 23%\b\b\b\b 24%\b\b\b\b 25%\b\b\b\b 26%\b\b\b\b 27%\b\b\b\b 28%\b\b\b\b 29%\b\b\b\b 30%\b\b\b\b\b  OK \n",
      "Extracting  hamshahriold/Corpus/Hamshahri-Query_Judgement.zip            \b\b\b\b 30%\b\b\b\b\b  OK \n",
      "Extracting  hamshahriold/Corpus/Hamshahri-Query_Judgement_old.zip        \b\b\b\b 30%\b\b\b\b\b  OK \n",
      "Extracting  hamshahriold/Corpus/Hamshahri-Sample.txt                     \b\b\b\b 30%\b\b\b\b\b  OK \n",
      "Extracting  hamshahriold/Corpus/PersianStopWords.zip                     \b\b\b\b 30%\b\b\b\b\b  OK \n",
      "Extracting  hamshahriold/fa.htm                                          \b\b\b\b 30%\b\b\b\b\b  OK \n",
      "Creating    hamshahriold/ham2                                         OK\n",
      "Extracting  hamshahriold/ham2/Categories.txt                             \b\b\b\b 30%\b\b\b\b\b  OK \n",
      "Extracting  hamshahriold/ham2/copyright.txt                              \b\b\b\b 30%\b\b\b\b\b  OK \n",
      "Creating    hamshahriold/ham2/corpus                                  OK\n",
      "Extracting  hamshahriold/ham2/corpus/HAM2.rar                            \b\b\b\b 30%\b\b\b\b 31%\b\b\b\b 32%\b\b\b\b 33%\b\b\b\b 34%\b\b\b\b 35%\b\b\b\b 36%\b\b\b\b 37%\b\b\b\b 38%\b\b\b\b 39%\b\b\b\b 40%\b\b\b\b 41%\b\b\b\b 42%\b\b\b\b 43%\b\b\b\b 44%\b\b\b\b 45%\b\b\b\b 46%\b\b\b\b 47%\b\b\b\b 48%\b\b\b\b 49%\b\b\b\b 50%\b\b\b\b 51%\b\b\b\b 52%\b\b\b\b 53%\b\b\b\b 54%\b\b\b\b 55%\b\b\b\b\b  OK \n",
      "Extracting  hamshahriold/ham2/Ham.doc                                    \b\b\b\b 55%\b\b\b\b\b  OK \n",
      "Extracting  hamshahriold/ham2/HAM2-990102.xml                            \b\b\b\b 55%\b\b\b\b\b  OK \n",
      "Extracting  hamshahriold/ham2/hamshahri.dtd                              \b\b\b\b 55%\b\b\b\b\b  OK \n",
      "Extracting  hamshahriold/ham2/Help.txt                                   \b\b\b\b 55%\b\b\b\b\b  OK \n",
      "Creating    hamshahriold/ham2/images                                  OK\n",
      "Extracting  hamshahriold/ham2/images/back.jpg                            \b\b\b\b 55%\b\b\b\b\b  OK \n",
      "Extracting  hamshahriold/ham2/images/background.jpg                      \b\b\b\b 55%\b\b\b\b\b  OK \n",
      "Extracting  hamshahriold/ham2/images/bar-left.jpg                        \b\b\b\b 55%\b\b\b\b\b  OK \n",
      "Extracting  hamshahriold/ham2/images/bar-right.jpg                       \b\b\b\b 55%\b\b\b\b\b  OK \n",
      "Extracting  hamshahriold/ham2/images/down-back.jpg                       \b\b\b\b 55%\b\b\b\b\b  OK \n",
      "Extracting  hamshahriold/ham2/images/down-left.jpg                       \b\b\b\b 55%\b\b\b\b\b  OK \n",
      "Extracting  hamshahriold/ham2/images/down-right.jpg                      \b\b\b\b 55%\b\b\b\b\b  OK \n",
      "Extracting  hamshahriold/ham2/images/down.jpg                            \b\b\b\b 55%\b\b\b\b\b  OK \n",
      "Extracting  hamshahriold/ham2/images/left.jpg                            \b\b\b\b 55%\b\b\b\b\b  OK \n",
      "Extracting  hamshahriold/ham2/images/logo-small-transparent.gif          \b\b\b\b 55%\b\b\b\b\b  OK \n",
      "Extracting  hamshahriold/ham2/images/logo-small.jpg                      \b\b\b\b 55%\b\b\b\b\b  OK \n",
      "Extracting  hamshahriold/ham2/images/logo.jpg                            \b\b\b\b 55%\b\b\b\b\b  OK \n",
      "Extracting  hamshahriold/ham2/images/logo.psd                            \b\b\b\b 55%\b\b\b\b\b  OK \n",
      "Extracting  hamshahriold/ham2/images/pdf.gif                             \b\b\b\b 55%\b\b\b\b\b  OK \n",
      "Extracting  hamshahriold/ham2/images/pdfs.gif                            \b\b\b\b 55%\b\b\b\b\b  OK \n",
      "Extracting  hamshahriold/ham2/images/powerpoint-2.gif                    \b\b\b\b 55%\b\b\b\b\b  OK \n",
      "Extracting  hamshahriold/ham2/images/powerpoint-3.jpg                    \b\b\b\b 55%\b\b\b\b\b  OK \n",
      "Extracting  hamshahriold/ham2/images/powerpoint-3s.jpg                   \b\b\b\b 55%\b\b\b\b\b  OK \n",
      "Extracting  hamshahriold/ham2/images/powerpoint.jpg                      \b\b\b\b 55%\b\b\b\b\b  OK \n",
      "Extracting  hamshahriold/ham2/images/rar.gif                             \b\b\b\b 55%\b\b\b\b\b  OK \n",
      "Extracting  hamshahriold/ham2/images/right.jpg                           \b\b\b\b 55%\b\b\b\b\b  OK \n",
      "Extracting  hamshahriold/ham2/images/txt.gif                             \b\b\b\b 55%\b\b\b\b\b  OK \n",
      "Extracting  hamshahriold/ham2/images/zip.png                             \b\b\b\b 55%\b\b\b\b\b  OK \n",
      "Extracting  hamshahriold/ham2/index.htm                                  \b\b\b\b 55%\b\b\b\b\b  OK \n",
      "Extracting  hamshahriold/ham2/indexold.htm                               \b\b\b\b 55%\b\b\b\b\b  OK \n",
      "Creating    hamshahriold/images                                       OK\n",
      "Extracting  hamshahriold/images/arrow.jpg                                \b\b\b\b 55%\b\b\b\b\b  OK \n",
      "Extracting  hamshahriold/images/back.jpg                                 \b\b\b\b 55%\b\b\b\b\b  OK \n",
      "Extracting  hamshahriold/images/background.jpg                           \b\b\b\b 55%\b\b\b\b\b  OK \n",
      "Extracting  hamshahriold/images/bar-left.jpg                             \b\b\b\b 55%\b\b\b\b\b  OK \n",
      "Extracting  hamshahriold/images/bar-right.jpg                            \b\b\b\b 55%\b\b\b\b\b  OK \n",
      "Extracting  hamshahriold/images/basebg1.jpg                              \b\b\b\b 55%\b\b\b\b\b  OK \n",
      "Extracting  hamshahriold/images/basebg2.jpg                              \b\b\b\b 55%\b\b\b\b\b  OK \n",
      "Extracting  hamshahriold/images/DBRG.css                                 \b\b\b\b 55%\b\b\b\b\b  OK \n",
      "Extracting  hamshahriold/images/DBRG.js                                  \b\b\b\b 55%\b\b\b\b\b  OK \n",
      "Extracting  hamshahriold/images/down-back.jpg                            \b\b\b\b 55%\b\b\b\b\b  OK \n",
      "Extracting  hamshahriold/images/down-left.jpg                            \b\b\b\b 55%\b\b\b\b\b  OK \n",
      "Extracting  hamshahriold/images/down-right.jpg                           \b\b\b\b 55%\b\b\b\b\b  OK \n",
      "Extracting  hamshahriold/images/down.jpg                                 \b\b\b\b 55%\b\b\b\b\b  OK \n",
      "Extracting  hamshahriold/images/iran.jpg                                 \b\b\b\b 55%\b\b\b\b\b  OK \n",
      "Extracting  hamshahriold/images/left.jpg                                 \b\b\b\b 55%\b\b\b\b\b  OK \n",
      "Extracting  hamshahriold/images/logo-small.jpg                           \b\b\b\b 55%\b\b\b\b\b  OK \n",
      "Extracting  hamshahriold/images/logo.jpg                                 \b\b\b\b 55%\b\b\b\b\b  OK \n",
      "Extracting  hamshahriold/images/navbasebg.jpg                            \b\b\b\b 55%\b\b\b\b\b  OK \n",
      "Extracting  hamshahriold/images/navspacer.jpg                            \b\b\b\b 55%\b\b\b\b\b  OK \n",
      "Extracting  hamshahriold/images/pdf.gif                                  \b\b\b\b 55%\b\b\b\b\b  OK \n",
      "Extracting  hamshahriold/images/pdfs.gif                                 \b\b\b\b 55%\b\b\b\b\b  OK \n",
      "Extracting  hamshahriold/images/powerpoint-2.gif                         \b\b\b\b 55%\b\b\b\b\b  OK \n",
      "Extracting  hamshahriold/images/powerpoint-3.jpg                         \b\b\b\b 55%\b\b\b\b\b  OK \n",
      "Extracting  hamshahriold/images/powerpoint-3s.jpg                        \b\b\b\b 55%\b\b\b\b\b  OK \n",
      "Extracting  hamshahriold/images/powerpoint.jpg                           \b\b\b\b 55%\b\b\b\b\b  OK \n",
      "Extracting  hamshahriold/images/right.jpg                                \b\b\b\b 55%\b\b\b\b\b  OK \n",
      "Extracting  hamshahriold/images/spacer.gif                               \b\b\b\b 55%\b\b\b\b\b  OK \n",
      "Extracting  hamshahriold/images/Thumbs.db                                \b\b\b\b 55%\b\b\b\b\b  OK \n",
      "Extracting  hamshahriold/images/topbg.jpg                                \b\b\b\b 55%\b\b\b\b\b  OK \n",
      "Extracting  hamshahriold/images/topmidspace.jpg                          \b\b\b\b 55%\b\b\b\b\b  OK \n",
      "Extracting  hamshahriold/images/topnavbg.jpg                             \b\b\b\b 55%\b\b\b\b\b  OK \n",
      "Extracting  hamshahriold/images/ut.jpg                                   \b\b\b\b 55%\b\b\b\b\b  OK \n",
      "Extracting  hamshahriold/images/zip.png                                  \b\b\b\b 55%\b\b\b\b\b  OK \n",
      "Extracting  hamshahriold/index.html                                      \b\b\b\b 55%\b\b\b\b\b  OK \n",
      "Creating    hamshahriold/Papers                                       OK\n",
      "Extracting  hamshahriold/Papers/CAASL2-Fuzzy.pdf                         \b\b\b\b 55%\b\b\b\b\b  OK \n",
      "Extracting  hamshahriold/Papers/CAASL2-Fuzzy.ppt                         \b\b\b\b 55%\b\b\b\b\b  OK \n",
      "Extracting  hamshahriold/Papers/FuFaIR.ppt                               \b\b\b\b 55%\b\b\b\b 56%\b\b\b\b\b  OK \n",
      "Extracting  hamshahriold/Papers/Hamshahri_Description.pdf                \b\b\b\b 56%\b\b\b\b\b  OK \n",
      "Extracting  hamshahriold/Papers/isspa.pdf                                \b\b\b\b 56%\b\b\b\b\b  OK \n",
      "Extracting  hamshahriold/Papers/isspa.ppt                                \b\b\b\b 56%\b\b\b\b\b  OK \n",
      "Extracting  hamshahriold/Papers/WITID.pdf                                \b\b\b\b 56%\b\b\b\b\b  OK \n",
      "Creating    hamshahriold/Source                                       OK\n",
      "Extracting  hamshahriold/Source/LM-Top 1000.rar                          \b\b\b\b 56%\b\b\b\b\b  OK \n",
      "Extracting  hamshahriold/Source/VectorSpace_All.rar                      \b\b\b\b 56%\b\b\b\b\b  OK \n",
      "Creating    hamshahriold/Temp                                         OK\n",
      "Extracting  hamshahriold/Temp/AssessmentRules.doc                        \b\b\b\b 56%\b\b\b\b\b  OK \n",
      "Extracting  hamshahriold/Temp/CLEF Topics 1-20.xml                       \b\b\b\b 56%\b\b\b\b\b  OK \n",
      "Extracting  hamshahriold/Temp/CLEF Topics 1-65.xml                       \b\b\b\b 56%\b\b\b\b\b  OK \n",
      "Extracting  hamshahriold/Temp/CLEF Topics.xml                            \b\b\b\b 56%\b\b\b\b\b  OK \n",
      "Extracting  hamshahriold/Temp/CLEFGuidelines.zip                         \b\b\b\b 56%\b\b\b\b\b  OK \n",
      "Extracting  hamshahriold/Temp/hamshahri.dtd                              \b\b\b\b 56%\b\b\b\b\b  OK \n",
      "Extracting  hamshahriold/Temp/HamshahriStem.rar                          \b\b\b\b 56%\b\b\b\b 57%\b\b\b\b 58%\b\b\b\b 59%\b\b\b\b 60%\b\b\b\b 61%\b\b\b\b 62%\b\b\b\b 63%\b\b\b\b 64%\b\b\b\b 65%\b\b\b\b 66%\b\b\b\b 67%\b\b\b\b 68%\b\b\b\b 69%\b\b\b\b 70%\b\b\b\b 71%\b\b\b\b 72%\b\b\b\b 73%\b\b\b\b 74%\b\b\b\b\b  OK \n",
      "Extracting  hamshahriold/Temp/Light_persian_stemmer_Revised.zip          \b\b\b\b 74%\b\b\b\b\b  OK \n",
      "Extracting  hamshahriold/Temp/Query-Rel.txt                              \b\b\b\b 74%\b\b\b\b\b  OK \n",
      "Extracting  hamshahriold/Temp/Query.txt                                  \b\b\b\b 74%\b\b\b\b\b  OK \n",
      "Creating    hamshahriold/Temp/Tagged                                  OK\n",
      "Extracting  hamshahriold/Temp/Tagged/TaggedHamshahri.rar                 \b\b\b\b 74%\b\b\b\b 75%\b\b\b\b 76%\b\b\b\b 77%\b\b\b\b 78%\b\b\b\b 79%\b\b\b\b 80%\b\b\b\b 81%\b\b\b\b 82%\b\b\b\b 83%\b\b\b\b 84%\b\b\b\b 85%\b\b\b\b 86%\b\b\b\b 87%\b\b\b\b 88%\b\b\b\b 89%\b\b\b\b 90%\b\b\b\b 91%\b\b\b\b 92%\b\b\b\b 93%\b\b\b\b 94%\b\b\b\b 95%\b\b\b\b 96%\b\b\b\b 97%\b\b\b\b 98%\b\b\b\b 99%\b\b\b\b\b  OK \n",
      "All OK\n"
     ]
    }
   ]
  },
  {
   "cell_type": "code",
   "source": [
    "!unzip hamshahriold/Corpus/Hamshahri-All\\ \\(SQL\\).zip\n",
    "!unzip hamshahriold/Corpus/Hamshahri-Corpus.zip\n",
    "!unzip hamshahriold/Corpus/PersianStopWords.zip"
   ],
   "metadata": {
    "colab": {
     "base_uri": "https://localhost:8080/"
    },
    "id": "KMlhrDntgE5-",
    "outputId": "0f930906-aaaf-4f15-e4a6-a06f8259d547",
    "pycharm": {
     "name": "#%%\n"
    }
   },
   "execution_count": 9,
   "outputs": [
    {
     "output_type": "stream",
     "name": "stdout",
     "text": [
      "Archive:  hamshahriold/Corpus/Hamshahri-All (SQL).zip\n",
      "   creating: Hamshahri-All (SQL)/\n",
      "  inflating: Hamshahri-All (SQL)/Hamshahri-Term_Data.MDF  \n",
      "  inflating: Hamshahri-All (SQL)/Hamshahri-Term_Log.LDF  \n",
      "Archive:  hamshahriold/Corpus/Hamshahri-Corpus.zip\n",
      "  inflating: Hamshahri-Corpus.txt    \n",
      "Archive:  hamshahriold/Corpus/PersianStopWords.zip\n",
      "  inflating: PersianStopWords.txt    \n"
     ]
    }
   ]
  },
  {
   "cell_type": "code",
   "source": [
    "# !unzip hamshahriold/Corpus/Hamshahri-Query_Judgement.zip\n",
    "# !unzip hamshahriold/Corpus/Hamshahri-Query_Judgement_old.zip\n"
   ],
   "metadata": {
    "id": "hYadediCgE85",
    "pycharm": {
     "name": "#%%\n"
    }
   },
   "execution_count": null,
   "outputs": []
  },
  {
   "cell_type": "code",
   "source": [
    "!cat hamshahriold/Corpus/Hamshahri-Sample.txt"
   ],
   "metadata": {
    "id": "ZDfZV876uKyM",
    "colab": {
     "base_uri": "https://localhost:8080/"
    },
    "outputId": "495f6fc9-0859-41dd-a7df-1f4fbb5aeff4",
    "pycharm": {
     "name": "#%%\n"
    }
   },
   "execution_count": null,
   "outputs": [
    {
     "output_type": "stream",
     "name": "stdout",
     "text": [
      "﻿.DID\t1S1\r\n",
      ".Date\t75\\04\\02\r\n",
      ".Cat\tadabh\r\n",
      "جاودانگي در زندگي گروهي از طريق هنر \n",
      "نگاهي به نمايشگاه آثار هنري احمد طباطبايي \n",
      "موضوع آثار طباطبايي مورچگان هستند ولي در باطن چنين ظاهري، اين \n",
      "انسانهاهستند كه در هيبتي حشره گونه در تابلوهاي نقاشي نمايشگر \n",
      "گوشه هايي از زندگي خود هستند. \r\n",
      "\r\n",
      ".DID\t2S1\r\n",
      ".Date\t75\\05\\02\r\n",
      ".Cat\tadabh\r\n",
      "رويدادهاي هنري جهان \n",
      "نمايشگاه هنر در خدمت ديكتاتورها \n",
      "نمايشگاه ارتباط بين هنر وقدرت ديكتاتورها در اروپا درشهر برلين \n",
      "آغاز به كار كرد. به گزارش واحد مركزي خبر به نقل از شبكه خبري \r\n",
      "\r\n",
      ".DID\t3S1\r\n",
      ".Date\t75\\04\\12\r\n",
      ".Cat\tadabh\r\n",
      "برديوار نگارخانه ها \n",
      "گالري گلستان: \n",
      "نمايشگاه طرح و ساخت نقره وسنگ ثريا امانپور از 5 تيرماه 12تا\n",
      "از ساعت 9 تا 12 16تا 20 و خيابان دروس شهيدكماسايي شماره \n",
      ". تلفن 2541589. 42 \n",
      "نگارخانه آفرينش سرو: نمايشگاه آثار عكاسي شهريار توكلي و فرشيد \r\n",
      "\r\n",
      ".DID\t4S1\r\n",
      ".Date\t75\\04\\02\r\n",
      ".Cat\tejtem\r\n",
      "بازي را جدي بگيريم \n",
      "مطالعه اي مقدماتي پيرامون نقش بازي در زندگي اجتماعي و ساماندهي \n",
      "گردشگاهها \n",
      "حركت و شلوغ كردن جلوه اي ازلذت كودكانه است، سركوبومخالفت با \n",
      "جنب وجوش كودكان بتدريج آسيب رواني به بار مي آورد زمينهاي بازي \n",
      "بايد فعاليتهاي هنرمندانه و سازنده را در كنار بازيهاي پرتحرك تشويق \n",
      "و ترويج كند \r\n",
      "\r\n",
      "\r\n",
      ".DID\t4S2\r\n",
      ".Date\t75\\04\\30\r\n",
      ".Cat\telmfa\r\n",
      "آيا بهتر نيست مديران مدارس تعمير و رنگ هرساله تخته سياه را در \n",
      "سر فصل برنامه هاي كارتابستاني خود قرار بياييم؟ دهند در تابستان \n",
      "هر سال خستگي يك سال تحصيلي رااز روي تخته سياههاي مدارس بزداييم \n",
      "و با زدن رنگ و تعمير كردن آنها به استقبال سال تحصيلي جديدبرويم \n",
      "و بگذاريم اين وسيله آموزشي نيز در ابتداي سال، با ظاهري زيبا، \n",
      "پذيراي دانش آموزان در مدارس باشد. تخته سياه، وسيله اي موثر در "
     ]
    }
   ]
  },
  {
   "cell_type": "code",
   "source": [
    "dict_ = {}\n",
    "list_of_dict = []\n",
    "\n",
    "with open('Hamshahri-Corpus.txt',\"r\") as content:\n",
    "    content = content.read()\n",
    "lines = content.split(\"\\n\")\n",
    "lines = [line for line in lines if line]\n",
    "line_count = len(lines) -1 \n",
    "  \n",
    "for index, line in enumerate(lines):\n",
    "    if '.DID' in line and dict_:\n",
    "        list_of_dict.append(dict_)\n",
    "        dict_ = {}\n",
    "\n",
    "    if '.Cat' in line:\n",
    "        dict_['category'] = line.split(\".Cat\\t\",1)[1]\n",
    "\n",
    "    elif not re.match(r\"^.[A-Z]\", line) and line:\n",
    "        if 'text' in dict_:\n",
    "            dict_['text'] += line\n",
    "        else:\n",
    "            dict_['text'] = line\n",
    "\n",
    "    if line_count == index and dict_:\n",
    "        list_of_dict.append(dict_)\n",
    "        dict_ = {}\n",
    "\n",
    "len(list_of_dict)"
   ],
   "metadata": {
    "id": "6Gke85WJySd4",
    "pycharm": {
     "name": "#%%\n"
    }
   },
   "execution_count": null,
   "outputs": []
  },
  {
   "cell_type": "code",
   "source": [
    "df = pd.DataFrame(list_of_dict)\n",
    "df.head(20)\n",
    "df.to_csv('data.csv')"
   ],
   "metadata": {
    "id": "_bnef0Hx1Q4d",
    "pycharm": {
     "name": "#%%\n"
    }
   },
   "execution_count": null,
   "outputs": []
  },
  {
   "cell_type": "code",
   "source": [
    "df['category_id'] = df['category'].factorize()[0]\n",
    "df.tail(10)"
   ],
   "metadata": {
    "id": "hh3X-HieXiJx",
    "colab": {
     "base_uri": "https://localhost:8080/",
     "height": 467
    },
    "outputId": "20e87866-632d-4569-f5b3-3cadf25c3ec2",
    "pycharm": {
     "name": "#%%\n"
    }
   },
   "execution_count": null,
   "outputs": [
    {
     "output_type": "stream",
     "name": "stderr",
     "text": [
      "/usr/local/lib/python3.7/dist-packages/ipykernel_launcher.py:1: SettingWithCopyWarning: \n",
      "A value is trying to be set on a copy of a slice from a DataFrame.\n",
      "Try using .loc[row_indexer,col_indexer] = value instead\n",
      "\n",
      "See the caveats in the documentation: https://pandas.pydata.org/pandas-docs/stable/user_guide/indexing.html#returning-a-view-versus-a-copy\n",
      "  \"\"\"Entry point for launching an IPython kernel.\n"
     ]
    },
    {
     "output_type": "execute_result",
     "data": {
      "text/plain": [
       "       category  category_id  \\\n",
       "165207    siasi            9   \n",
       "165208    siasi            9   \n",
       "165209    siasi            9   \n",
       "165210    siasi            9   \n",
       "165219    vrzsh           10   \n",
       "165220    vrzsh           10   \n",
       "165221    vrzsh           10   \n",
       "165222    vrzsh           10   \n",
       "165223    vrzsh           10   \n",
       "165224    vrzsh           10   \n",
       "\n",
       "                                                   tokens  \n",
       "165207  [هفتم, هشتم, اسفند, برگزار, شد#شو, نشست, ماهان...  \n",
       "165208  [رئیس, جمهوری, جمع, فرمانده, حفاظت, انصارالمهد...  \n",
       "165209  [روزنامه, انگلیسی, گاردین, آمریکایی, ناچارند, ...  \n",
       "165210  [خبر, کوتاه, دبیرخانه, مجلس, خبرگان, رهبر, جام...  \n",
       "165219  [گره, کور, کشتی, شودگروه, ورزش, حضور, رسم, محم...  \n",
       "165220  [نماینده, فدراسیون, جهانی, والیبال, ایران, نظر...  \n",
       "165221  [شکست, نامدار, تکواندودر, پیکار, برتر, لیگ, گر...  \n",
       "165222  [ورزشگاه, بزرگ, دانشگاه, آزاد, تهران, ساخت#ساز...  \n",
       "165223  [رئیس, فدراسیون, پزشک, انتخاب, گروه, ورزش, مجم...  \n",
       "165224  [نتایج, هفته, یازدهم, وزنه, بردار, باشگاه, گرو...  "
      ],
      "text/html": [
       "\n",
       "  <div id=\"df-97fb0a6b-b4e2-4430-87f1-c54a411e7607\">\n",
       "    <div class=\"colab-df-container\">\n",
       "      <div>\n",
       "<style scoped>\n",
       "    .dataframe tbody tr th:only-of-type {\n",
       "        vertical-align: middle;\n",
       "    }\n",
       "\n",
       "    .dataframe tbody tr th {\n",
       "        vertical-align: top;\n",
       "    }\n",
       "\n",
       "    .dataframe thead th {\n",
       "        text-align: right;\n",
       "    }\n",
       "</style>\n",
       "<table border=\"1\" class=\"dataframe\">\n",
       "  <thead>\n",
       "    <tr style=\"text-align: right;\">\n",
       "      <th></th>\n",
       "      <th>category</th>\n",
       "      <th>category_id</th>\n",
       "      <th>tokens</th>\n",
       "    </tr>\n",
       "  </thead>\n",
       "  <tbody>\n",
       "    <tr>\n",
       "      <th>165207</th>\n",
       "      <td>siasi</td>\n",
       "      <td>9</td>\n",
       "      <td>[هفتم, هشتم, اسفند, برگزار, شد#شو, نشست, ماهان...</td>\n",
       "    </tr>\n",
       "    <tr>\n",
       "      <th>165208</th>\n",
       "      <td>siasi</td>\n",
       "      <td>9</td>\n",
       "      <td>[رئیس, جمهوری, جمع, فرمانده, حفاظت, انصارالمهد...</td>\n",
       "    </tr>\n",
       "    <tr>\n",
       "      <th>165209</th>\n",
       "      <td>siasi</td>\n",
       "      <td>9</td>\n",
       "      <td>[روزنامه, انگلیسی, گاردین, آمریکایی, ناچارند, ...</td>\n",
       "    </tr>\n",
       "    <tr>\n",
       "      <th>165210</th>\n",
       "      <td>siasi</td>\n",
       "      <td>9</td>\n",
       "      <td>[خبر, کوتاه, دبیرخانه, مجلس, خبرگان, رهبر, جام...</td>\n",
       "    </tr>\n",
       "    <tr>\n",
       "      <th>165219</th>\n",
       "      <td>vrzsh</td>\n",
       "      <td>10</td>\n",
       "      <td>[گره, کور, کشتی, شودگروه, ورزش, حضور, رسم, محم...</td>\n",
       "    </tr>\n",
       "    <tr>\n",
       "      <th>165220</th>\n",
       "      <td>vrzsh</td>\n",
       "      <td>10</td>\n",
       "      <td>[نماینده, فدراسیون, جهانی, والیبال, ایران, نظر...</td>\n",
       "    </tr>\n",
       "    <tr>\n",
       "      <th>165221</th>\n",
       "      <td>vrzsh</td>\n",
       "      <td>10</td>\n",
       "      <td>[شکست, نامدار, تکواندودر, پیکار, برتر, لیگ, گر...</td>\n",
       "    </tr>\n",
       "    <tr>\n",
       "      <th>165222</th>\n",
       "      <td>vrzsh</td>\n",
       "      <td>10</td>\n",
       "      <td>[ورزشگاه, بزرگ, دانشگاه, آزاد, تهران, ساخت#ساز...</td>\n",
       "    </tr>\n",
       "    <tr>\n",
       "      <th>165223</th>\n",
       "      <td>vrzsh</td>\n",
       "      <td>10</td>\n",
       "      <td>[رئیس, فدراسیون, پزشک, انتخاب, گروه, ورزش, مجم...</td>\n",
       "    </tr>\n",
       "    <tr>\n",
       "      <th>165224</th>\n",
       "      <td>vrzsh</td>\n",
       "      <td>10</td>\n",
       "      <td>[نتایج, هفته, یازدهم, وزنه, بردار, باشگاه, گرو...</td>\n",
       "    </tr>\n",
       "  </tbody>\n",
       "</table>\n",
       "</div>\n",
       "      <button class=\"colab-df-convert\" onclick=\"convertToInteractive('df-97fb0a6b-b4e2-4430-87f1-c54a411e7607')\"\n",
       "              title=\"Convert this dataframe to an interactive table.\"\n",
       "              style=\"display:none;\">\n",
       "        \n",
       "  <svg xmlns=\"http://www.w3.org/2000/svg\" height=\"24px\"viewBox=\"0 0 24 24\"\n",
       "       width=\"24px\">\n",
       "    <path d=\"M0 0h24v24H0V0z\" fill=\"none\"/>\n",
       "    <path d=\"M18.56 5.44l.94 2.06.94-2.06 2.06-.94-2.06-.94-.94-2.06-.94 2.06-2.06.94zm-11 1L8.5 8.5l.94-2.06 2.06-.94-2.06-.94L8.5 2.5l-.94 2.06-2.06.94zm10 10l.94 2.06.94-2.06 2.06-.94-2.06-.94-.94-2.06-.94 2.06-2.06.94z\"/><path d=\"M17.41 7.96l-1.37-1.37c-.4-.4-.92-.59-1.43-.59-.52 0-1.04.2-1.43.59L10.3 9.45l-7.72 7.72c-.78.78-.78 2.05 0 2.83L4 21.41c.39.39.9.59 1.41.59.51 0 1.02-.2 1.41-.59l7.78-7.78 2.81-2.81c.8-.78.8-2.07 0-2.86zM5.41 20L4 18.59l7.72-7.72 1.47 1.35L5.41 20z\"/>\n",
       "  </svg>\n",
       "      </button>\n",
       "      \n",
       "  <style>\n",
       "    .colab-df-container {\n",
       "      display:flex;\n",
       "      flex-wrap:wrap;\n",
       "      gap: 12px;\n",
       "    }\n",
       "\n",
       "    .colab-df-convert {\n",
       "      background-color: #E8F0FE;\n",
       "      border: none;\n",
       "      border-radius: 50%;\n",
       "      cursor: pointer;\n",
       "      display: none;\n",
       "      fill: #1967D2;\n",
       "      height: 32px;\n",
       "      padding: 0 0 0 0;\n",
       "      width: 32px;\n",
       "    }\n",
       "\n",
       "    .colab-df-convert:hover {\n",
       "      background-color: #E2EBFA;\n",
       "      box-shadow: 0px 1px 2px rgba(60, 64, 67, 0.3), 0px 1px 3px 1px rgba(60, 64, 67, 0.15);\n",
       "      fill: #174EA6;\n",
       "    }\n",
       "\n",
       "    [theme=dark] .colab-df-convert {\n",
       "      background-color: #3B4455;\n",
       "      fill: #D2E3FC;\n",
       "    }\n",
       "\n",
       "    [theme=dark] .colab-df-convert:hover {\n",
       "      background-color: #434B5C;\n",
       "      box-shadow: 0px 1px 3px 1px rgba(0, 0, 0, 0.15);\n",
       "      filter: drop-shadow(0px 1px 2px rgba(0, 0, 0, 0.3));\n",
       "      fill: #FFFFFF;\n",
       "    }\n",
       "  </style>\n",
       "\n",
       "      <script>\n",
       "        const buttonEl =\n",
       "          document.querySelector('#df-97fb0a6b-b4e2-4430-87f1-c54a411e7607 button.colab-df-convert');\n",
       "        buttonEl.style.display =\n",
       "          google.colab.kernel.accessAllowed ? 'block' : 'none';\n",
       "\n",
       "        async function convertToInteractive(key) {\n",
       "          const element = document.querySelector('#df-97fb0a6b-b4e2-4430-87f1-c54a411e7607');\n",
       "          const dataTable =\n",
       "            await google.colab.kernel.invokeFunction('convertToInteractive',\n",
       "                                                     [key], {});\n",
       "          if (!dataTable) return;\n",
       "\n",
       "          const docLinkHtml = 'Like what you see? Visit the ' +\n",
       "            '<a target=\"_blank\" href=https://colab.research.google.com/notebooks/data_table.ipynb>data table notebook</a>'\n",
       "            + ' to learn more about interactive tables.';\n",
       "          element.innerHTML = '';\n",
       "          dataTable['output_type'] = 'display_data';\n",
       "          await google.colab.output.renderOutput(dataTable, element);\n",
       "          const docLink = document.createElement('div');\n",
       "          docLink.innerHTML = docLinkHtml;\n",
       "          element.appendChild(docLink);\n",
       "        }\n",
       "      </script>\n",
       "    </div>\n",
       "  </div>\n",
       "  "
      ]
     },
     "metadata": {},
     "execution_count": 5
    }
   ]
  },
  {
   "cell_type": "code",
   "source": [
    "df.isna().sum()"
   ],
   "metadata": {
    "colab": {
     "base_uri": "https://localhost:8080/"
    },
    "id": "Pl26Yb0vs1T6",
    "outputId": "394504e5-a26a-478b-ddb5-712312f74f43",
    "pycharm": {
     "name": "#%%\n"
    }
   },
   "execution_count": null,
   "outputs": [
    {
     "output_type": "execute_result",
     "data": {
      "text/plain": [
       "category       0\n",
       "category_id    0\n",
       "tokens         0\n",
       "dtype: int64"
      ]
     },
     "metadata": {},
     "execution_count": 6
    }
   ]
  },
  {
   "cell_type": "code",
   "source": [
    "category = df[['category', 'category_id']].drop_duplicates().sort_values('category_id')\n",
    "category"
   ],
   "metadata": {
    "colab": {
     "base_uri": "https://localhost:8080/",
     "height": 739
    },
    "id": "sKqVkKjqXiCE",
    "outputId": "9db7ac5e-0ac4-401e-c47f-a526e6d16061",
    "pycharm": {
     "name": "#%%\n"
    }
   },
   "execution_count": null,
   "outputs": [
    {
     "output_type": "execute_result",
     "data": {
      "text/plain": [
       "       category  category_id\n",
       "0         adabh            0\n",
       "3         ejtem            1\n",
       "4         elmfa            2\n",
       "10        eqtes            3\n",
       "21        gozar            4\n",
       "22        havad            5\n",
       "32        kharj            6\n",
       "42        maqal            7\n",
       "43        shahr            8\n",
       "60        siasi            9\n",
       "75        vrzsh           10\n",
       "2683      gungn           11\n",
       "40811     akhar           12\n",
       "40825     elmif           13\n",
       "40849     shari           14\n",
       "40853     shrst           15\n",
       "54771     soxan           16\n",
       "55124     jvarz           17\n",
       "122765    aeqts           18\n",
       "122988    nnaft           19\n",
       "135836    polig           20\n",
       "137654    econw           21"
      ],
      "text/html": [
       "\n",
       "  <div id=\"df-5ba5ce14-0ea6-43ee-8153-f6be0e0cf15d\">\n",
       "    <div class=\"colab-df-container\">\n",
       "      <div>\n",
       "<style scoped>\n",
       "    .dataframe tbody tr th:only-of-type {\n",
       "        vertical-align: middle;\n",
       "    }\n",
       "\n",
       "    .dataframe tbody tr th {\n",
       "        vertical-align: top;\n",
       "    }\n",
       "\n",
       "    .dataframe thead th {\n",
       "        text-align: right;\n",
       "    }\n",
       "</style>\n",
       "<table border=\"1\" class=\"dataframe\">\n",
       "  <thead>\n",
       "    <tr style=\"text-align: right;\">\n",
       "      <th></th>\n",
       "      <th>category</th>\n",
       "      <th>category_id</th>\n",
       "    </tr>\n",
       "  </thead>\n",
       "  <tbody>\n",
       "    <tr>\n",
       "      <th>0</th>\n",
       "      <td>adabh</td>\n",
       "      <td>0</td>\n",
       "    </tr>\n",
       "    <tr>\n",
       "      <th>3</th>\n",
       "      <td>ejtem</td>\n",
       "      <td>1</td>\n",
       "    </tr>\n",
       "    <tr>\n",
       "      <th>4</th>\n",
       "      <td>elmfa</td>\n",
       "      <td>2</td>\n",
       "    </tr>\n",
       "    <tr>\n",
       "      <th>10</th>\n",
       "      <td>eqtes</td>\n",
       "      <td>3</td>\n",
       "    </tr>\n",
       "    <tr>\n",
       "      <th>21</th>\n",
       "      <td>gozar</td>\n",
       "      <td>4</td>\n",
       "    </tr>\n",
       "    <tr>\n",
       "      <th>22</th>\n",
       "      <td>havad</td>\n",
       "      <td>5</td>\n",
       "    </tr>\n",
       "    <tr>\n",
       "      <th>32</th>\n",
       "      <td>kharj</td>\n",
       "      <td>6</td>\n",
       "    </tr>\n",
       "    <tr>\n",
       "      <th>42</th>\n",
       "      <td>maqal</td>\n",
       "      <td>7</td>\n",
       "    </tr>\n",
       "    <tr>\n",
       "      <th>43</th>\n",
       "      <td>shahr</td>\n",
       "      <td>8</td>\n",
       "    </tr>\n",
       "    <tr>\n",
       "      <th>60</th>\n",
       "      <td>siasi</td>\n",
       "      <td>9</td>\n",
       "    </tr>\n",
       "    <tr>\n",
       "      <th>75</th>\n",
       "      <td>vrzsh</td>\n",
       "      <td>10</td>\n",
       "    </tr>\n",
       "    <tr>\n",
       "      <th>2683</th>\n",
       "      <td>gungn</td>\n",
       "      <td>11</td>\n",
       "    </tr>\n",
       "    <tr>\n",
       "      <th>40811</th>\n",
       "      <td>akhar</td>\n",
       "      <td>12</td>\n",
       "    </tr>\n",
       "    <tr>\n",
       "      <th>40825</th>\n",
       "      <td>elmif</td>\n",
       "      <td>13</td>\n",
       "    </tr>\n",
       "    <tr>\n",
       "      <th>40849</th>\n",
       "      <td>shari</td>\n",
       "      <td>14</td>\n",
       "    </tr>\n",
       "    <tr>\n",
       "      <th>40853</th>\n",
       "      <td>shrst</td>\n",
       "      <td>15</td>\n",
       "    </tr>\n",
       "    <tr>\n",
       "      <th>54771</th>\n",
       "      <td>soxan</td>\n",
       "      <td>16</td>\n",
       "    </tr>\n",
       "    <tr>\n",
       "      <th>55124</th>\n",
       "      <td>jvarz</td>\n",
       "      <td>17</td>\n",
       "    </tr>\n",
       "    <tr>\n",
       "      <th>122765</th>\n",
       "      <td>aeqts</td>\n",
       "      <td>18</td>\n",
       "    </tr>\n",
       "    <tr>\n",
       "      <th>122988</th>\n",
       "      <td>nnaft</td>\n",
       "      <td>19</td>\n",
       "    </tr>\n",
       "    <tr>\n",
       "      <th>135836</th>\n",
       "      <td>polig</td>\n",
       "      <td>20</td>\n",
       "    </tr>\n",
       "    <tr>\n",
       "      <th>137654</th>\n",
       "      <td>econw</td>\n",
       "      <td>21</td>\n",
       "    </tr>\n",
       "  </tbody>\n",
       "</table>\n",
       "</div>\n",
       "      <button class=\"colab-df-convert\" onclick=\"convertToInteractive('df-5ba5ce14-0ea6-43ee-8153-f6be0e0cf15d')\"\n",
       "              title=\"Convert this dataframe to an interactive table.\"\n",
       "              style=\"display:none;\">\n",
       "        \n",
       "  <svg xmlns=\"http://www.w3.org/2000/svg\" height=\"24px\"viewBox=\"0 0 24 24\"\n",
       "       width=\"24px\">\n",
       "    <path d=\"M0 0h24v24H0V0z\" fill=\"none\"/>\n",
       "    <path d=\"M18.56 5.44l.94 2.06.94-2.06 2.06-.94-2.06-.94-.94-2.06-.94 2.06-2.06.94zm-11 1L8.5 8.5l.94-2.06 2.06-.94-2.06-.94L8.5 2.5l-.94 2.06-2.06.94zm10 10l.94 2.06.94-2.06 2.06-.94-2.06-.94-.94-2.06-.94 2.06-2.06.94z\"/><path d=\"M17.41 7.96l-1.37-1.37c-.4-.4-.92-.59-1.43-.59-.52 0-1.04.2-1.43.59L10.3 9.45l-7.72 7.72c-.78.78-.78 2.05 0 2.83L4 21.41c.39.39.9.59 1.41.59.51 0 1.02-.2 1.41-.59l7.78-7.78 2.81-2.81c.8-.78.8-2.07 0-2.86zM5.41 20L4 18.59l7.72-7.72 1.47 1.35L5.41 20z\"/>\n",
       "  </svg>\n",
       "      </button>\n",
       "      \n",
       "  <style>\n",
       "    .colab-df-container {\n",
       "      display:flex;\n",
       "      flex-wrap:wrap;\n",
       "      gap: 12px;\n",
       "    }\n",
       "\n",
       "    .colab-df-convert {\n",
       "      background-color: #E8F0FE;\n",
       "      border: none;\n",
       "      border-radius: 50%;\n",
       "      cursor: pointer;\n",
       "      display: none;\n",
       "      fill: #1967D2;\n",
       "      height: 32px;\n",
       "      padding: 0 0 0 0;\n",
       "      width: 32px;\n",
       "    }\n",
       "\n",
       "    .colab-df-convert:hover {\n",
       "      background-color: #E2EBFA;\n",
       "      box-shadow: 0px 1px 2px rgba(60, 64, 67, 0.3), 0px 1px 3px 1px rgba(60, 64, 67, 0.15);\n",
       "      fill: #174EA6;\n",
       "    }\n",
       "\n",
       "    [theme=dark] .colab-df-convert {\n",
       "      background-color: #3B4455;\n",
       "      fill: #D2E3FC;\n",
       "    }\n",
       "\n",
       "    [theme=dark] .colab-df-convert:hover {\n",
       "      background-color: #434B5C;\n",
       "      box-shadow: 0px 1px 3px 1px rgba(0, 0, 0, 0.15);\n",
       "      filter: drop-shadow(0px 1px 2px rgba(0, 0, 0, 0.3));\n",
       "      fill: #FFFFFF;\n",
       "    }\n",
       "  </style>\n",
       "\n",
       "      <script>\n",
       "        const buttonEl =\n",
       "          document.querySelector('#df-5ba5ce14-0ea6-43ee-8153-f6be0e0cf15d button.colab-df-convert');\n",
       "        buttonEl.style.display =\n",
       "          google.colab.kernel.accessAllowed ? 'block' : 'none';\n",
       "\n",
       "        async function convertToInteractive(key) {\n",
       "          const element = document.querySelector('#df-5ba5ce14-0ea6-43ee-8153-f6be0e0cf15d');\n",
       "          const dataTable =\n",
       "            await google.colab.kernel.invokeFunction('convertToInteractive',\n",
       "                                                     [key], {});\n",
       "          if (!dataTable) return;\n",
       "\n",
       "          const docLinkHtml = 'Like what you see? Visit the ' +\n",
       "            '<a target=\"_blank\" href=https://colab.research.google.com/notebooks/data_table.ipynb>data table notebook</a>'\n",
       "            + ' to learn more about interactive tables.';\n",
       "          element.innerHTML = '';\n",
       "          dataTable['output_type'] = 'display_data';\n",
       "          await google.colab.output.renderOutput(dataTable, element);\n",
       "          const docLink = document.createElement('div');\n",
       "          docLink.innerHTML = docLinkHtml;\n",
       "          element.appendChild(docLink);\n",
       "        }\n",
       "      </script>\n",
       "    </div>\n",
       "  </div>\n",
       "  "
      ]
     },
     "metadata": {},
     "execution_count": 7
    }
   ]
  },
  {
   "cell_type": "code",
   "source": [
    "df.groupby(['category']).size().reset_index(name='counts').sort_values(['counts'], ascending=True).plot(x ='category', y='counts', kind='bar', figsize=(20,10))\n",
    "# df.groupby(['category']).size().reset_index(name='counts').sort_values(['counts'], ascending=False)[:50].plot(x ='category', y='counts', kind='bar', figsize=(20,10))"
   ],
   "metadata": {
    "colab": {
     "base_uri": "https://localhost:8080/",
     "height": 657
    },
    "id": "_rvb6z2FuWR4",
    "outputId": "3097ea63-4c9f-48b3-feeb-3e317d3af7eb",
    "pycharm": {
     "name": "#%%\n"
    }
   },
   "execution_count": null,
   "outputs": [
    {
     "output_type": "execute_result",
     "data": {
      "text/plain": [
       "<matplotlib.axes._subplots.AxesSubplot at 0x7f024244d190>"
      ]
     },
     "metadata": {},
     "execution_count": 28
    },
    {
     "output_type": "display_data",
     "data": {
      "text/plain": [
       "<Figure size 1440x720 with 1 Axes>"
      ],
      "image/png": "[encoded data removed]"
     },
     "metadata": {
      "needs_background": "light"
     }
    }
   ]
  },
  {
   "cell_type": "code",
   "source": [
    "df['category'].value_counts().sort_values(ascending=False).plot(kind='bar', title='Number of News', \n",
    "                                                                ylabel='Number news in each category', figsize=(20,10))"
   ],
   "metadata": {
    "colab": {
     "base_uri": "https://localhost:8080/",
     "height": 659
    },
    "id": "pYbkqOo-AaK4",
    "outputId": "15df2b92-da2b-4798-e121-df0fb57fd2fe",
    "pycharm": {
     "name": "#%%\n"
    }
   },
   "execution_count": null,
   "outputs": [
    {
     "output_type": "execute_result",
     "data": {
      "text/plain": [
       "<matplotlib.axes._subplots.AxesSubplot at 0x7f0241b377d0>"
      ]
     },
     "metadata": {},
     "execution_count": 32
    },
    {
     "output_type": "display_data",
     "data": {
      "text/plain": [
       "<Figure size 1440x720 with 1 Axes>"
      ],
      "image/png": "[encoded data removed]"
     },
     "metadata": {
      "needs_background": "light"
     }
    }
   ]
  },
  {
   "cell_type": "code",
   "source": [
    "df[df['category'] == 'sciew']"
   ],
   "metadata": {
    "id": "4UziK0l_Xh0m",
    "colab": {
     "base_uri": "https://localhost:8080/",
     "height": 49
    },
    "outputId": "baaa5a80-6d4a-4a97-df4e-6faf11f5717f",
    "pycharm": {
     "name": "#%%\n"
    }
   },
   "execution_count": null,
   "outputs": [
    {
     "output_type": "execute_result",
     "data": {
      "text/plain": [
       "Empty DataFrame\n",
       "Columns: [category, category_id, tokens]\n",
       "Index: []"
      ],
      "text/html": [
       "\n",
       "  <div id=\"df-afb12239-5821-40ea-b134-8e95a8cca1bd\">\n",
       "    <div class=\"colab-df-container\">\n",
       "      <div>\n",
       "<style scoped>\n",
       "    .dataframe tbody tr th:only-of-type {\n",
       "        vertical-align: middle;\n",
       "    }\n",
       "\n",
       "    .dataframe tbody tr th {\n",
       "        vertical-align: top;\n",
       "    }\n",
       "\n",
       "    .dataframe thead th {\n",
       "        text-align: right;\n",
       "    }\n",
       "</style>\n",
       "<table border=\"1\" class=\"dataframe\">\n",
       "  <thead>\n",
       "    <tr style=\"text-align: right;\">\n",
       "      <th></th>\n",
       "      <th>category</th>\n",
       "      <th>category_id</th>\n",
       "      <th>tokens</th>\n",
       "    </tr>\n",
       "  </thead>\n",
       "  <tbody>\n",
       "  </tbody>\n",
       "</table>\n",
       "</div>\n",
       "      <button class=\"colab-df-convert\" onclick=\"convertToInteractive('df-afb12239-5821-40ea-b134-8e95a8cca1bd')\"\n",
       "              title=\"Convert this dataframe to an interactive table.\"\n",
       "              style=\"display:none;\">\n",
       "        \n",
       "  <svg xmlns=\"http://www.w3.org/2000/svg\" height=\"24px\"viewBox=\"0 0 24 24\"\n",
       "       width=\"24px\">\n",
       "    <path d=\"M0 0h24v24H0V0z\" fill=\"none\"/>\n",
       "    <path d=\"M18.56 5.44l.94 2.06.94-2.06 2.06-.94-2.06-.94-.94-2.06-.94 2.06-2.06.94zm-11 1L8.5 8.5l.94-2.06 2.06-.94-2.06-.94L8.5 2.5l-.94 2.06-2.06.94zm10 10l.94 2.06.94-2.06 2.06-.94-2.06-.94-.94-2.06-.94 2.06-2.06.94z\"/><path d=\"M17.41 7.96l-1.37-1.37c-.4-.4-.92-.59-1.43-.59-.52 0-1.04.2-1.43.59L10.3 9.45l-7.72 7.72c-.78.78-.78 2.05 0 2.83L4 21.41c.39.39.9.59 1.41.59.51 0 1.02-.2 1.41-.59l7.78-7.78 2.81-2.81c.8-.78.8-2.07 0-2.86zM5.41 20L4 18.59l7.72-7.72 1.47 1.35L5.41 20z\"/>\n",
       "  </svg>\n",
       "      </button>\n",
       "      \n",
       "  <style>\n",
       "    .colab-df-container {\n",
       "      display:flex;\n",
       "      flex-wrap:wrap;\n",
       "      gap: 12px;\n",
       "    }\n",
       "\n",
       "    .colab-df-convert {\n",
       "      background-color: #E8F0FE;\n",
       "      border: none;\n",
       "      border-radius: 50%;\n",
       "      cursor: pointer;\n",
       "      display: none;\n",
       "      fill: #1967D2;\n",
       "      height: 32px;\n",
       "      padding: 0 0 0 0;\n",
       "      width: 32px;\n",
       "    }\n",
       "\n",
       "    .colab-df-convert:hover {\n",
       "      background-color: #E2EBFA;\n",
       "      box-shadow: 0px 1px 2px rgba(60, 64, 67, 0.3), 0px 1px 3px 1px rgba(60, 64, 67, 0.15);\n",
       "      fill: #174EA6;\n",
       "    }\n",
       "\n",
       "    [theme=dark] .colab-df-convert {\n",
       "      background-color: #3B4455;\n",
       "      fill: #D2E3FC;\n",
       "    }\n",
       "\n",
       "    [theme=dark] .colab-df-convert:hover {\n",
       "      background-color: #434B5C;\n",
       "      box-shadow: 0px 1px 3px 1px rgba(0, 0, 0, 0.15);\n",
       "      filter: drop-shadow(0px 1px 2px rgba(0, 0, 0, 0.3));\n",
       "      fill: #FFFFFF;\n",
       "    }\n",
       "  </style>\n",
       "\n",
       "      <script>\n",
       "        const buttonEl =\n",
       "          document.querySelector('#df-afb12239-5821-40ea-b134-8e95a8cca1bd button.colab-df-convert');\n",
       "        buttonEl.style.display =\n",
       "          google.colab.kernel.accessAllowed ? 'block' : 'none';\n",
       "\n",
       "        async function convertToInteractive(key) {\n",
       "          const element = document.querySelector('#df-afb12239-5821-40ea-b134-8e95a8cca1bd');\n",
       "          const dataTable =\n",
       "            await google.colab.kernel.invokeFunction('convertToInteractive',\n",
       "                                                     [key], {});\n",
       "          if (!dataTable) return;\n",
       "\n",
       "          const docLinkHtml = 'Like what you see? Visit the ' +\n",
       "            '<a target=\"_blank\" href=https://colab.research.google.com/notebooks/data_table.ipynb>data table notebook</a>'\n",
       "            + ' to learn more about interactive tables.';\n",
       "          element.innerHTML = '';\n",
       "          dataTable['output_type'] = 'display_data';\n",
       "          await google.colab.output.renderOutput(dataTable, element);\n",
       "          const docLink = document.createElement('div');\n",
       "          docLink.innerHTML = docLinkHtml;\n",
       "          element.appendChild(docLink);\n",
       "        }\n",
       "      </script>\n",
       "    </div>\n",
       "  </div>\n",
       "  "
      ]
     },
     "metadata": {},
     "execution_count": 9
    }
   ]
  },
  {
   "cell_type": "code",
   "source": [
    "!cat Hamshahri-Corpus.txt | grep -B 5 -A 5 \"روزنامه صبح ايران\""
   ],
   "metadata": {
    "id": "2qUHBthoXhsR",
    "pycharm": {
     "name": "#%%\n"
    }
   },
   "execution_count": null,
   "outputs": []
  },
  {
   "cell_type": "code",
   "source": [
    "!cat Hamshahri-Corpus.txt | grep \".Cat\" | wc -l"
   ],
   "metadata": {
    "colab": {
     "base_uri": "https://localhost:8080/"
    },
    "id": "hIGhr0lvWNnk",
    "outputId": "67d2ba16-1f61-4b63-dddf-7761b5642c31",
    "pycharm": {
     "name": "#%%\n"
    }
   },
   "execution_count": null,
   "outputs": [
    {
     "output_type": "stream",
     "name": "stdout",
     "text": [
      "165262\n"
     ]
    }
   ]
  },
  {
   "cell_type": "code",
   "source": [
    "!cat Hamshahri-Corpus.txt | grep \".DID\" | wc -l"
   ],
   "metadata": {
    "id": "pw86X29YXhgR",
    "colab": {
     "base_uri": "https://localhost:8080/"
    },
    "outputId": "a7d21187-6b85-405e-b2b7-dcbb44630f25",
    "pycharm": {
     "name": "#%%\n"
    }
   },
   "execution_count": null,
   "outputs": [
    {
     "output_type": "stream",
     "name": "stdout",
     "text": [
      "165233\n"
     ]
    }
   ]
  },
  {
   "cell_type": "code",
   "source": [
    "def remove_persian_stopword(tokens):\n",
    "    # return [word for word in tokens if not word in stop_words and word and word not in proned]\n",
    "    return [word for word in tokens if not word in stop_words and word]\n",
    "\n",
    "normalizer = Normalizer()\n",
    "\n",
    "\n",
    "def normalize_text(text):\n",
    "    return normalizer.normalize(text)\n",
    "\n",
    "    \n",
    "with open(\"PersianStopWords.txt\", \"r\") as file:\n",
    "    raw_stop_words = file.read()\n",
    "\n",
    "stop_words = raw_stop_words.split(\"\\n\")\n",
    "stop_words = [normalize_text(word) for word in stop_words]\n",
    "# stop_words[:10]\n",
    "\n",
    "lemmatizer = Lemmatizer()\n",
    "\n",
    "\n",
    "def lemma_tokenizer(tokens):\n",
    "    return [lemmatizer.lemmatize(token) for token in tokens]\n",
    "    # return [lemmatizer.lemmatize(token).split(\"#\")[0] for token in tokens]\n",
    "\n",
    "\n",
    "stemmer = Stemmer()\n",
    "\n",
    "\n",
    "def stem_tokenizer(tokens):\n",
    "    return [stemmer.stem(token) for token in tokens]\n",
    "\n",
    "\n",
    "def text_normalization(text):\n",
    "    raw_text = re.sub(r\"-+|\\d+|\\s+\", \" \", text)\n",
    "    raw_text = normalize_text(raw_text)\n",
    "\n",
    "    return raw_text\n",
    "\n",
    "def tokenize_text(text, type=\"lemma\"):\n",
    "    tokens = word_tokenize(text)\n",
    "    tokens = remove_persian_stopword(tokens)\n",
    "    \n",
    "    if type == \"lemma\":\n",
    "        tokens = remove_persian_stopword(lemma_tokenizer(tokens))\n",
    "    elif type == \"stem\":\n",
    "        tokens = remove_persian_stopword(stem_tokenizer(tokens))\n",
    "\n",
    "    return tokens\n"
   ],
   "metadata": {
    "id": "pX4r_5b6l4sE",
    "pycharm": {
     "name": "#%%\n"
    }
   },
   "execution_count": 32,
   "outputs": []
  },
  {
   "cell_type": "code",
   "source": [
    "df[\"normalized_sent\"] = df[\"text\"].apply(lambda x: text_normalization(x))\n",
    "df.head()"
   ],
   "metadata": {
    "id": "_XUsrH1vZ-EI",
    "pycharm": {
     "name": "#%%\n"
    }
   },
   "execution_count": null,
   "outputs": []
  },
  {
   "cell_type": "code",
   "source": [
    "df[\"tokens\"] = df[\"normalized_sent\"].apply(lambda x: tokenize_text(x))\n",
    "df.head()"
   ],
   "metadata": {
    "id": "KPyDCfYxlsr_",
    "pycharm": {
     "name": "#%%\n"
    }
   },
   "execution_count": null,
   "outputs": []
  },
  {
   "cell_type": "code",
   "source": [
    "df.to_csv('H_data.csv')"
   ],
   "metadata": {
    "id": "n2fEd6CWrtHt",
    "pycharm": {
     "name": "#%%\n"
    }
   },
   "execution_count": null,
   "outputs": []
  },
  {
   "cell_type": "code",
   "source": [
    "# from google.colab import drive\n",
    "# drive.mount('/content/drive')\n",
    "\n",
    "# !mv H_data.csv hamshahri_dataset.csv\n",
    "# !cp hamshahri_dataset.csv drive/MyDrive/Colab\\ Notebooks\n",
    "\n",
    "# !sudo apt-get install rar\n",
    "# !mkdir data_set_hamshahri && mv hamshahri_dataset.csv data_set_hamshahri/\n",
    "# !rar a hamshahri_dataset.rar hamshahri_dataset.csv\n",
    "# !cp hamshahri_dataset.rar drive/MyDrive/Colab\\ Notebooks"
   ],
   "metadata": {
    "colab": {
     "base_uri": "https://localhost:8080/"
    },
    "id": "EVqS4WWprJ87",
    "outputId": "e4293c8e-4805-4454-fea9-a8e41ae05b16",
    "pycharm": {
     "name": "#%%\n"
    }
   },
   "execution_count": null,
   "outputs": [
    {
     "output_type": "stream",
     "name": "stdout",
     "text": [
      "Mounted at /content/drive\n"
     ]
    }
   ]
  },
  {
   "cell_type": "code",
   "source": [
    "df"
   ],
   "metadata": {
    "colab": {
     "base_uri": "https://localhost:8080/",
     "height": 424
    },
    "id": "082CyLUzjvXP",
    "outputId": "fb44ffd8-fb4b-4ed9-da29-d84effc8edc6",
    "pycharm": {
     "name": "#%%\n"
    }
   },
   "execution_count": null,
   "outputs": [
    {
     "output_type": "execute_result",
     "data": {
      "text/plain": [
       "       category                                               text  \\\n",
       "0         adabh  جاودانگي در زندگي گروهي از طريق هنر نگاهي به ن...   \n",
       "1         adabh  رويدادهاي هنري جهان نمايشگاه هنر در خدمت ديكتا...   \n",
       "2         adabh  برديوار نگارخانه ها گالري گلستان: نمايشگاه طرح...   \n",
       "3         ejtem  بازي را جدي بگيريم مطالعه اي مقدماتي پيرامون ن...   \n",
       "4         elmfa  تخته سياه و غباري كه سترده نمي شود... اشاره; ب...   \n",
       "...         ...                                                ...   \n",
       "165220    vrzsh  نماينده فدراسيون جهاني واليبال  از ايران هر نظ...   \n",
       "165221    vrzsh  شكست نامداران تكواندودر پيكارهاي برتر ليگ گروه...   \n",
       "165222    vrzsh  ورزشگاه بزرگ دانشگاه آزاد در تهران ساخته مي شو...   \n",
       "165223    vrzsh  رئيس فدراسيون پزشكي انتخاب شد گروه ورزشي: مجمع...   \n",
       "165224    vrzsh  نتايج هفته يازدهم وزنه برداري باشگاهها گروه ور...   \n",
       "\n",
       "        category_id                                    normalized_sent  \\\n",
       "0                 0  جاودانگی در زندگی گروهی از طریق هنر نگاهی به ن...   \n",
       "1                 0  رویدادهای هنری جهان نمایشگاه هنر در خدمت دیکتا...   \n",
       "2                 0  بردیوار نگارخانه‌ها گالری گلستان: نمایشگاه طرح...   \n",
       "3                 1  بازی را جدی بگیریم مطالعه‌ای مقدماتی پیرامون ن...   \n",
       "4                 2  تخته سیاه و غباری که سترده نمی‌شود … اشاره; به...   \n",
       "...             ...                                                ...   \n",
       "165220           10  نماینده فدراسیون جهانی والیبال از ایران هر نظر...   \n",
       "165221           10  شکست نامداران تکواندودر پیکارهای برتر لیگ گروه...   \n",
       "165222           10  ورزشگاه بزرگ دانشگاه آزاد در تهران ساخته می‌شو...   \n",
       "165223           10  رئیس فدراسیون پزشکی انتخاب شد گروه ورزشی: مجمع...   \n",
       "165224           10  نتایج هفته یازدهم وزنه برداری باشگاهها گروه ور...   \n",
       "\n",
       "                                                   tokens  \n",
       "0       ['جاودانگی', 'زندگی', 'گروهی', 'طریق', 'هنر', ...  \n",
       "1       ['رویداد', 'هنر', 'جهان', 'نمایشگاه', 'هنر', '...  \n",
       "2       ['بردیوار', 'نگارخانه', 'گالری', 'گلستان', 'نم...  \n",
       "3       ['بازی', 'جدی', 'گرفت#گیر', 'مطالعه', 'مقدمات'...  \n",
       "4       ['تخته', 'سیاه', 'غبار', 'سترده', 'شد#شو', 'اش...  \n",
       "...                                                   ...  \n",
       "165220  ['نماینده', 'فدراسیون', 'جهانی', 'والیبال', 'ا...  \n",
       "165221  ['شکست', 'نامدار', 'تکواندودر', 'پیکار', 'برتر...  \n",
       "165222  ['ورزشگاه', 'بزرگ', 'دانشگاه', 'آزاد', 'تهران'...  \n",
       "165223  ['رئیس', 'فدراسیون', 'پزشک', 'انتخاب', 'گروه',...  \n",
       "165224  ['نتایج', 'هفته', 'یازدهم', 'وزنه', 'بردار', '...  \n",
       "\n",
       "[165225 rows x 5 columns]"
      ],
      "text/html": [
       "\n",
       "  <div id=\"df-1a085601-66e4-4e80-9195-ca52834efeac\">\n",
       "    <div class=\"colab-df-container\">\n",
       "      <div>\n",
       "<style scoped>\n",
       "    .dataframe tbody tr th:only-of-type {\n",
       "        vertical-align: middle;\n",
       "    }\n",
       "\n",
       "    .dataframe tbody tr th {\n",
       "        vertical-align: top;\n",
       "    }\n",
       "\n",
       "    .dataframe thead th {\n",
       "        text-align: right;\n",
       "    }\n",
       "</style>\n",
       "<table border=\"1\" class=\"dataframe\">\n",
       "  <thead>\n",
       "    <tr style=\"text-align: right;\">\n",
       "      <th></th>\n",
       "      <th>category</th>\n",
       "      <th>text</th>\n",
       "      <th>category_id</th>\n",
       "      <th>normalized_sent</th>\n",
       "      <th>tokens</th>\n",
       "    </tr>\n",
       "  </thead>\n",
       "  <tbody>\n",
       "    <tr>\n",
       "      <th>0</th>\n",
       "      <td>adabh</td>\n",
       "      <td>جاودانگي در زندگي گروهي از طريق هنر نگاهي به ن...</td>\n",
       "      <td>0</td>\n",
       "      <td>جاودانگی در زندگی گروهی از طریق هنر نگاهی به ن...</td>\n",
       "      <td>['جاودانگی', 'زندگی', 'گروهی', 'طریق', 'هنر', ...</td>\n",
       "    </tr>\n",
       "    <tr>\n",
       "      <th>1</th>\n",
       "      <td>adabh</td>\n",
       "      <td>رويدادهاي هنري جهان نمايشگاه هنر در خدمت ديكتا...</td>\n",
       "      <td>0</td>\n",
       "      <td>رویدادهای هنری جهان نمایشگاه هنر در خدمت دیکتا...</td>\n",
       "      <td>['رویداد', 'هنر', 'جهان', 'نمایشگاه', 'هنر', '...</td>\n",
       "    </tr>\n",
       "    <tr>\n",
       "      <th>2</th>\n",
       "      <td>adabh</td>\n",
       "      <td>برديوار نگارخانه ها گالري گلستان: نمايشگاه طرح...</td>\n",
       "      <td>0</td>\n",
       "      <td>بردیوار نگارخانه‌ها گالری گلستان: نمایشگاه طرح...</td>\n",
       "      <td>['بردیوار', 'نگارخانه', 'گالری', 'گلستان', 'نم...</td>\n",
       "    </tr>\n",
       "    <tr>\n",
       "      <th>3</th>\n",
       "      <td>ejtem</td>\n",
       "      <td>بازي را جدي بگيريم مطالعه اي مقدماتي پيرامون ن...</td>\n",
       "      <td>1</td>\n",
       "      <td>بازی را جدی بگیریم مطالعه‌ای مقدماتی پیرامون ن...</td>\n",
       "      <td>['بازی', 'جدی', 'گرفت#گیر', 'مطالعه', 'مقدمات'...</td>\n",
       "    </tr>\n",
       "    <tr>\n",
       "      <th>4</th>\n",
       "      <td>elmfa</td>\n",
       "      <td>تخته سياه و غباري كه سترده نمي شود... اشاره; ب...</td>\n",
       "      <td>2</td>\n",
       "      <td>تخته سیاه و غباری که سترده نمی‌شود … اشاره; به...</td>\n",
       "      <td>['تخته', 'سیاه', 'غبار', 'سترده', 'شد#شو', 'اش...</td>\n",
       "    </tr>\n",
       "    <tr>\n",
       "      <th>...</th>\n",
       "      <td>...</td>\n",
       "      <td>...</td>\n",
       "      <td>...</td>\n",
       "      <td>...</td>\n",
       "      <td>...</td>\n",
       "    </tr>\n",
       "    <tr>\n",
       "      <th>165220</th>\n",
       "      <td>vrzsh</td>\n",
       "      <td>نماينده فدراسيون جهاني واليبال  از ايران هر نظ...</td>\n",
       "      <td>10</td>\n",
       "      <td>نماینده فدراسیون جهانی والیبال از ایران هر نظر...</td>\n",
       "      <td>['نماینده', 'فدراسیون', 'جهانی', 'والیبال', 'ا...</td>\n",
       "    </tr>\n",
       "    <tr>\n",
       "      <th>165221</th>\n",
       "      <td>vrzsh</td>\n",
       "      <td>شكست نامداران تكواندودر پيكارهاي برتر ليگ گروه...</td>\n",
       "      <td>10</td>\n",
       "      <td>شکست نامداران تکواندودر پیکارهای برتر لیگ گروه...</td>\n",
       "      <td>['شکست', 'نامدار', 'تکواندودر', 'پیکار', 'برتر...</td>\n",
       "    </tr>\n",
       "    <tr>\n",
       "      <th>165222</th>\n",
       "      <td>vrzsh</td>\n",
       "      <td>ورزشگاه بزرگ دانشگاه آزاد در تهران ساخته مي شو...</td>\n",
       "      <td>10</td>\n",
       "      <td>ورزشگاه بزرگ دانشگاه آزاد در تهران ساخته می‌شو...</td>\n",
       "      <td>['ورزشگاه', 'بزرگ', 'دانشگاه', 'آزاد', 'تهران'...</td>\n",
       "    </tr>\n",
       "    <tr>\n",
       "      <th>165223</th>\n",
       "      <td>vrzsh</td>\n",
       "      <td>رئيس فدراسيون پزشكي انتخاب شد گروه ورزشي: مجمع...</td>\n",
       "      <td>10</td>\n",
       "      <td>رئیس فدراسیون پزشکی انتخاب شد گروه ورزشی: مجمع...</td>\n",
       "      <td>['رئیس', 'فدراسیون', 'پزشک', 'انتخاب', 'گروه',...</td>\n",
       "    </tr>\n",
       "    <tr>\n",
       "      <th>165224</th>\n",
       "      <td>vrzsh</td>\n",
       "      <td>نتايج هفته يازدهم وزنه برداري باشگاهها گروه ور...</td>\n",
       "      <td>10</td>\n",
       "      <td>نتایج هفته یازدهم وزنه برداری باشگاهها گروه ور...</td>\n",
       "      <td>['نتایج', 'هفته', 'یازدهم', 'وزنه', 'بردار', '...</td>\n",
       "    </tr>\n",
       "  </tbody>\n",
       "</table>\n",
       "<p>165225 rows × 5 columns</p>\n",
       "</div>\n",
       "      <button class=\"colab-df-convert\" onclick=\"convertToInteractive('df-1a085601-66e4-4e80-9195-ca52834efeac')\"\n",
       "              title=\"Convert this dataframe to an interactive table.\"\n",
       "              style=\"display:none;\">\n",
       "        \n",
       "  <svg xmlns=\"http://www.w3.org/2000/svg\" height=\"24px\"viewBox=\"0 0 24 24\"\n",
       "       width=\"24px\">\n",
       "    <path d=\"M0 0h24v24H0V0z\" fill=\"none\"/>\n",
       "    <path d=\"M18.56 5.44l.94 2.06.94-2.06 2.06-.94-2.06-.94-.94-2.06-.94 2.06-2.06.94zm-11 1L8.5 8.5l.94-2.06 2.06-.94-2.06-.94L8.5 2.5l-.94 2.06-2.06.94zm10 10l.94 2.06.94-2.06 2.06-.94-2.06-.94-.94-2.06-.94 2.06-2.06.94z\"/><path d=\"M17.41 7.96l-1.37-1.37c-.4-.4-.92-.59-1.43-.59-.52 0-1.04.2-1.43.59L10.3 9.45l-7.72 7.72c-.78.78-.78 2.05 0 2.83L4 21.41c.39.39.9.59 1.41.59.51 0 1.02-.2 1.41-.59l7.78-7.78 2.81-2.81c.8-.78.8-2.07 0-2.86zM5.41 20L4 18.59l7.72-7.72 1.47 1.35L5.41 20z\"/>\n",
       "  </svg>\n",
       "      </button>\n",
       "      \n",
       "  <style>\n",
       "    .colab-df-container {\n",
       "      display:flex;\n",
       "      flex-wrap:wrap;\n",
       "      gap: 12px;\n",
       "    }\n",
       "\n",
       "    .colab-df-convert {\n",
       "      background-color: #E8F0FE;\n",
       "      border: none;\n",
       "      border-radius: 50%;\n",
       "      cursor: pointer;\n",
       "      display: none;\n",
       "      fill: #1967D2;\n",
       "      height: 32px;\n",
       "      padding: 0 0 0 0;\n",
       "      width: 32px;\n",
       "    }\n",
       "\n",
       "    .colab-df-convert:hover {\n",
       "      background-color: #E2EBFA;\n",
       "      box-shadow: 0px 1px 2px rgba(60, 64, 67, 0.3), 0px 1px 3px 1px rgba(60, 64, 67, 0.15);\n",
       "      fill: #174EA6;\n",
       "    }\n",
       "\n",
       "    [theme=dark] .colab-df-convert {\n",
       "      background-color: #3B4455;\n",
       "      fill: #D2E3FC;\n",
       "    }\n",
       "\n",
       "    [theme=dark] .colab-df-convert:hover {\n",
       "      background-color: #434B5C;\n",
       "      box-shadow: 0px 1px 3px 1px rgba(0, 0, 0, 0.15);\n",
       "      filter: drop-shadow(0px 1px 2px rgba(0, 0, 0, 0.3));\n",
       "      fill: #FFFFFF;\n",
       "    }\n",
       "  </style>\n",
       "\n",
       "      <script>\n",
       "        const buttonEl =\n",
       "          document.querySelector('#df-1a085601-66e4-4e80-9195-ca52834efeac button.colab-df-convert');\n",
       "        buttonEl.style.display =\n",
       "          google.colab.kernel.accessAllowed ? 'block' : 'none';\n",
       "\n",
       "        async function convertToInteractive(key) {\n",
       "          const element = document.querySelector('#df-1a085601-66e4-4e80-9195-ca52834efeac');\n",
       "          const dataTable =\n",
       "            await google.colab.kernel.invokeFunction('convertToInteractive',\n",
       "                                                     [key], {});\n",
       "          if (!dataTable) return;\n",
       "\n",
       "          const docLinkHtml = 'Like what you see? Visit the ' +\n",
       "            '<a target=\"_blank\" href=https://colab.research.google.com/notebooks/data_table.ipynb>data table notebook</a>'\n",
       "            + ' to learn more about interactive tables.';\n",
       "          element.innerHTML = '';\n",
       "          dataTable['output_type'] = 'display_data';\n",
       "          await google.colab.output.renderOutput(dataTable, element);\n",
       "          const docLink = document.createElement('div');\n",
       "          docLink.innerHTML = docLinkHtml;\n",
       "          element.appendChild(docLink);\n",
       "        }\n",
       "      </script>\n",
       "    </div>\n",
       "  </div>\n",
       "  "
      ]
     },
     "metadata": {},
     "execution_count": 9
    }
   ]
  },
  {
   "cell_type": "code",
   "source": [
    "df.drop(['text', 'normalized_sent'], axis=1, inplace=True)"
   ],
   "metadata": {
    "id": "3qNwtRejmP8G",
    "pycharm": {
     "name": "#%%\n"
    }
   },
   "execution_count": null,
   "outputs": []
  },
  {
   "cell_type": "code",
   "source": [
    "import ast\n",
    "x = ast.literal_eval(df.loc[1, 'tokens'])\n",
    "df[\"tokens\"] = df[\"tokens\"].apply(lambda x: ast.literal_eval(x))\n",
    "\n",
    "token_df = df[\"tokens\"]\n",
    "tokens = token_df.explode().dropna().tolist()\n",
    "print(len(tokens))\n",
    "tokens[:10]"
   ],
   "metadata": {
    "colab": {
     "base_uri": "https://localhost:8080/"
    },
    "id": "2kvpCfEF-k0f",
    "outputId": "3e5a66b9-568f-44dd-97d7-3e29af00a822",
    "pycharm": {
     "name": "#%%\n"
    }
   },
   "execution_count": null,
   "outputs": [
    {
     "output_type": "stream",
     "name": "stdout",
     "text": [
      "38677129\n"
     ]
    },
    {
     "output_type": "execute_result",
     "data": {
      "text/plain": [
       "['جاودانگی',\n",
       " 'زندگی',\n",
       " 'گروهی',\n",
       " 'طریق',\n",
       " 'هنر',\n",
       " 'نگاه',\n",
       " 'نمایشگاه',\n",
       " 'آثار',\n",
       " 'هنر',\n",
       " 'احمد']"
      ]
     },
     "metadata": {},
     "execution_count": 23
    }
   ]
  },
  {
   "cell_type": "code",
   "source": [
    "len(set(tokens))"
   ],
   "metadata": {
    "colab": {
     "base_uri": "https://localhost:8080/"
    },
    "id": "51Q4Ta4p7PfO",
    "outputId": "d2bb3693-7b6f-4be2-86bc-fa5eb2d11548",
    "pycharm": {
     "name": "#%%\n"
    }
   },
   "execution_count": null,
   "outputs": [
    {
     "output_type": "execute_result",
     "data": {
      "text/plain": [
       "453875"
      ]
     },
     "metadata": {},
     "execution_count": 24
    }
   ]
  },
  {
   "cell_type": "code",
   "source": [
    "ll = [0 for i in range(105)]\n",
    "for index, row in df.iterrows():\n",
    "    ll[row['category_id']] += len(row['tokens'])\n",
    "\n",
    "category['count_token'] = ll\n",
    "category.sort_values(by='count_token', ascending=False)[category['count_token'] > 0.1e6].plot(x='category', y='count_token',kind='bar', figsize=(20,8))"
   ],
   "metadata": {
    "id": "B44O9PV1rKAG",
    "colab": {
     "base_uri": "https://localhost:8080/",
     "height": 589
    },
    "outputId": "13b68a0c-539f-494d-d06d-ea82547dcccc",
    "pycharm": {
     "name": "#%%\n"
    }
   },
   "execution_count": null,
   "outputs": [
    {
     "output_type": "stream",
     "name": "stderr",
     "text": [
      "/usr/local/lib/python3.7/dist-packages/ipykernel_launcher.py:6: UserWarning: Boolean Series key will be reindexed to match DataFrame index.\n",
      "  \n"
     ]
    },
    {
     "output_type": "execute_result",
     "data": {
      "text/plain": [
       "<matplotlib.axes._subplots.AxesSubplot at 0x7f8ef459f290>"
      ]
     },
     "metadata": {},
     "execution_count": 13
    },
    {
     "output_type": "display_data",
     "data": {
      "text/plain": [
       "<Figure size 1440x576 with 1 Axes>"
      ],
      "image/png": "[encoded data removed]"
     },
     "metadata": {
      "needs_background": "light"
     }
    }
   ]
  },
  {
   "cell_type": "code",
   "source": [
    "# df.to_pickle(\"drive/MyDrive/Colab Notebooks/hamshahri_DataFrame.pkl\")\n",
    "df = pd.read_pickle(\"drive/MyDrive/Colab Notebooks/hamshahri_DataFrame.pkl\")  "
   ],
   "metadata": {
    "id": "J70SmOHJCso4",
    "pycharm": {
     "name": "#%%\n"
    }
   },
   "execution_count": null,
   "outputs": []
  },
  {
   "cell_type": "code",
   "source": [
    "df"
   ],
   "metadata": {
    "colab": {
     "base_uri": "https://localhost:8080/",
     "height": 424
    },
    "id": "ELF9zdSOoRwW",
    "outputId": "6da20f49-63e3-43e7-8be4-84ea2d498127",
    "pycharm": {
     "name": "#%%\n"
    }
   },
   "execution_count": null,
   "outputs": [
    {
     "output_type": "execute_result",
     "data": {
      "text/plain": [
       "       category  category_id  \\\n",
       "0         adabh            0   \n",
       "1         adabh            0   \n",
       "2         adabh            0   \n",
       "3         ejtem            1   \n",
       "4         elmfa            2   \n",
       "...         ...          ...   \n",
       "165220    vrzsh           10   \n",
       "165221    vrzsh           10   \n",
       "165222    vrzsh           10   \n",
       "165223    vrzsh           10   \n",
       "165224    vrzsh           10   \n",
       "\n",
       "                                                   tokens  \n",
       "0       [جاودانگی, زندگی, گروهی, طریق, هنر, نگاه, نمای...  \n",
       "1       [رویداد, هنر, جهان, نمایشگاه, هنر, خدمت, دیکتا...  \n",
       "2       [بردیوار, نگارخانه, گالری, گلستان, نمایشگاه, ط...  \n",
       "3       [بازی, جدی, گرفت#گیر, مطالعه, مقدمات, نقش, باز...  \n",
       "4       [تخته, سیاه, غبار, سترده, شد#شو, اشاره;, رغم, ...  \n",
       "...                                                   ...  \n",
       "165220  [نماینده, فدراسیون, جهانی, والیبال, ایران, نظر...  \n",
       "165221  [شکست, نامدار, تکواندودر, پیکار, برتر, لیگ, گر...  \n",
       "165222  [ورزشگاه, بزرگ, دانشگاه, آزاد, تهران, ساخت#ساز...  \n",
       "165223  [رئیس, فدراسیون, پزشک, انتخاب, گروه, ورزش, مجم...  \n",
       "165224  [نتایج, هفته, یازدهم, وزنه, بردار, باشگاه, گرو...  \n",
       "\n",
       "[165225 rows x 3 columns]"
      ],
      "text/html": [
       "\n",
       "  <div id=\"df-4b37fb58-f332-46a4-b0c8-413d5968f922\">\n",
       "    <div class=\"colab-df-container\">\n",
       "      <div>\n",
       "<style scoped>\n",
       "    .dataframe tbody tr th:only-of-type {\n",
       "        vertical-align: middle;\n",
       "    }\n",
       "\n",
       "    .dataframe tbody tr th {\n",
       "        vertical-align: top;\n",
       "    }\n",
       "\n",
       "    .dataframe thead th {\n",
       "        text-align: right;\n",
       "    }\n",
       "</style>\n",
       "<table border=\"1\" class=\"dataframe\">\n",
       "  <thead>\n",
       "    <tr style=\"text-align: right;\">\n",
       "      <th></th>\n",
       "      <th>category</th>\n",
       "      <th>category_id</th>\n",
       "      <th>tokens</th>\n",
       "    </tr>\n",
       "  </thead>\n",
       "  <tbody>\n",
       "    <tr>\n",
       "      <th>0</th>\n",
       "      <td>adabh</td>\n",
       "      <td>0</td>\n",
       "      <td>[جاودانگی, زندگی, گروهی, طریق, هنر, نگاه, نمای...</td>\n",
       "    </tr>\n",
       "    <tr>\n",
       "      <th>1</th>\n",
       "      <td>adabh</td>\n",
       "      <td>0</td>\n",
       "      <td>[رویداد, هنر, جهان, نمایشگاه, هنر, خدمت, دیکتا...</td>\n",
       "    </tr>\n",
       "    <tr>\n",
       "      <th>2</th>\n",
       "      <td>adabh</td>\n",
       "      <td>0</td>\n",
       "      <td>[بردیوار, نگارخانه, گالری, گلستان, نمایشگاه, ط...</td>\n",
       "    </tr>\n",
       "    <tr>\n",
       "      <th>3</th>\n",
       "      <td>ejtem</td>\n",
       "      <td>1</td>\n",
       "      <td>[بازی, جدی, گرفت#گیر, مطالعه, مقدمات, نقش, باز...</td>\n",
       "    </tr>\n",
       "    <tr>\n",
       "      <th>4</th>\n",
       "      <td>elmfa</td>\n",
       "      <td>2</td>\n",
       "      <td>[تخته, سیاه, غبار, سترده, شد#شو, اشاره;, رغم, ...</td>\n",
       "    </tr>\n",
       "    <tr>\n",
       "      <th>...</th>\n",
       "      <td>...</td>\n",
       "      <td>...</td>\n",
       "      <td>...</td>\n",
       "    </tr>\n",
       "    <tr>\n",
       "      <th>165220</th>\n",
       "      <td>vrzsh</td>\n",
       "      <td>10</td>\n",
       "      <td>[نماینده, فدراسیون, جهانی, والیبال, ایران, نظر...</td>\n",
       "    </tr>\n",
       "    <tr>\n",
       "      <th>165221</th>\n",
       "      <td>vrzsh</td>\n",
       "      <td>10</td>\n",
       "      <td>[شکست, نامدار, تکواندودر, پیکار, برتر, لیگ, گر...</td>\n",
       "    </tr>\n",
       "    <tr>\n",
       "      <th>165222</th>\n",
       "      <td>vrzsh</td>\n",
       "      <td>10</td>\n",
       "      <td>[ورزشگاه, بزرگ, دانشگاه, آزاد, تهران, ساخت#ساز...</td>\n",
       "    </tr>\n",
       "    <tr>\n",
       "      <th>165223</th>\n",
       "      <td>vrzsh</td>\n",
       "      <td>10</td>\n",
       "      <td>[رئیس, فدراسیون, پزشک, انتخاب, گروه, ورزش, مجم...</td>\n",
       "    </tr>\n",
       "    <tr>\n",
       "      <th>165224</th>\n",
       "      <td>vrzsh</td>\n",
       "      <td>10</td>\n",
       "      <td>[نتایج, هفته, یازدهم, وزنه, بردار, باشگاه, گرو...</td>\n",
       "    </tr>\n",
       "  </tbody>\n",
       "</table>\n",
       "<p>165225 rows × 3 columns</p>\n",
       "</div>\n",
       "      <button class=\"colab-df-convert\" onclick=\"convertToInteractive('df-4b37fb58-f332-46a4-b0c8-413d5968f922')\"\n",
       "              title=\"Convert this dataframe to an interactive table.\"\n",
       "              style=\"display:none;\">\n",
       "        \n",
       "  <svg xmlns=\"http://www.w3.org/2000/svg\" height=\"24px\"viewBox=\"0 0 24 24\"\n",
       "       width=\"24px\">\n",
       "    <path d=\"M0 0h24v24H0V0z\" fill=\"none\"/>\n",
       "    <path d=\"M18.56 5.44l.94 2.06.94-2.06 2.06-.94-2.06-.94-.94-2.06-.94 2.06-2.06.94zm-11 1L8.5 8.5l.94-2.06 2.06-.94-2.06-.94L8.5 2.5l-.94 2.06-2.06.94zm10 10l.94 2.06.94-2.06 2.06-.94-2.06-.94-.94-2.06-.94 2.06-2.06.94z\"/><path d=\"M17.41 7.96l-1.37-1.37c-.4-.4-.92-.59-1.43-.59-.52 0-1.04.2-1.43.59L10.3 9.45l-7.72 7.72c-.78.78-.78 2.05 0 2.83L4 21.41c.39.39.9.59 1.41.59.51 0 1.02-.2 1.41-.59l7.78-7.78 2.81-2.81c.8-.78.8-2.07 0-2.86zM5.41 20L4 18.59l7.72-7.72 1.47 1.35L5.41 20z\"/>\n",
       "  </svg>\n",
       "      </button>\n",
       "      \n",
       "  <style>\n",
       "    .colab-df-container {\n",
       "      display:flex;\n",
       "      flex-wrap:wrap;\n",
       "      gap: 12px;\n",
       "    }\n",
       "\n",
       "    .colab-df-convert {\n",
       "      background-color: #E8F0FE;\n",
       "      border: none;\n",
       "      border-radius: 50%;\n",
       "      cursor: pointer;\n",
       "      display: none;\n",
       "      fill: #1967D2;\n",
       "      height: 32px;\n",
       "      padding: 0 0 0 0;\n",
       "      width: 32px;\n",
       "    }\n",
       "\n",
       "    .colab-df-convert:hover {\n",
       "      background-color: #E2EBFA;\n",
       "      box-shadow: 0px 1px 2px rgba(60, 64, 67, 0.3), 0px 1px 3px 1px rgba(60, 64, 67, 0.15);\n",
       "      fill: #174EA6;\n",
       "    }\n",
       "\n",
       "    [theme=dark] .colab-df-convert {\n",
       "      background-color: #3B4455;\n",
       "      fill: #D2E3FC;\n",
       "    }\n",
       "\n",
       "    [theme=dark] .colab-df-convert:hover {\n",
       "      background-color: #434B5C;\n",
       "      box-shadow: 0px 1px 3px 1px rgba(0, 0, 0, 0.15);\n",
       "      filter: drop-shadow(0px 1px 2px rgba(0, 0, 0, 0.3));\n",
       "      fill: #FFFFFF;\n",
       "    }\n",
       "  </style>\n",
       "\n",
       "      <script>\n",
       "        const buttonEl =\n",
       "          document.querySelector('#df-4b37fb58-f332-46a4-b0c8-413d5968f922 button.colab-df-convert');\n",
       "        buttonEl.style.display =\n",
       "          google.colab.kernel.accessAllowed ? 'block' : 'none';\n",
       "\n",
       "        async function convertToInteractive(key) {\n",
       "          const element = document.querySelector('#df-4b37fb58-f332-46a4-b0c8-413d5968f922');\n",
       "          const dataTable =\n",
       "            await google.colab.kernel.invokeFunction('convertToInteractive',\n",
       "                                                     [key], {});\n",
       "          if (!dataTable) return;\n",
       "\n",
       "          const docLinkHtml = 'Like what you see? Visit the ' +\n",
       "            '<a target=\"_blank\" href=https://colab.research.google.com/notebooks/data_table.ipynb>data table notebook</a>'\n",
       "            + ' to learn more about interactive tables.';\n",
       "          element.innerHTML = '';\n",
       "          dataTable['output_type'] = 'display_data';\n",
       "          await google.colab.output.renderOutput(dataTable, element);\n",
       "          const docLink = document.createElement('div');\n",
       "          docLink.innerHTML = docLinkHtml;\n",
       "          element.appendChild(docLink);\n",
       "        }\n",
       "      </script>\n",
       "    </div>\n",
       "  </div>\n",
       "  "
      ]
     },
     "metadata": {},
     "execution_count": 6
    }
   ]
  },
  {
   "cell_type": "code",
   "source": [
    "type(df['tokens'].values)"
   ],
   "metadata": {
    "colab": {
     "base_uri": "https://localhost:8080/"
    },
    "id": "6H5L93bgorj8",
    "outputId": "bc8f997b-4869-42f4-c2dc-c912bd061600",
    "pycharm": {
     "name": "#%%\n"
    }
   },
   "execution_count": null,
   "outputs": [
    {
     "output_type": "execute_result",
     "data": {
      "text/plain": [
       "numpy.ndarray"
      ]
     },
     "metadata": {},
     "execution_count": 7
    }
   ]
  },
  {
   "cell_type": "code",
   "source": [
    "MAX_NB_WORDS = 50000\n",
    "MAX_SEQUENCE_LENGTH = 300\n",
    "EMBEDDING_DIM = 150\n",
    "df_train = df\n",
    "\n",
    "tokenizer = Tokenizer(num_words=MAX_NB_WORDS, filters='')\n",
    "tokenizer.fit_on_texts(df_train['tokens'].values)\n",
    "word_index = tokenizer.word_index\n",
    "\n",
    "print(f\"unique tokens: {len(word_index)}\")"
   ],
   "metadata": {
    "colab": {
     "base_uri": "https://localhost:8080/"
    },
    "id": "I35Yv10zpTbn",
    "outputId": "0c150ae7-5751-4c04-f7c3-40e1bf370fad",
    "pycharm": {
     "name": "#%%\n"
    }
   },
   "execution_count": 35,
   "outputs": [
    {
     "output_type": "stream",
     "name": "stdout",
     "text": [
      "unique tokens: 392031\n"
     ]
    }
   ]
  },
  {
   "cell_type": "code",
   "source": [
    "sorted_count_list = sorted(tokenizer.word_counts.items(), key=lambda x: x[1], reverse=True)\n",
    "sorted_count_list[:15]"
   ],
   "metadata": {
    "id": "Up17rlDXrya5",
    "colab": {
     "base_uri": "https://localhost:8080/"
    },
    "outputId": "3f63c0b9-a3f0-4675-a194-ad12c1049a31",
    "pycharm": {
     "name": "#%%\n"
    }
   },
   "execution_count": 36,
   "outputs": [
    {
     "output_type": "execute_result",
     "data": {
      "text/plain": [
       "[('کرد#کن', 566348),\n",
       " ('شد#شو', 395836),\n",
       " ('کشور', 253365),\n",
       " ('گفت#گو', 226652),\n",
       " ('ایران', 193418),\n",
       " ('سال', 179014),\n",
       " ('بود#باش', 178051),\n",
       " ('داشت#دار', 162458),\n",
       " ('داد#ده', 147899),\n",
       " ('گرفت#گیر', 140140),\n",
       " ('اسلام', 124784),\n",
       " ('تهران', 123048),\n",
       " ('شهر', 108528),\n",
       " ('روز', 100149),\n",
       " ('توانست#توان', 99354)]"
      ]
     },
     "metadata": {},
     "execution_count": 36
    }
   ]
  },
  {
   "cell_type": "code",
   "source": [
    "df_train['tokens'].values[0]"
   ],
   "metadata": {
    "id": "s6mfMeOKuPot",
    "pycharm": {
     "name": "#%%\n"
    }
   },
   "execution_count": null,
   "outputs": []
  },
  {
   "cell_type": "code",
   "source": [
    "X = tokenizer.texts_to_sequences(df_train['tokens'].values)\n",
    "X = pad_sequences(X, maxlen=MAX_SEQUENCE_LENGTH)\n",
    "print('Shape of data tensor:', X.shape)"
   ],
   "metadata": {
    "colab": {
     "base_uri": "https://localhost:8080/"
    },
    "id": "is5F7qbPpTZR",
    "outputId": "7accab13-0305-481f-d93b-2c8c538bddfc",
    "pycharm": {
     "name": "#%%\n"
    }
   },
   "execution_count": 44,
   "outputs": [
    {
     "output_type": "stream",
     "name": "stdout",
     "text": [
      "Shape of data tensor: (148352, 300)\n"
     ]
    }
   ]
  },
  {
   "cell_type": "code",
   "source": [
    "X"
   ],
   "metadata": {
    "colab": {
     "base_uri": "https://localhost:8080/"
    },
    "id": "FAyvP1PUpTXU",
    "outputId": "6b8c5f47-a785-4238-a2b7-09a5cd505f49",
    "pycharm": {
     "name": "#%%\n"
    }
   },
   "execution_count": 45,
   "outputs": [
    {
     "output_type": "execute_result",
     "data": {
      "text/plain": [
       "array([[ 2411,  1555,   242, ..., 39155,   110,     1],\n",
       "       [    0,     0,     0, ...,  2860,   235,    51],\n",
       "       [    0,     0,     0, ..., 14587,   402,   262],\n",
       "       ...,\n",
       "       [    0,     0,     0, ...,   393,   338,    63],\n",
       "       [    0,     0,     0, ...,    92,  3710,    34],\n",
       "       [    0,     0,     0, ...,   785,   691,   103]], dtype=int32)"
      ]
     },
     "metadata": {},
     "execution_count": 45
    }
   ]
  },
  {
   "cell_type": "code",
   "source": [
    "np.amax(X)"
   ],
   "metadata": {
    "colab": {
     "base_uri": "https://localhost:8080/"
    },
    "id": "5iv4f65js24-",
    "outputId": "ad17f054-7a05-4a5e-9dee-c6a3da3ebce1",
    "pycharm": {
     "name": "#%%\n"
    }
   },
   "execution_count": null,
   "outputs": [
    {
     "output_type": "execute_result",
     "data": {
      "text/plain": [
       "49999"
      ]
     },
     "metadata": {},
     "execution_count": 14
    }
   ]
  },
  {
   "cell_type": "code",
   "source": [
    "# Y = pd.get_dummies(df_train['category']).values\n",
    "# print('Shape of label tensor:', Y.shape)"
   ],
   "metadata": {
    "id": "vIAIwqKTpTUs",
    "pycharm": {
     "name": "#%%\n"
    }
   },
   "execution_count": null,
   "outputs": []
  },
  {
   "cell_type": "code",
   "source": [
    "df_train"
   ],
   "metadata": {
    "colab": {
     "base_uri": "https://localhost:8080/",
     "height": 424
    },
    "id": "0WhA1HYg6fuC",
    "outputId": "c1215083-f8f6-4d2c-8325-219caae6f597",
    "pycharm": {
     "name": "#%%\n"
    }
   },
   "execution_count": 46,
   "outputs": [
    {
     "output_type": "execute_result",
     "data": {
      "text/plain": [
       "       category  category_id  \\\n",
       "0         adabh            0   \n",
       "1         adabh            0   \n",
       "2         adabh            0   \n",
       "3         ejtem            1   \n",
       "4         elmfa            2   \n",
       "...         ...          ...   \n",
       "165220    vrzsh           10   \n",
       "165221    vrzsh           10   \n",
       "165222    vrzsh           10   \n",
       "165223    vrzsh           10   \n",
       "165224    vrzsh           10   \n",
       "\n",
       "                                                   tokens  \n",
       "0       [جاودانگی, زندگی, گروهی, طریق, هنر, نگاه, نمای...  \n",
       "1       [رویداد, هنر, جهان, نمایشگاه, هنر, خدمت, دیکتا...  \n",
       "2       [بردیوار, نگارخانه, گالری, گلستان, نمایشگاه, ط...  \n",
       "3       [بازی, جدی, گرفت#گیر, مطالعه, مقدمات, نقش, باز...  \n",
       "4       [تخته, سیاه, غبار, سترده, شد#شو, اشاره;, رغم, ...  \n",
       "...                                                   ...  \n",
       "165220  [نماینده, فدراسیون, جهانی, والیبال, ایران, نظر...  \n",
       "165221  [شکست, نامدار, تکواندودر, پیکار, برتر, لیگ, گر...  \n",
       "165222  [ورزشگاه, بزرگ, دانشگاه, آزاد, تهران, ساخت#ساز...  \n",
       "165223  [رئیس, فدراسیون, پزشک, انتخاب, گروه, ورزش, مجم...  \n",
       "165224  [نتایج, هفته, یازدهم, وزنه, بردار, باشگاه, گرو...  \n",
       "\n",
       "[148352 rows x 3 columns]"
      ],
      "text/html": [
       "\n",
       "  <div id=\"df-593c69df-9071-493c-9fee-5435630220f5\">\n",
       "    <div class=\"colab-df-container\">\n",
       "      <div>\n",
       "<style scoped>\n",
       "    .dataframe tbody tr th:only-of-type {\n",
       "        vertical-align: middle;\n",
       "    }\n",
       "\n",
       "    .dataframe tbody tr th {\n",
       "        vertical-align: top;\n",
       "    }\n",
       "\n",
       "    .dataframe thead th {\n",
       "        text-align: right;\n",
       "    }\n",
       "</style>\n",
       "<table border=\"1\" class=\"dataframe\">\n",
       "  <thead>\n",
       "    <tr style=\"text-align: right;\">\n",
       "      <th></th>\n",
       "      <th>category</th>\n",
       "      <th>category_id</th>\n",
       "      <th>tokens</th>\n",
       "    </tr>\n",
       "  </thead>\n",
       "  <tbody>\n",
       "    <tr>\n",
       "      <th>0</th>\n",
       "      <td>adabh</td>\n",
       "      <td>0</td>\n",
       "      <td>[جاودانگی, زندگی, گروهی, طریق, هنر, نگاه, نمای...</td>\n",
       "    </tr>\n",
       "    <tr>\n",
       "      <th>1</th>\n",
       "      <td>adabh</td>\n",
       "      <td>0</td>\n",
       "      <td>[رویداد, هنر, جهان, نمایشگاه, هنر, خدمت, دیکتا...</td>\n",
       "    </tr>\n",
       "    <tr>\n",
       "      <th>2</th>\n",
       "      <td>adabh</td>\n",
       "      <td>0</td>\n",
       "      <td>[بردیوار, نگارخانه, گالری, گلستان, نمایشگاه, ط...</td>\n",
       "    </tr>\n",
       "    <tr>\n",
       "      <th>3</th>\n",
       "      <td>ejtem</td>\n",
       "      <td>1</td>\n",
       "      <td>[بازی, جدی, گرفت#گیر, مطالعه, مقدمات, نقش, باز...</td>\n",
       "    </tr>\n",
       "    <tr>\n",
       "      <th>4</th>\n",
       "      <td>elmfa</td>\n",
       "      <td>2</td>\n",
       "      <td>[تخته, سیاه, غبار, سترده, شد#شو, اشاره;, رغم, ...</td>\n",
       "    </tr>\n",
       "    <tr>\n",
       "      <th>...</th>\n",
       "      <td>...</td>\n",
       "      <td>...</td>\n",
       "      <td>...</td>\n",
       "    </tr>\n",
       "    <tr>\n",
       "      <th>165220</th>\n",
       "      <td>vrzsh</td>\n",
       "      <td>10</td>\n",
       "      <td>[نماینده, فدراسیون, جهانی, والیبال, ایران, نظر...</td>\n",
       "    </tr>\n",
       "    <tr>\n",
       "      <th>165221</th>\n",
       "      <td>vrzsh</td>\n",
       "      <td>10</td>\n",
       "      <td>[شکست, نامدار, تکواندودر, پیکار, برتر, لیگ, گر...</td>\n",
       "    </tr>\n",
       "    <tr>\n",
       "      <th>165222</th>\n",
       "      <td>vrzsh</td>\n",
       "      <td>10</td>\n",
       "      <td>[ورزشگاه, بزرگ, دانشگاه, آزاد, تهران, ساخت#ساز...</td>\n",
       "    </tr>\n",
       "    <tr>\n",
       "      <th>165223</th>\n",
       "      <td>vrzsh</td>\n",
       "      <td>10</td>\n",
       "      <td>[رئیس, فدراسیون, پزشک, انتخاب, گروه, ورزش, مجم...</td>\n",
       "    </tr>\n",
       "    <tr>\n",
       "      <th>165224</th>\n",
       "      <td>vrzsh</td>\n",
       "      <td>10</td>\n",
       "      <td>[نتایج, هفته, یازدهم, وزنه, بردار, باشگاه, گرو...</td>\n",
       "    </tr>\n",
       "  </tbody>\n",
       "</table>\n",
       "<p>148352 rows × 3 columns</p>\n",
       "</div>\n",
       "      <button class=\"colab-df-convert\" onclick=\"convertToInteractive('df-593c69df-9071-493c-9fee-5435630220f5')\"\n",
       "              title=\"Convert this dataframe to an interactive table.\"\n",
       "              style=\"display:none;\">\n",
       "        \n",
       "  <svg xmlns=\"http://www.w3.org/2000/svg\" height=\"24px\"viewBox=\"0 0 24 24\"\n",
       "       width=\"24px\">\n",
       "    <path d=\"M0 0h24v24H0V0z\" fill=\"none\"/>\n",
       "    <path d=\"M18.56 5.44l.94 2.06.94-2.06 2.06-.94-2.06-.94-.94-2.06-.94 2.06-2.06.94zm-11 1L8.5 8.5l.94-2.06 2.06-.94-2.06-.94L8.5 2.5l-.94 2.06-2.06.94zm10 10l.94 2.06.94-2.06 2.06-.94-2.06-.94-.94-2.06-.94 2.06-2.06.94z\"/><path d=\"M17.41 7.96l-1.37-1.37c-.4-.4-.92-.59-1.43-.59-.52 0-1.04.2-1.43.59L10.3 9.45l-7.72 7.72c-.78.78-.78 2.05 0 2.83L4 21.41c.39.39.9.59 1.41.59.51 0 1.02-.2 1.41-.59l7.78-7.78 2.81-2.81c.8-.78.8-2.07 0-2.86zM5.41 20L4 18.59l7.72-7.72 1.47 1.35L5.41 20z\"/>\n",
       "  </svg>\n",
       "      </button>\n",
       "      \n",
       "  <style>\n",
       "    .colab-df-container {\n",
       "      display:flex;\n",
       "      flex-wrap:wrap;\n",
       "      gap: 12px;\n",
       "    }\n",
       "\n",
       "    .colab-df-convert {\n",
       "      background-color: #E8F0FE;\n",
       "      border: none;\n",
       "      border-radius: 50%;\n",
       "      cursor: pointer;\n",
       "      display: none;\n",
       "      fill: #1967D2;\n",
       "      height: 32px;\n",
       "      padding: 0 0 0 0;\n",
       "      width: 32px;\n",
       "    }\n",
       "\n",
       "    .colab-df-convert:hover {\n",
       "      background-color: #E2EBFA;\n",
       "      box-shadow: 0px 1px 2px rgba(60, 64, 67, 0.3), 0px 1px 3px 1px rgba(60, 64, 67, 0.15);\n",
       "      fill: #174EA6;\n",
       "    }\n",
       "\n",
       "    [theme=dark] .colab-df-convert {\n",
       "      background-color: #3B4455;\n",
       "      fill: #D2E3FC;\n",
       "    }\n",
       "\n",
       "    [theme=dark] .colab-df-convert:hover {\n",
       "      background-color: #434B5C;\n",
       "      box-shadow: 0px 1px 3px 1px rgba(0, 0, 0, 0.15);\n",
       "      filter: drop-shadow(0px 1px 2px rgba(0, 0, 0, 0.3));\n",
       "      fill: #FFFFFF;\n",
       "    }\n",
       "  </style>\n",
       "\n",
       "      <script>\n",
       "        const buttonEl =\n",
       "          document.querySelector('#df-593c69df-9071-493c-9fee-5435630220f5 button.colab-df-convert');\n",
       "        buttonEl.style.display =\n",
       "          google.colab.kernel.accessAllowed ? 'block' : 'none';\n",
       "\n",
       "        async function convertToInteractive(key) {\n",
       "          const element = document.querySelector('#df-593c69df-9071-493c-9fee-5435630220f5');\n",
       "          const dataTable =\n",
       "            await google.colab.kernel.invokeFunction('convertToInteractive',\n",
       "                                                     [key], {});\n",
       "          if (!dataTable) return;\n",
       "\n",
       "          const docLinkHtml = 'Like what you see? Visit the ' +\n",
       "            '<a target=\"_blank\" href=https://colab.research.google.com/notebooks/data_table.ipynb>data table notebook</a>'\n",
       "            + ' to learn more about interactive tables.';\n",
       "          element.innerHTML = '';\n",
       "          dataTable['output_type'] = 'display_data';\n",
       "          await google.colab.output.renderOutput(dataTable, element);\n",
       "          const docLink = document.createElement('div');\n",
       "          docLink.innerHTML = docLinkHtml;\n",
       "          element.appendChild(docLink);\n",
       "        }\n",
       "      </script>\n",
       "    </div>\n",
       "  </div>\n",
       "  "
      ]
     },
     "metadata": {},
     "execution_count": 46
    }
   ]
  },
  {
   "cell_type": "code",
   "source": [
    "# pd.unique(df[['category', 'category_id']].values.ravel())\n",
    "cats = df['category'].drop_duplicates().values.tolist()\n",
    "cats"
   ],
   "metadata": {
    "colab": {
     "base_uri": "https://localhost:8080/"
    },
    "id": "0BlDlSUcPQ-a",
    "outputId": "08c670d7-15d3-4831-dd48-d28b16ef8550",
    "pycharm": {
     "name": "#%%\n"
    }
   },
   "execution_count": null,
   "outputs": [
    {
     "output_type": "execute_result",
     "data": {
      "text/plain": [
       "['adabh',\n",
       " 'ejtem',\n",
       " 'elmfa',\n",
       " 'eqtes',\n",
       " 'gozar',\n",
       " 'havad',\n",
       " 'kharj',\n",
       " 'maqal',\n",
       " 'shahr',\n",
       " 'siasi',\n",
       " 'vrzsh',\n",
       " 'gungn',\n",
       " 'akhar',\n",
       " 'elmif',\n",
       " 'shari',\n",
       " 'shrst',\n",
       " 'soxan',\n",
       " 'jvarz',\n",
       " 'aeqts',\n",
       " 'nnaft',\n",
       " 'polig',\n",
       " 'econw']"
      ]
     },
     "metadata": {},
     "execution_count": 17
    }
   ]
  },
  {
   "cell_type": "code",
   "source": [
    "Y = to_categorical(df_train['category_id'])\n",
    "Y.shape"
   ],
   "metadata": {
    "colab": {
     "base_uri": "https://localhost:8080/"
    },
    "id": "WJbl1eM96Lba",
    "outputId": "eb1364d6-cb45-4e69-d527-406bfe97d2f7",
    "pycharm": {
     "name": "#%%\n"
    }
   },
   "execution_count": null,
   "outputs": [
    {
     "output_type": "execute_result",
     "data": {
      "text/plain": [
       "(148352, 22)"
      ]
     },
     "metadata": {},
     "execution_count": 18
    }
   ]
  },
  {
   "cell_type": "code",
   "source": [
    "Y[-1]"
   ],
   "metadata": {
    "colab": {
     "base_uri": "https://localhost:8080/"
    },
    "id": "qOfpJnv3NWJ0",
    "outputId": "7ac5e4ac-2e83-4378-fe72-f8864e0322e5",
    "pycharm": {
     "name": "#%%\n"
    }
   },
   "execution_count": null,
   "outputs": [
    {
     "output_type": "execute_result",
     "data": {
      "text/plain": [
       "array([0., 0., 0., 0., 0., 0., 0., 0., 0., 0., 1., 0., 0., 0., 0., 0., 0.,\n",
       "       0., 0., 0., 0., 0.], dtype=float32)"
      ]
     },
     "metadata": {},
     "execution_count": 19
    }
   ]
  },
  {
   "cell_type": "code",
   "source": [
    "X_train, X_test, Y_train, Y_test = train_test_split(X,Y, test_size = 0.1, random_state = 30)\n",
    "print(X_train.shape,Y_train.shape)\n",
    "print(X_test.shape,Y_test.shape)"
   ],
   "metadata": {
    "colab": {
     "base_uri": "https://localhost:8080/"
    },
    "id": "YuoJ3x0ApTQJ",
    "outputId": "bf36b366-051e-45c6-9201-1c02f0fbb2dd",
    "pycharm": {
     "name": "#%%\n"
    }
   },
   "execution_count": null,
   "outputs": [
    {
     "output_type": "stream",
     "name": "stdout",
     "text": [
      "(133516, 300) (133516, 22)\n",
      "(14836, 300) (14836, 22)\n"
     ]
    }
   ]
  },
  {
   "cell_type": "code",
   "source": [],
   "metadata": {
    "id": "f5O67XaUbEEb",
    "pycharm": {
     "name": "#%%\n"
    }
   },
   "execution_count": null,
   "outputs": []
  },
  {
   "cell_type": "code",
   "source": [
    "model = Sequential()\n",
    "model.add(Embedding(MAX_NB_WORDS, EMBEDDING_DIM, input_length=X.shape[1]))\n",
    "model.add(SpatialDropout1D(0.2))\n",
    "model.add(LSTM(200, dropout=0.2, recurrent_dropout=0.2))\n",
    "model.add(Dense(Y_train.shape[1], activation='softmax'))\n",
    "model.compile(loss='categorical_crossentropy', optimizer='adam', metrics=['accuracy'])\n",
    "print(model.summary())"
   ],
   "metadata": {
    "colab": {
     "base_uri": "https://localhost:8080/"
    },
    "id": "nTT8bi9apTN1",
    "outputId": "05fac6c3-c1e7-4cd6-d369-50a1a58c7ebb",
    "pycharm": {
     "name": "#%%\n"
    }
   },
   "execution_count": null,
   "outputs": [
    {
     "output_type": "stream",
     "name": "stdout",
     "text": [
      "WARNING:tensorflow:Layer lstm will not use cuDNN kernels since it doesn't meet the criteria. It will use a generic GPU kernel as fallback when running on GPU.\n",
      "Model: \"sequential\"\n",
      "_________________________________________________________________\n",
      " Layer (type)                Output Shape              Param #   \n",
      "=================================================================\n",
      " embedding (Embedding)       (None, 300, 150)          7500000   \n",
      "                                                                 \n",
      " spatial_dropout1d (SpatialD  (None, 300, 150)         0         \n",
      " ropout1D)                                                       \n",
      "                                                                 \n",
      " lstm (LSTM)                 (None, 200)               280800    \n",
      "                                                                 \n",
      " dense (Dense)               (None, 22)                4422      \n",
      "                                                                 \n",
      "=================================================================\n",
      "Total params: 7,785,222\n",
      "Trainable params: 7,785,222\n",
      "Non-trainable params: 0\n",
      "_________________________________________________________________\n",
      "None\n"
     ]
    }
   ]
  },
  {
   "cell_type": "code",
   "source": [
    "epochs = 10\n",
    "batch_size = 256\n",
    "\n",
    "history = model.fit(X_train,\n",
    "                    Y_train, \n",
    "                    epochs=epochs,\n",
    "                    batch_size=batch_size,\n",
    "                    validation_split=0.1, \n",
    "                    callbacks=[EarlyStopping(monitor='val_loss',\n",
    "                                             patience=3,\n",
    "                                             min_delta=0.0001)\n",
    "                    ]\n",
    "          )"
   ],
   "metadata": {
    "colab": {
     "base_uri": "https://localhost:8080/"
    },
    "id": "o99jj_Fv4Dhz",
    "outputId": "aaa93741-72bd-49a7-f7d0-e6315543803f",
    "pycharm": {
     "name": "#%%\n"
    }
   },
   "execution_count": null,
   "outputs": [
    {
     "output_type": "stream",
     "name": "stdout",
     "text": [
      "Epoch 1/10\n",
      "470/470 [==============================] - 599s 1s/step - loss: 1.7494 - accuracy: 0.4743 - val_loss: 1.5123 - val_accuracy: 0.5479\n",
      "Epoch 2/10\n",
      "470/470 [==============================] - 639s 1s/step - loss: 1.3009 - accuracy: 0.6188 - val_loss: 1.5069 - val_accuracy: 0.5723\n",
      "Epoch 3/10\n",
      "470/470 [==============================] - 684s 1s/step - loss: 1.1749 - accuracy: 0.6601 - val_loss: 1.2065 - val_accuracy: 0.6596\n",
      "Epoch 4/10\n",
      "470/470 [==============================] - 595s 1s/step - loss: 1.0070 - accuracy: 0.7049 - val_loss: 1.1207 - val_accuracy: 0.6711\n",
      "Epoch 5/10\n",
      "470/470 [==============================] - 683s 1s/step - loss: 0.8543 - accuracy: 0.7510 - val_loss: 0.8955 - val_accuracy: 0.7408\n",
      "Epoch 6/10\n",
      "470/470 [==============================] - 694s 1s/step - loss: 0.6800 - accuracy: 0.8026 - val_loss: 0.8125 - val_accuracy: 0.7679\n",
      "Epoch 7/10\n",
      "470/470 [==============================] - 684s 1s/step - loss: 0.6284 - accuracy: 0.8178 - val_loss: 0.7544 - val_accuracy: 0.7814\n",
      "Epoch 8/10\n",
      "470/470 [==============================] - 622s 1s/step - loss: 0.5080 - accuracy: 0.8506 - val_loss: 0.7316 - val_accuracy: 0.7907\n",
      "Epoch 9/10\n",
      "470/470 [==============================] - 592s 1s/step - loss: 0.4408 - accuracy: 0.8707 - val_loss: 0.7367 - val_accuracy: 0.7944\n",
      "Epoch 10/10\n",
      "470/470 [==============================] - 590s 1s/step - loss: 0.3832 - accuracy: 0.8873 - val_loss: 0.7622 - val_accuracy: 0.7921\n"
     ]
    }
   ]
  },
  {
   "cell_type": "code",
   "source": [
    "accr = model.evaluate(X_test, Y_test)\n",
    "print('Test set\\n  Loss: {:0.3f}\\n  Accuracy: {:0.3f}'.format(accr[0],accr[1]))"
   ],
   "metadata": {
    "id": "OzJ0MUn9pTLP",
    "colab": {
     "base_uri": "https://localhost:8080/"
    },
    "outputId": "1bb444ba-3cd1-4091-fd91-286f775790e8",
    "pycharm": {
     "name": "#%%\n"
    }
   },
   "execution_count": null,
   "outputs": [
    {
     "output_type": "stream",
     "name": "stdout",
     "text": [
      "464/464 [==============================] - 43s 93ms/step - loss: 0.7479 - accuracy: 0.7946\n",
      "Test set\n",
      "  Loss: 0.748\n",
      "  Accuracy: 0.795\n"
     ]
    }
   ]
  },
  {
   "cell_type": "code",
   "source": [
    "plt.title('Loss')\n",
    "plt.plot(history.history['loss'], label='train')\n",
    "plt.plot(history.history['val_loss'], label='test')\n",
    "plt.legend()\n",
    "plt.show();"
   ],
   "metadata": {
    "id": "EHbmDi-imcXs",
    "colab": {
     "base_uri": "https://localhost:8080/",
     "height": 281
    },
    "outputId": "f90e3776-4e46-48e5-f156-bbc61143fd80",
    "pycharm": {
     "name": "#%%\n"
    }
   },
   "execution_count": null,
   "outputs": [
    {
     "output_type": "display_data",
     "data": {
      "text/plain": [
       "<Figure size 432x288 with 1 Axes>"
      ],
      "image/png": "[encoded data removed]"
     },
     "metadata": {
      "needs_background": "light"
     }
    }
   ]
  },
  {
   "cell_type": "code",
   "source": [
    "plt.title('Accuracy')\n",
    "plt.plot(history.history['accuracy'], label='train')\n",
    "plt.plot(history.history['val_accuracy'], label='test')\n",
    "plt.legend()\n",
    "plt.show();"
   ],
   "metadata": {
    "colab": {
     "base_uri": "https://localhost:8080/",
     "height": 281
    },
    "id": "yVO8DMWxYd_Y",
    "outputId": "942b924d-ccf1-4101-f6d4-671ca6c731b5",
    "pycharm": {
     "name": "#%%\n"
    }
   },
   "execution_count": null,
   "outputs": [
    {
     "output_type": "display_data",
     "data": {
      "text/plain": [
       "<Figure size 432x288 with 1 Axes>"
      ],
      "image/png": "[encoded data removed]"
     },
     "metadata": {
      "needs_background": "light"
     }
    }
   ]
  },
  {
   "cell_type": "code",
   "source": [
    "# model.save(f\"drive/MyDrive/Colab Notebooks/classifier_model.h5\")\n",
    "# with open('drive/MyDrive/Colab Notebooks/classifier_tokenizer.pkl', 'wb') as classifier_tokenizer:\n",
    "  # pickle.dump(tokenizer, classifier_tokenizer)\n",
    "\n",
    "with open('drive/MyDrive/Colab Notebooks/classifier_tokenizer.pkl', 'rb') as classifier_tokenizer: \n",
    "  tokenizer = pickle.load(classifier_tokenizer)\n",
    " \n",
    "model = keras.models.load_model(\"drive/MyDrive/Colab Notebooks/classifier_model.h5\")\n"
   ],
   "metadata": {
    "id": "O_gWFVjHQZaA",
    "pycharm": {
     "name": "#%%\n"
    }
   },
   "execution_count": 43,
   "outputs": []
  },
  {
   "cell_type": "code",
   "source": [
    "with open('hamshahriold/ham2/Categories.txt',\"r\", encoding=\"utf8\") as content:\n",
    "    content = content.read()\n",
    "\n",
    "lines = content.split(\"\\n\")\n",
    "cat_dict = {}\n",
    "sub_cat = {}\n",
    "for line in lines:\n",
    "    if line:\n",
    "        splited = line.split(\"\\t\")\n",
    "        cat_dict[splited[0]] = (splited[1], splited[2])\n",
    "        if splited[1] in sub_cat:\n",
    "            sub_cat[splited[1]].append(splited[0])\n",
    "        else:\n",
    "            sub_cat[splited[1]] = [splited[0]]\n",
    "\n",
    "# cat_dict\n",
    "print(cat_dict)\n",
    "s = dict(sorted(sub_cat.items()))\n",
    "\n",
    "# for key, val in s.items():\n",
    "#     print(key, len(val))"
   ],
   "metadata": {
    "colab": {
     "base_uri": "https://localhost:8080/"
    },
    "id": "lRDh5MG67H2O",
    "outputId": "e4b1864e-2dc4-4aa2-f3c5-7364447f1a6c",
    "pycharm": {
     "name": "#%%\n"
    }
   },
   "execution_count": 28,
   "outputs": [
    {
     "output_type": "stream",
     "name": "stdout",
     "text": [
      "{'adabh': ('Literature and Art', 'ادب و هنر'), 'ejtem': ('Social', 'اجتماعی'), 'elmfa': ('Science and Culture', 'علمی فرهنگی'), 'eqtes': ('Economy', 'اقتصاد'), 'gozar': ('Miscellaneous', 'گوناگون'), 'havad': ('Miscellaneous.Happenings', 'گوناگون.حوادث'), 'kharj': ('Miscellaneous.World News', 'گوناگون.خارجی'), 'maqal': ('Miscellaneous', 'گوناگون'), 'shahr': ('Miscellaneous.Urban', 'گوناگون.شهری'), 'siasi': ('Politics', 'سیاسی'), 'varze': ('Sport', 'ورزش'), 'gungn': ('Miscellaneous', 'گوناگون'), 'axrooz': ('Miscellaneous.Picture', 'گوناگون.عکس'), 'cartoon': ('Miscellaneous.Picture.Caricature', 'گوناگون.عکس.کاریکاتور'), 'shahrstn': ('Miscellaneous', 'گوناگون'), 'nameh': ('Miscellaneous', 'گوناگون'), 'mohitz': ('Natural Environment', 'محیط زیست'), 'telfn': ('Miscellaneous', 'گوناگون'), 'mohit': ('Natural Environment', 'محیط زیست'), 'gofgu': ('Miscellaneous', 'گوناگون'), 'elmif': ('Science and Culture', 'علمی فرهنگی'), 'gqarn': ('Miscellaneous', 'گوناگون'), 'shari': ('Miscellaneous.Urban', 'گوناگون.شهری'), 'shrst': ('Miscellaneous', 'گوناگون'), 'vrzsh': ('Sport', 'ورزش'), 'ydsht': ('Miscellaneous', 'گوناگون'), 'maref': ('Social.Religion', 'اجتماعی.معارف'), 'zanan': ('Social.Women', 'اجتماعی.زنان'), 'donya': ('Miscellaneous.World News', 'گوناگون.خارجی'), 'egoft': ('Miscellaneous', 'گوناگون'), 'jjahn': ('Sport.World Cup', 'ورزش.جام جهانی'), 'agoft': ('Miscellaneous', 'گوناگون'), 'soxan': ('Miscellaneous', 'گوناگون'), 'goftg': ('Miscellaneous', 'گوناگون'), 'jvarz': ('Sport', 'ورزش'), 'norooz': ('Miscellaneous', 'گوناگون'), 'aeqts': ('Economy', 'اقتصاد'), 'bankb': ('Economy.Bank and Bourse', 'اقتصاد.بورس و بانک'), 'nnaft': ('Economy.Oil', 'اقتصاد.نفت'), 'sanat': ('Economy.Industry', 'اقتصاد.صنعت'), 'abksh': ('Economy.Agriculture', 'اقتصاد.کشاورزی'), 'bazar': ('Economy.Commerce', 'اقتصاد.بازرگانی'), 'gards': ('Tourism', 'گردشگری'), 'santj': ('Economy.Industry', 'اقتصاد.صنعت'), 'art': ('Literature and Art.Art', 'ادب و هنر.هنر'), 'books': ('Science and Culture.Science.Book', 'علمی فرهنگی.علمی.کتاب'), 'city': ('Miscellaneous.Urban', 'گوناگون.شهری'), 'econo': ('Economy', 'اقتصاد'), 'globa': ('Miscellaneous.World News', 'گوناگون.خارجی'), 'lastp': ('Miscellaneous', 'گوناگون'), 'newsp': ('Miscellaneous', 'گوناگون'), 'scien': ('Science and Culture.Science', 'علمی فرهنگی.علمی'), 'socie': ('Miscellaneous', 'گوناگون'), 'sport': ('Sport', 'ورزش'), 'shahz': ('Miscellaneous', 'گوناگون'), 'shora': ('Miscellaneous.Islamic Councils', 'گوناگون.شوراهای اسلامی'), 'goles': ('Science and Culture.Science.Book', 'علمی فرهنگی.علمی.کتاب'), 'mskan': ('Economy.Dwelling and Construction', 'اقتصاد.ساختمان و مسکن'), 'eqtsj': ('Economy', 'اقتصاد'), 'hamln': ('Miscellaneous', 'گوناگون'), 'lite': ('Literature and Art.Literature', 'ادب و هنر.ادبیات'), 'thought': ('Miscellaneous', 'گوناگون'), 'musical': ('Literature and Art.Art.Music', 'ادب و هنر.هنر.موسیقی'), 'cinama': ('Literature and Art.Art.Cinema', 'ادب و هنر.هنر.سینما'), 'media': ('Miscellaneous', 'گوناگون'), 'adarman': ('Science and Culture.Science.Medicine and Remedy', 'علمی فرهنگی.علمی.پزشکی و درمان'), 'erteg': ('Science and Culture.Science.Information and Communication Technology', 'علمی فرهنگی.علمی.ارتباطات و فناوری اطلاعات'), 'theatre': ('Literature and Art.Art.Theater', 'ادب و هنر.هنر.تئاتر'), 'ertebat': ('Science and Culture.Science.Information and Communication Technology', 'علمی فرهنگی.علمی.ارتباطات و فناوری اطلاعات'), 'artw': ('Literature and Art.Art', 'ادب و هنر.هنر'), 'busiw': ('Economy.Commerce', 'اقتصاد.بازرگانی'), 'cinew': ('Literature and Art.Art.Cinema', 'ادب و هنر.هنر.سینما'), 'cultw': ('Science and Culture', 'علمی فرهنگی'), 'intep': ('Politics.Iran Politics', 'سیاسی.سیاست داخلی'), 'polig': ('Politics', 'سیاسی'), 'sporw': ('Sport', 'ورزش'), 'sciew': ('Science and Culture.Science', 'علمی فرهنگی.علمی'), 'infor': ('Science and Culture.Science.Information and Communication Technology', 'علمی فرهنگی.علمی.ارتباطات و فناوری اطلاعات'), 'earth': ('Science and Culture.Science', 'علمی فرهنگی.علمی'), 'techn': ('Science and Culture.Science', 'علمی فرهنگی.علمی'), 'women': ('Social.Women', 'اجتماعی.زنان'), 'youth': ('Social', 'اجتماعی'), 'lifew': ('Social', 'اجتماعی'), 'econw': ('Economy', 'اقتصاد'), 'trip': ('Tourism', 'گردشگری'), 'iamouz': ('Science and Culture.Science.Information and Communication Technology', 'علمی فرهنگی.علمی.ارتباطات و فناوری اطلاعات'), 'igozar': ('Science and Culture.Science.Information and Communication Technology', 'علمی فرهنگی.علمی.ارتباطات و فناوری اطلاعات'), 'ikabar': ('Science and Culture.Science.Information and Communication Technology', 'علمی فرهنگی.علمی.ارتباطات و فناوری اطلاعات'), 'imaqal': ('Science and Culture.Science.Information and Communication Technology', 'علمی فرهنگی.علمی.ارتباطات و فناوری اطلاعات'), 'inforba': ('Science and Culture.Science.Information and Communication Technology', 'علمی فرهنگی.علمی.ارتباطات و فناوری اطلاعات'), 'event': ('Miscellaneous.Happenings', 'گوناگون.حوادث'), 'report': ('Miscellaneous', 'گوناگون'), 'akhar': ('Miscellaneous', 'گوناگون'), 'litew': ('Literature and Art.Literature', 'ادب و هنر.ادبیات'), 'musicw': ('Literature and Art.Art.Music', 'ادب و هنر.هنر.موسیقی'), 'theatrew': ('Literature and Art.Art.Theater', 'ادب و هنر.هنر.تئاتر'), 'nation': ('Miscellaneous.World News', 'گوناگون.خارجی'), 'footb-d': ('Sport', 'ورزش'), 'footb-k': ('Sport', 'ورزش'), 'goona-s': ('Sport', 'ورزش'), 'koshti': ('Sport', 'ورزش'), 'vazne-b': ('Sport', 'ورزش'), 'volleyb': ('Sport', 'ورزش'), 'amozesh': ('Social', 'اجتماعی'), 'malolin': ('Social', 'اجتماعی'), 'hoghogsh': ('Social', 'اجتماعی'), 'adab': ('Literature and Art.Literature', 'ادب و هنر.ادبیات'), 'book': ('Science and Culture.Science.Book', 'علمی فرهنگی.علمی.کتاب'), 'elm': ('Science and Culture.Science', 'علمی فرهنگی.علمی'), 'politic': ('Politics', 'سیاسی'), 'resaneh': ('Miscellaneous', 'گوناگون'), 'ydasht': ('Miscellaneous', 'گوناگون'), 'yadasht': ('Miscellaneous', 'گوناگون'), 'picture': ('Miscellaneous.Picture', 'گوناگون.عکس'), 'energy': ('Economy.Energy', 'اقتصاد.انرژی'), 'igoona': ('Science and Culture.Science.Information and Communication Technology', 'علمی فرهنگی.علمی.ارتباطات و فناوری اطلاعات'), 'imatch': ('Science and Culture.Science.Information and Communication Technology', 'علمی فرهنگی.علمی.ارتباطات و فناوری اطلاعات'), 'news': ('Miscellaneous', 'گوناگون'), 'cinema': ('Literature and Art.Art.Cinema', 'ادب و هنر.هنر.سینما'), 'idea': ('Miscellaneous', 'گوناگون'), 'insur': ('Economy', 'اقتصاد'), 'payan': ('Miscellaneous', 'گوناگون'), 'siasatw': ('Politics', 'سیاسی'), 'zistbz': ('Natural Environment', 'محیط زیست'), 'rooznetz': ('Science and Culture.Science.Information and Communication Technology', 'علمی فرهنگی.علمی.ارتباطات و فناوری اطلاعات'), 'zhrights': ('Social', 'اجتماعی'), 'modaraz': ('Miscellaneous', 'گوناگون'), 'bazarg': ('Economy.Commerce', 'اقتصاد.بازرگانی'), 'safarz': ('Tourism', 'گردشگری'), 'maskan': ('Economy.Dwelling and Construction', 'اقتصاد.ساختمان و مسکن'), 'bazarc': ('Economy', 'اقتصاد'), 'bazargo': ('Economy', 'اقتصاد'), 'bazark': ('Economy', 'اقتصاد'), 'bazarm': ('Economy', 'اقتصاد'), 'bazarlk': ('Economy', 'اقتصاد'), 'bazarab': ('Economy', 'اقتصاد'), 'bazarst': ('Economy', 'اقتصاد'), 'bazarer': ('Economy', 'اقتصاد'), 'bazarco': ('Economy', 'اقتصاد'), 'bazarah': ('Economy', 'اقتصاد'), 'bazaram': ('Economy', 'اقتصاد'), 'bazarmsa': ('Economy', 'اقتصاد'), 'danjoo': ('Social.Students', 'اجتماعی.دانشجو'), 'bazarlt': ('Economy', 'اقتصاد'), 'darmansh': ('Science and Culture.Science.Medicine and Remedy', 'علمی فرهنگی.علمی.پزشکی و درمان'), 'darsh': ('Miscellaneous', 'گوناگون'), 'havadsh': ('Miscellaneous.Happenings', 'گوناگون.حوادث'), 'iransh': ('Miscellaneous', 'گوناگون'), 'jahansh': ('Miscellaneous.World News', 'گوناگون.خارجی'), 'safarsh': ('Tourism', 'گردشگری'), 'tehransh': ('Miscellaneous', 'گوناگون'), 'yeksh': ('Miscellaneous', 'گوناگون'), 'armansh': ('Miscellaneous.Urban', 'گوناگون.شهری'), 'dastan': ('Science and Culture.Science.Book', 'علمی فرهنگی.علمی.کتاب'), 'kodak': ('Social', 'اجتماعی'), 'tahransh': ('Miscellaneous.Urban', 'گوناگون.شهری'), 'itshah': ('Science and Culture.Science.Information and Communication Technology', 'علمی فرهنگی.علمی.ارتباطات و فناوری اطلاعات'), 'farirsh': ('Science and Culture', 'علمی فرهنگی'), 'salgard': ('Miscellaneous', 'گوناگون'), 'zebash': ('Miscellaneous.Urban', 'گوناگون.شهری'), 'akssh': ('Miscellaneous.Picture', 'گوناگون.عکس'), 'jashn': ('Literature and Art.Art.Cinema', 'ادب و هنر.هنر.سینما'), 'irelmi': ('Science and Culture', 'علمی فرهنگی'), 'khabar': ('Miscellaneous', 'گوناگون'), 'car': ('Miscellaneous', 'گوناگون'), 'didar': ('Miscellaneous', 'گوناگون'), 'events': ('Miscellaneous.Happenings', 'گوناگون.حوادث'), 'faces': ('Miscellaneous', 'گوناگون'), 'file': ('Miscellaneous', 'گوناگون'), 'story': ('Science and Culture.Science.Book', 'علمی فرهنگی.علمی.کتاب'), 'week': ('Miscellaneous', 'گوناگون'), 'window': ('Miscellaneous', 'گوناگون'), 'zest': ('Natural Environment', 'محیط زیست'), 'dakhl': ('Economy', 'اقتصاد'), 'khanehw': ('Social', 'اجتماعی'), 'bourse': ('Economy.Bank and Bourse', 'اقتصاد.بورس و بانک'), 'ravanshw': ('Social', 'اجتماعی'), 'ketabw': ('Science and Culture.Science.Book', 'علمی فرهنگی.علمی.کتاب'), 'mehmansh': ('Miscellaneous', 'گوناگون'), 'daneshjo': ('Social.Students', 'اجتماعی.دانشجو'), 'informatic': ('Science and Culture.Science.Information and Communication Technology', 'علمی فرهنگی.علمی.ارتباطات و فناوری اطلاعات'), 'defa': ('Social', 'اجتماعی'), 'iran': ('Miscellaneous', 'گوناگون'), 'asib': ('Social', 'اجتماعی'), 'diet': ('Science and Culture.Science.Medicine and Remedy', 'علمی فرهنگی.علمی.پزشکی و درمان'), 'learning': ('Science and Culture', 'علمی فرهنگی'), 'mycity': ('Miscellaneous.Urban', 'گوناگون.شهری')}\n"
     ]
    }
   ]
  },
  {
   "cell_type": "code",
   "source": [
    "def predict_cat(text:str):\n",
    "  text = text_normalization(text)\n",
    "  tokens = tokenize_text(text)\n",
    "  cats = df['category'].drop_duplicates().values.tolist()\n",
    "  seq = tokenizer.texts_to_sequences([tokens])\n",
    "\n",
    "  padded = pad_sequences(seq, maxlen=MAX_SEQUENCE_LENGTH)\n",
    "  pred = model.predict(padded)\n",
    "  print(\"Your news category:\", cat_dict[cats[np.argmax(pred)]])\n",
    "\n",
    "news = input(\"Please enter your news text: \")\n",
    "predict_cat(news)"
   ],
   "metadata": {
    "colab": {
     "base_uri": "https://localhost:8080/"
    },
    "id": "ZLWJ7ZZIIo2H",
    "outputId": "40eca40d-f845-4dff-f987-c9538a744f29",
    "pycharm": {
     "name": "#%%\n"
    }
   },
   "execution_count": 48,
   "outputs": [
    {
     "output_type": "stream",
     "name": "stdout",
     "text": [
      "Please enter your news text: میرهاشم موسوی در پاسخ به گلایه‌ها و انتقادات بازنشستگان غیرحداقلی‌بگیر از نحوه افزایش حقوق‌ها در سال جاری اظهار کرد: آنچه ما باید بر اساس قانون به عنوان سازمان تامین اجتماعی انجام می‌دادیم همان را انجام دادیم و همان مسیری بوده که تا کنون طی کرده‌ایم.  وی افزود: در ماده ۹۶ قانون تامین اجتماعی قید شده است که میزان افزایش حقوق غیرحداقلی‌بگیران باید بر اساس هزینه‌های زندگی تعیین و سپس در هیئت وزیران مصوب شود و به اجرا دربیاید. در ماده ۱۱۱ قانون تامین اجتماعی هم آمده است که میزان افزایش حقوق حداقلی‌بگیران نباید از حداقل دستمزد کارگران که در شورای عالی کار مصوب شده، کمتر باشد.  مدیرعامل سازمان تامین اجتماعی با بیان اینکه ما بر اساس ماده ۹۶ و ۱۱۱ قانون تامین اجتماعی مسیر افزایش حقوق‌ها را طی کرده و مصوبه هیئت امنای تامین اجتماعی را به دولت ارسال کردیم گفت: این تصمیم، تصمیمِ بخشی و سازمانی ما بود و هیئت امنا همین را پذیرفت و به هیئت دولت ارسال کرد اما اقتضائاتی که در هیئت دولت مطرح است، به علاوه نگاه بخشی ما در تامین اجتماعی است و طبیعتا قانونگذار هم این اختیار را بر اساس ماده ۹۶ به هیئت وزیران داده است که این ملاحظات و اقتضائات را درنظر بگیرد.       موسوی ادامه داد: آن پیشنهادی که ما ارائه دادیم، قانون است و اینکه باید اقتضائات در دولت دیده شود هم قانون است؛ هر دو قانون هستند و نمی‌توانیم یک سوی قانون را ببینیم و آن سوی قانون را نادیده بگیریم. خب تصمیم نهایی در هیئت دولت با توجه به ملاحظاتی که برای مابقی صندوق‌ها وجود داشت و همچنین دیگر موارد فرابخشی در اقتصاد کلان و بخش‌های مختلف، اتخاذ شد. آنجا هیئت وزیران است و همه باید نظر بدهند و تصمیم نهایی اخذ شود.  وی افزود: البته در جلسات کارشناسی مختلفی که ما حضور داشتیم، نظرات خود را ارائه کرده بودیم و تبیین کارشناسی خودمان را داشتیم. در نهایت  تصمیمی که گرفته شد این بود که برای حداقلی بگیران ۵۷.۴ درصد افزایش داشته باشیم. برای سایر سطوح درآمدی نیز دو سطح قائل شدند، نخست حقوق بگیران زیر ۱۰ میلیون تومان که مشمول افزایش ۱۰ درصدی به علاوه ۶۵۰ هزار تومان مبلغ ثابت شدند و دوم حقوق‌بگیران بالای ۱۰ میلیون تومان که حقوقشان ۱۰ درصد افزایش پیدا کرد.  مدیرعامل سازمان تامین اجتماعی با اشاره به اینکه برای بخشی از \"سایر سطوح\" که شاید چیزی حدود به ۹۰۰ هزار نفر بازنشسته را شامل می‌شود، این تصمیم برای افزایش حقوق، محل سوال شد و معترض بودند اظهار کرد: این موضوع در دولت در حال بررسی بود که هیئت تطبیق قوانین مجلس هم ورود پیدا کرد و نظرات خودشان را اعلام کردند.  موسوی درباره نحوه پرداخت‌های جبرانی به این گروه از بازنشستگان که پیش از این از سوی سرپرست وزارت رفاه وعده داده و در برخی رسانه‌ها منتشر شده است نیز توضیح داد و گفت: اکنون این موضوع در دولت در حال بررسی است. ما نمی‌توانیم بگوییم که با چه الگویی می‌خواهیم این را جبران کنیم. منتظر تصمیم نهایی هستیم که آنچه باید بر اساس قانون انجام دهیم را انجام دهیم و این آمادگی در تامین اجتماعی وجود دارد که وفق قانون هر تصمیمی گرفته شد را عمل کرده و اقدامی که باید برای این عزیزان در پرداخت مستمری‌ها اتفاق بیفتد را انجام دهد.\n",
      "Your news category: ('Social', 'اجتماعی')\n"
     ]
    }
   ]
  },
  {
   "cell_type": "code",
   "source": [
    "import nltk\n",
    "nltk.download('punkt')"
   ],
   "metadata": {
    "colab": {
     "base_uri": "https://localhost:8080/"
    },
    "id": "1xa-jUcVRSDQ",
    "outputId": "72fbbe1d-5d69-4e8a-f83c-85e828405510",
    "pycharm": {
     "name": "#%%\n"
    }
   },
   "execution_count": null,
   "outputs": [
    {
     "output_type": "stream",
     "name": "stdout",
     "text": [
      "[nltk_data] Downloading package punkt to /root/nltk_data...\n",
      "[nltk_data]   Package punkt is already up-to-date!\n"
     ]
    },
    {
     "output_type": "execute_result",
     "data": {
      "text/plain": [
       "True"
      ]
     },
     "metadata": {},
     "execution_count": 102
    }
   ]
  },
  {
   "cell_type": "code",
   "source": [
    "df"
   ],
   "metadata": {
    "id": "ZfgfFtXCCsZ4",
    "colab": {
     "base_uri": "https://localhost:8080/",
     "height": 780
    },
    "outputId": "a9b15f11-0839-432a-ca16-744a322c4744",
    "pycharm": {
     "name": "#%%\n"
    }
   },
   "execution_count": null,
   "outputs": [
    {
     "output_type": "execute_result",
     "data": {
      "text/plain": [
       "       category  category_id  \\\n",
       "0         adabh            0   \n",
       "1         adabh            0   \n",
       "2         adabh            0   \n",
       "3         ejtem            1   \n",
       "4         elmfa            2   \n",
       "...         ...          ...   \n",
       "165220    vrzsh           10   \n",
       "165221    vrzsh           10   \n",
       "165222    vrzsh           10   \n",
       "165223    vrzsh           10   \n",
       "165224    vrzsh           10   \n",
       "\n",
       "                                                                                                                                                                                                                                                                                                                                                                                                                                                                                                                                                                                                                                                                                                                                                                                 tokens  \n",
       "0                                     [جاودانگی, زندگی, گروهی, طریق, هنر, نگاه, نمایشگاه, آثار, هنر, احمد, طباطبایی, موضوع, آثار, طباطبایی, مورچگان, باطن, ظاهر, انسانهاهستند, هیبت, حشره, تابلو, نقاش, نمایشگر, گوشه, زندگی, مورچه, دید#بین, سنگین, خودرا, دوش, کشید#کش, راه, خسته, شد#شو, نتیجه, آمدن, حادثه, اتفاق, دست, رها, گریز, خطر, گذاشت#گذار, فرار, کرد#کن, ساعت, نقطه, برمی, گشت#گرد, دوش, کشیده, نفس, زن, عرق, ریز, منزل, رساند#رسان, دانست#دان, راه, رفت#رو, مورچه, استعداد, غریزه, عملی, شروع, پایان, رساند#رسان, دانست#دان, نسل, آینده, مزایا, استفاده, نمود#نما, داستان, دراز, انتها, پایان, میلیون, سال, گذشته, میلیارد, سال, گذشت#گذر, وهمین, برنامه, میلیون, تجدید, شد#شو, گفت#گو, سیر, حیات, تکامل, پایان, ناپذیر, اسرار, جهان, پایان, خواست#خواه, چیز, پایان, ...]  \n",
       "1                          [رویداد, هنر, جهان, نمایشگاه, هنر, خدمت, دیکتاتورها, نمایشگاه, ارتباط, هنر, وقدرت, دیکتاتورها, اروپا, درشهر, برلین, آغاز, کار, کرد#کن, گزارش, واحد, مرکزی, خبر, نقل, شبکه, خبر, اروپا, نمایشگاه, موزه, تاریخ, آلمان, برپا, شد#شو, ترتیبدهندگان, نمایش, گذاشتن, آثار, نقاش, مجسمه, سازی, قصد, داشت#دار, نشان, داد#ده, آثار, هنر, سال, عنوان, وسائل, تبلیغاتی, استفاده, شد#شو, نمایشگاه, سوءاستفاده, هنر, هیتلر, زمان, آلمان, نازی, موسیلینی, ایتالیا, سردمدار, اتحاد, جماهیر, شوروی, اسپانیا, دیکتاتورهای, بزرگ, اوائل, قرن, حاضر, اروپا, نمایش, گذاشت#گذار, نمایشگاه, اثر, هنر, معرض, نمایش, گذاشته, شد#شو, نمایشگاه, آثار, پیکاسو, اردن, ملکه, اسپانیا, سوفیا, همراه, ملکه, اردن, نور, نمایشگاه, آثار, پیکاسو, رادر, گالری, ملی, اردن, افتتاح, کرد#کن, ...]  \n",
       "2                                [بردیوار, نگارخانه, گالری, گلستان, نمایشگاه, طرح, ساخت, نقره, وسنگ, ثریا, امانپور, تیرماه, تااز, ساعت, خیابان, دروس, شهیدکماسایی, شماره, تلفن, نگارخانه, آفرینش, سرو, نمایشگاه, آثار, عکاس, شهریار, توکل, فرشید, آذررنگ, تیرماه, ساعت, عصر, کوچه, ساعی, فرهنگسرا, سرو, نگارخانه, آفرینش, امیرکبیر, نمایشگاه, نقاش, مرجان, خسرونژادتا, تیرماه, ساعت, پارک, قیطریه, فرهنگسرا, امیرکبیر, تلفن, نگارخانه, هنر, ایران, نمایشگاه, نقاش, محمدکاظم, ویزواری, سوم, نهم, تیرماه, ساعت, کارگر, شمال, روبرو, پارک, لاله, کوی, شهید, صدوق, شماره, تلفن, لا, گالری, هفت, ثمر, نمایشگاه, نقاشی‌های, فاطمه, وفا, نژاد, روز, تیرماه, ازساعت, خیابان, کوه, مطهر, نور, کوی, پنجم, شماره, تلفن, نگارخانه, تهران, نمایشگاه, آثار, نقاش, اساتیدمرحوم, فتح, الله, عبادی, ...]  \n",
       "3       [بازی, جدی, گرفت#گیر, مطالعه, مقدمات, نقش, بازی, زندگی, اجتماع, ساماندهی, گردشگاه, حرکت, شلوغ, کردن, جلوه, ازلذت, کودکانه, سرکوبومخالفت, جنب, وجوش, کودک, آسیب, روان, آورد#آور, زمین, بازی, فعالیت, هنرمندانه, سازنده, بازی, پرتحرک, تشویق, ترویج, اشاره, چگونگی, ساماندهی, گذر, اوقات, فراغت, تامین, فضا, فراغت, شهر, بزرگ, روزبروز, اهمیت, برنامه, ریخت#ریز, طراح, شهر, پیدا, کرد#کن, موضوع, ابعاد, مختلف, اجتماع, فرهنگ, کالبد, فن, مدیریت, روبرو, روند, برنامه, ریخت#ریز, دشوار, ساخت#ساز, نظر, آشنایی, تجاربجهانی, وسایل, توانست#توان, زمینه, راهگشا, بود#باش, مطلب, آمد#آ, برگرفته, کتابزمین‌های, بازی, وفضاهای, تفریح, تالیف, آلفردلدرمان, وتراچل, مهندسین, مشاور, زادبوم, ترجمه, شد#شو, انسان, زمان, بازی, کرد#کن, مفهوم, کامل, کلمه, انسان, بود#باش, زمان, انسان, ...]  \n",
       "4                                                             [تخته, سیاه, غبار, سترده, شد#شو, اشاره;, رغم, گسترش, توسعه, روزافزون, تکنولوژی, آموزش, استفاده, وسیع, افزار, نرم, افزار, کمک, تحصیل, فرآیند, یادگیری, دانش, آموزان, کشور, توسعه, یافته, نقش, تخته, سیاه, سایر, تخته, آموزش, قابل, تامل, بوده, اثربخشی, استفاده, ابزار, امر, آموزش, مفاهیم, کودک, پژوهش, مختلف, تربیت, اثبات, رسید#رس, آستانه, شروع, تعطیلات, تابستان, فرصت, دو, ماه, نیمه, بازگشایی, مدارس, باقی, نتایج, حاصل, پژوهش, دانشگاه, تخته, سیاه, تخته, آموزش, آورد#آور, امید, مدیر, محترم, مدارس, دست, اندرکاران, امور, آموزش, برنامه, تجهیز, بهسازی, فضا, آموزش, تابستان, نیم, نگاه, تخته, سیاه, مدارس, مه, بخش, رسانه, یادگیری, داشت#دار, نقش, آموزش, پرورش, توسعه, فرهنگ, اقتصاد, اجتماع, پوشیده, نیست, ...]  \n",
       "...                                                                                                                                                                                                                                                                                                                                                                                                                                                                                                                                                                                                                                                                                                                                                                                 ...  \n",
       "165220           [نماینده, فدراسیون, جهانی, والیبال, ایران, نظر, شایسته, میزبان, مسابقات, جوان, جهان, گروه, ورزش, نماینده, فدراسیون, المللی, والیبال, بازدید, امکانات, ورزش, کشور, برگزاری, مسابقات, جوان, جهان, تهران, سفر, کرد#کن, قبل, پرواز, لوزان, سوئیس, ارائه, گزارش, بازدید, مقامات, فدراسیون, جهانی, درگفتگویی, مطبوعات, رادیو, تلویزیون, شرکت, کرد#کن, فرانس, اشمیت, مناسبخواندن, امکانات, ایران, برگزاری, یازدهمین, دوره, مسابقات, جوان, جهان, کشور, شایسته, میزبان, دانست#دان, گفت#گو, دو, سالن, هزار, نفر, پنج, سالن, تجهیزات, عالی, حد, استاندارد, پیشنهاد, مسئول, والیبال, ایران, بدلیل, هتل, المپیک, سالن, بازی, مسئول, برگزاری, داور, هتل, مستقر, شد#شو, اشمیت, جواب, سئوال, خبرنگار, همشهری, افزایش, تیمها, مسابقات, رده, سنی, نوجوان, جوان, جهان, گفت#گو, توجه, ...]  \n",
       "165221                                                                                                                                                                                                                                                                                                                              [شکست, نامدار, تکواندودر, پیکار, برتر, لیگ, گروه, ورزش, هادی, ساعی, یوسف, کرمی, نامدار, تکواندو, ایران, جهان, هفته, پایان, رقابت, لیگ, برتر, تکواندو, باشگاه, ایران, مقابل, حریف, شکست, خورد#خور, ساعی, دیدار, نتیجه, برابر, علی, مویدی, متحمل, شکست, کرمی, نتیجه, مهدی, اندام, پور, نتیجه, واگذار, کرد#کن, برگزاری, رقابت, آخرین, هفته, مسابقات, تکواندو, لیگ, برتر, باشگاه, ایران, تیم, هسا, امتیاز, مجموع, مسابقه, عنوان, قهرمان, دست, یافت#یاب]  \n",
       "165222                                        [ورزشگاه, بزرگ, دانشگاه, آزاد, تهران, ساخت#ساز, گروه, ورزش, تربیت, بدنی, دانشگاه, آزاد, اسلام, حضور, تیمهای, دانشگاه, آزاد, اسلام, لیگ, برتر, بسکتبال, واترپلو, کشتی, سال, آینده, خبر, داد, اعلام, کرد#کن, حضور, تیم‌ها, لیگ, تعداد, تیم‌های, حاضر, دانشگاه, تیم, افزایش, یافت#یاب, اقدام, دانشگاه, آزاد, اسلام, سال, گذشته, تاثیر, ورزش, کشور, دانشجو, داشت#دار, تاثیرات, علاقه, مندی, سایر, مراکز, دانشگاه, حضور, لیگ, هاست, دکتر, بهرام, قدیم, مدیرکل, تربیت, بدنی, دانشگاه, گفت#گو, اوایل, اردیبهشت, ماه, سال, آینده, احداث, ورزشگاه, اصل, بزرگ, دانشگاه, آزاد, اسلام, پونک, تهران, آغاز, شد#شو, ورزشگاه, شامل, ورزشگاه, فوتبال, گنجایش, بیش, هزار, نفر, سالن, متعدد, بسکتبال, والیبال, هندبال, فوتسال, بدنسازی, آمادگی, جسمانی, ...]  \n",
       "165223                                                                                                                                                                                                                                                                                                                             [رئیس, فدراسیون, پزشک, انتخاب, گروه, ورزش, مجمع, فدراسیون, پزشک, ورزش, انتخاب, رئیس, جدید, فدراسیون, صبح, محل, آکادمی, المپیک, برگزار, مهرزاد, خلیل, باکسب, بیشترین, آرا, عنوان, رئیس, جدید, برگزیده, دراین, مجمع, ریاست, علی, کفاش, معاون, ورزش, امور, فدراسیون, سازمان, تربیت, بدنی, برعهده, داشت, مهرزاد, خلیل, کسبرای, ماخوذه, دور, دوم, ریاست, فدراسیون, سال, مدت, انتخاب, گشت#گرد, خشایار, ثابت, نامزد, انتخابات, بدست, آورد#آور, باطل, اعلام]  \n",
       "165224                                                                                      [نتایج, هفته, یازدهم, وزنه, بردار, باشگاه, گروه, ورزش, هفته, یازدهم, رقابت, وزنه, بردار, قهرمان, باشگاه, ایران, جام, شهدا, جمعه, شب, انجام, دیدار, برگزار, درآن, تیم‌های, نفت, مسجدسلیمان, ذوب, آهن, اصفهان, سایپا, تهران, مقابل, حریف, برتر, دست, یافت#یاب, مسجد, سلیمان, تیم, نفت, شهرستان, کسب, امتیاز, مقابل, تیم, شیلات, هرمزگان, برتر, رسید, تیم, شیلات, هرمزگان, دیدار, حاضر, شد#شو, اصفهان, تیم, ذوب, آهن, شهر, /امتیاز, /بر, سد, تیم, دانشگاه, آزاد, اسلام, گذشت#گذر, تیم, سایپا, تهران, سالن, شهید, کبکانیان, تهران, امتیاز, /بر, مقابل, تیم, راه, آهن, تیم, تهرانی, برتر, رسید, هفته, رقابت, تیم, ملی, حفاری, ایران, استراحت, پرداخت, جدول, رده, بست#بند, رقابت, حاضر, تیم, ...]  \n",
       "\n",
       "[165225 rows x 3 columns]"
      ],
      "text/html": [
       "\n",
       "  <div id=\"df-b1982c4f-69f3-4e97-b62c-748d4f3616bd\">\n",
       "    <div class=\"colab-df-container\">\n",
       "      <div>\n",
       "<style scoped>\n",
       "    .dataframe tbody tr th:only-of-type {\n",
       "        vertical-align: middle;\n",
       "    }\n",
       "\n",
       "    .dataframe tbody tr th {\n",
       "        vertical-align: top;\n",
       "    }\n",
       "\n",
       "    .dataframe thead th {\n",
       "        text-align: right;\n",
       "    }\n",
       "</style>\n",
       "<table border=\"1\" class=\"dataframe\">\n",
       "  <thead>\n",
       "    <tr style=\"text-align: right;\">\n",
       "      <th></th>\n",
       "      <th>category</th>\n",
       "      <th>category_id</th>\n",
       "      <th>tokens</th>\n",
       "    </tr>\n",
       "  </thead>\n",
       "  <tbody>\n",
       "    <tr>\n",
       "      <th>0</th>\n",
       "      <td>adabh</td>\n",
       "      <td>0</td>\n",
       "      <td>[جاودانگی, زندگی, گروهی, طریق, هنر, نگاه, نمایشگاه, آثار, هنر, احمد, طباطبایی, موضوع, آثار, طباطبایی, مورچگان, باطن, ظاهر, انسانهاهستند, هیبت, حشره, تابلو, نقاش, نمایشگر, گوشه, زندگی, مورچه, دید#بین, سنگین, خودرا, دوش, کشید#کش, راه, خسته, شد#شو, نتیجه, آمدن, حادثه, اتفاق, دست, رها, گریز, خطر, گذاشت#گذار, فرار, کرد#کن, ساعت, نقطه, برمی, گشت#گرد, دوش, کشیده, نفس, زن, عرق, ریز, منزل, رساند#رسان, دانست#دان, راه, رفت#رو, مورچه, استعداد, غریزه, عملی, شروع, پایان, رساند#رسان, دانست#دان, نسل, آینده, مزایا, استفاده, نمود#نما, داستان, دراز, انتها, پایان, میلیون, سال, گذشته, میلیارد, سال, گذشت#گذر, وهمین, برنامه, میلیون, تجدید, شد#شو, گفت#گو, سیر, حیات, تکامل, پایان, ناپذیر, اسرار, جهان, پایان, خواست#خواه, چیز, پایان, ...]</td>\n",
       "    </tr>\n",
       "    <tr>\n",
       "      <th>1</th>\n",
       "      <td>adabh</td>\n",
       "      <td>0</td>\n",
       "      <td>[رویداد, هنر, جهان, نمایشگاه, هنر, خدمت, دیکتاتورها, نمایشگاه, ارتباط, هنر, وقدرت, دیکتاتورها, اروپا, درشهر, برلین, آغاز, کار, کرد#کن, گزارش, واحد, مرکزی, خبر, نقل, شبکه, خبر, اروپا, نمایشگاه, موزه, تاریخ, آلمان, برپا, شد#شو, ترتیبدهندگان, نمایش, گذاشتن, آثار, نقاش, مجسمه, سازی, قصد, داشت#دار, نشان, داد#ده, آثار, هنر, سال, عنوان, وسائل, تبلیغاتی, استفاده, شد#شو, نمایشگاه, سوءاستفاده, هنر, هیتلر, زمان, آلمان, نازی, موسیلینی, ایتالیا, سردمدار, اتحاد, جماهیر, شوروی, اسپانیا, دیکتاتورهای, بزرگ, اوائل, قرن, حاضر, اروپا, نمایش, گذاشت#گذار, نمایشگاه, اثر, هنر, معرض, نمایش, گذاشته, شد#شو, نمایشگاه, آثار, پیکاسو, اردن, ملکه, اسپانیا, سوفیا, همراه, ملکه, اردن, نور, نمایشگاه, آثار, پیکاسو, رادر, گالری, ملی, اردن, افتتاح, کرد#کن, ...]</td>\n",
       "    </tr>\n",
       "    <tr>\n",
       "      <th>2</th>\n",
       "      <td>adabh</td>\n",
       "      <td>0</td>\n",
       "      <td>[بردیوار, نگارخانه, گالری, گلستان, نمایشگاه, طرح, ساخت, نقره, وسنگ, ثریا, امانپور, تیرماه, تااز, ساعت, خیابان, دروس, شهیدکماسایی, شماره, تلفن, نگارخانه, آفرینش, سرو, نمایشگاه, آثار, عکاس, شهریار, توکل, فرشید, آذررنگ, تیرماه, ساعت, عصر, کوچه, ساعی, فرهنگسرا, سرو, نگارخانه, آفرینش, امیرکبیر, نمایشگاه, نقاش, مرجان, خسرونژادتا, تیرماه, ساعت, پارک, قیطریه, فرهنگسرا, امیرکبیر, تلفن, نگارخانه, هنر, ایران, نمایشگاه, نقاش, محمدکاظم, ویزواری, سوم, نهم, تیرماه, ساعت, کارگر, شمال, روبرو, پارک, لاله, کوی, شهید, صدوق, شماره, تلفن, لا, گالری, هفت, ثمر, نمایشگاه, نقاشی‌های, فاطمه, وفا, نژاد, روز, تیرماه, ازساعت, خیابان, کوه, مطهر, نور, کوی, پنجم, شماره, تلفن, نگارخانه, تهران, نمایشگاه, آثار, نقاش, اساتیدمرحوم, فتح, الله, عبادی, ...]</td>\n",
       "    </tr>\n",
       "    <tr>\n",
       "      <th>3</th>\n",
       "      <td>ejtem</td>\n",
       "      <td>1</td>\n",
       "      <td>[بازی, جدی, گرفت#گیر, مطالعه, مقدمات, نقش, بازی, زندگی, اجتماع, ساماندهی, گردشگاه, حرکت, شلوغ, کردن, جلوه, ازلذت, کودکانه, سرکوبومخالفت, جنب, وجوش, کودک, آسیب, روان, آورد#آور, زمین, بازی, فعالیت, هنرمندانه, سازنده, بازی, پرتحرک, تشویق, ترویج, اشاره, چگونگی, ساماندهی, گذر, اوقات, فراغت, تامین, فضا, فراغت, شهر, بزرگ, روزبروز, اهمیت, برنامه, ریخت#ریز, طراح, شهر, پیدا, کرد#کن, موضوع, ابعاد, مختلف, اجتماع, فرهنگ, کالبد, فن, مدیریت, روبرو, روند, برنامه, ریخت#ریز, دشوار, ساخت#ساز, نظر, آشنایی, تجاربجهانی, وسایل, توانست#توان, زمینه, راهگشا, بود#باش, مطلب, آمد#آ, برگرفته, کتابزمین‌های, بازی, وفضاهای, تفریح, تالیف, آلفردلدرمان, وتراچل, مهندسین, مشاور, زادبوم, ترجمه, شد#شو, انسان, زمان, بازی, کرد#کن, مفهوم, کامل, کلمه, انسان, بود#باش, زمان, انسان, ...]</td>\n",
       "    </tr>\n",
       "    <tr>\n",
       "      <th>4</th>\n",
       "      <td>elmfa</td>\n",
       "      <td>2</td>\n",
       "      <td>[تخته, سیاه, غبار, سترده, شد#شو, اشاره;, رغم, گسترش, توسعه, روزافزون, تکنولوژی, آموزش, استفاده, وسیع, افزار, نرم, افزار, کمک, تحصیل, فرآیند, یادگیری, دانش, آموزان, کشور, توسعه, یافته, نقش, تخته, سیاه, سایر, تخته, آموزش, قابل, تامل, بوده, اثربخشی, استفاده, ابزار, امر, آموزش, مفاهیم, کودک, پژوهش, مختلف, تربیت, اثبات, رسید#رس, آستانه, شروع, تعطیلات, تابستان, فرصت, دو, ماه, نیمه, بازگشایی, مدارس, باقی, نتایج, حاصل, پژوهش, دانشگاه, تخته, سیاه, تخته, آموزش, آورد#آور, امید, مدیر, محترم, مدارس, دست, اندرکاران, امور, آموزش, برنامه, تجهیز, بهسازی, فضا, آموزش, تابستان, نیم, نگاه, تخته, سیاه, مدارس, مه, بخش, رسانه, یادگیری, داشت#دار, نقش, آموزش, پرورش, توسعه, فرهنگ, اقتصاد, اجتماع, پوشیده, نیست, ...]</td>\n",
       "    </tr>\n",
       "    <tr>\n",
       "      <th>...</th>\n",
       "      <td>...</td>\n",
       "      <td>...</td>\n",
       "      <td>...</td>\n",
       "    </tr>\n",
       "    <tr>\n",
       "      <th>165220</th>\n",
       "      <td>vrzsh</td>\n",
       "      <td>10</td>\n",
       "      <td>[نماینده, فدراسیون, جهانی, والیبال, ایران, نظر, شایسته, میزبان, مسابقات, جوان, جهان, گروه, ورزش, نماینده, فدراسیون, المللی, والیبال, بازدید, امکانات, ورزش, کشور, برگزاری, مسابقات, جوان, جهان, تهران, سفر, کرد#کن, قبل, پرواز, لوزان, سوئیس, ارائه, گزارش, بازدید, مقامات, فدراسیون, جهانی, درگفتگویی, مطبوعات, رادیو, تلویزیون, شرکت, کرد#کن, فرانس, اشمیت, مناسبخواندن, امکانات, ایران, برگزاری, یازدهمین, دوره, مسابقات, جوان, جهان, کشور, شایسته, میزبان, دانست#دان, گفت#گو, دو, سالن, هزار, نفر, پنج, سالن, تجهیزات, عالی, حد, استاندارد, پیشنهاد, مسئول, والیبال, ایران, بدلیل, هتل, المپیک, سالن, بازی, مسئول, برگزاری, داور, هتل, مستقر, شد#شو, اشمیت, جواب, سئوال, خبرنگار, همشهری, افزایش, تیمها, مسابقات, رده, سنی, نوجوان, جوان, جهان, گفت#گو, توجه, ...]</td>\n",
       "    </tr>\n",
       "    <tr>\n",
       "      <th>165221</th>\n",
       "      <td>vrzsh</td>\n",
       "      <td>10</td>\n",
       "      <td>[شکست, نامدار, تکواندودر, پیکار, برتر, لیگ, گروه, ورزش, هادی, ساعی, یوسف, کرمی, نامدار, تکواندو, ایران, جهان, هفته, پایان, رقابت, لیگ, برتر, تکواندو, باشگاه, ایران, مقابل, حریف, شکست, خورد#خور, ساعی, دیدار, نتیجه, برابر, علی, مویدی, متحمل, شکست, کرمی, نتیجه, مهدی, اندام, پور, نتیجه, واگذار, کرد#کن, برگزاری, رقابت, آخرین, هفته, مسابقات, تکواندو, لیگ, برتر, باشگاه, ایران, تیم, هسا, امتیاز, مجموع, مسابقه, عنوان, قهرمان, دست, یافت#یاب]</td>\n",
       "    </tr>\n",
       "    <tr>\n",
       "      <th>165222</th>\n",
       "      <td>vrzsh</td>\n",
       "      <td>10</td>\n",
       "      <td>[ورزشگاه, بزرگ, دانشگاه, آزاد, تهران, ساخت#ساز, گروه, ورزش, تربیت, بدنی, دانشگاه, آزاد, اسلام, حضور, تیمهای, دانشگاه, آزاد, اسلام, لیگ, برتر, بسکتبال, واترپلو, کشتی, سال, آینده, خبر, داد, اعلام, کرد#کن, حضور, تیم‌ها, لیگ, تعداد, تیم‌های, حاضر, دانشگاه, تیم, افزایش, یافت#یاب, اقدام, دانشگاه, آزاد, اسلام, سال, گذشته, تاثیر, ورزش, کشور, دانشجو, داشت#دار, تاثیرات, علاقه, مندی, سایر, مراکز, دانشگاه, حضور, لیگ, هاست, دکتر, بهرام, قدیم, مدیرکل, تربیت, بدنی, دانشگاه, گفت#گو, اوایل, اردیبهشت, ماه, سال, آینده, احداث, ورزشگاه, اصل, بزرگ, دانشگاه, آزاد, اسلام, پونک, تهران, آغاز, شد#شو, ورزشگاه, شامل, ورزشگاه, فوتبال, گنجایش, بیش, هزار, نفر, سالن, متعدد, بسکتبال, والیبال, هندبال, فوتسال, بدنسازی, آمادگی, جسمانی, ...]</td>\n",
       "    </tr>\n",
       "    <tr>\n",
       "      <th>165223</th>\n",
       "      <td>vrzsh</td>\n",
       "      <td>10</td>\n",
       "      <td>[رئیس, فدراسیون, پزشک, انتخاب, گروه, ورزش, مجمع, فدراسیون, پزشک, ورزش, انتخاب, رئیس, جدید, فدراسیون, صبح, محل, آکادمی, المپیک, برگزار, مهرزاد, خلیل, باکسب, بیشترین, آرا, عنوان, رئیس, جدید, برگزیده, دراین, مجمع, ریاست, علی, کفاش, معاون, ورزش, امور, فدراسیون, سازمان, تربیت, بدنی, برعهده, داشت, مهرزاد, خلیل, کسبرای, ماخوذه, دور, دوم, ریاست, فدراسیون, سال, مدت, انتخاب, گشت#گرد, خشایار, ثابت, نامزد, انتخابات, بدست, آورد#آور, باطل, اعلام]</td>\n",
       "    </tr>\n",
       "    <tr>\n",
       "      <th>165224</th>\n",
       "      <td>vrzsh</td>\n",
       "      <td>10</td>\n",
       "      <td>[نتایج, هفته, یازدهم, وزنه, بردار, باشگاه, گروه, ورزش, هفته, یازدهم, رقابت, وزنه, بردار, قهرمان, باشگاه, ایران, جام, شهدا, جمعه, شب, انجام, دیدار, برگزار, درآن, تیم‌های, نفت, مسجدسلیمان, ذوب, آهن, اصفهان, سایپا, تهران, مقابل, حریف, برتر, دست, یافت#یاب, مسجد, سلیمان, تیم, نفت, شهرستان, کسب, امتیاز, مقابل, تیم, شیلات, هرمزگان, برتر, رسید, تیم, شیلات, هرمزگان, دیدار, حاضر, شد#شو, اصفهان, تیم, ذوب, آهن, شهر, /امتیاز, /بر, سد, تیم, دانشگاه, آزاد, اسلام, گذشت#گذر, تیم, سایپا, تهران, سالن, شهید, کبکانیان, تهران, امتیاز, /بر, مقابل, تیم, راه, آهن, تیم, تهرانی, برتر, رسید, هفته, رقابت, تیم, ملی, حفاری, ایران, استراحت, پرداخت, جدول, رده, بست#بند, رقابت, حاضر, تیم, ...]</td>\n",
       "    </tr>\n",
       "  </tbody>\n",
       "</table>\n",
       "<p>165225 rows × 3 columns</p>\n",
       "</div>\n",
       "      <button class=\"colab-df-convert\" onclick=\"convertToInteractive('df-b1982c4f-69f3-4e97-b62c-748d4f3616bd')\"\n",
       "              title=\"Convert this dataframe to an interactive table.\"\n",
       "              style=\"display:none;\">\n",
       "        \n",
       "  <svg xmlns=\"http://www.w3.org/2000/svg\" height=\"24px\"viewBox=\"0 0 24 24\"\n",
       "       width=\"24px\">\n",
       "    <path d=\"M0 0h24v24H0V0z\" fill=\"none\"/>\n",
       "    <path d=\"M18.56 5.44l.94 2.06.94-2.06 2.06-.94-2.06-.94-.94-2.06-.94 2.06-2.06.94zm-11 1L8.5 8.5l.94-2.06 2.06-.94-2.06-.94L8.5 2.5l-.94 2.06-2.06.94zm10 10l.94 2.06.94-2.06 2.06-.94-2.06-.94-.94-2.06-.94 2.06-2.06.94z\"/><path d=\"M17.41 7.96l-1.37-1.37c-.4-.4-.92-.59-1.43-.59-.52 0-1.04.2-1.43.59L10.3 9.45l-7.72 7.72c-.78.78-.78 2.05 0 2.83L4 21.41c.39.39.9.59 1.41.59.51 0 1.02-.2 1.41-.59l7.78-7.78 2.81-2.81c.8-.78.8-2.07 0-2.86zM5.41 20L4 18.59l7.72-7.72 1.47 1.35L5.41 20z\"/>\n",
       "  </svg>\n",
       "      </button>\n",
       "      \n",
       "  <style>\n",
       "    .colab-df-container {\n",
       "      display:flex;\n",
       "      flex-wrap:wrap;\n",
       "      gap: 12px;\n",
       "    }\n",
       "\n",
       "    .colab-df-convert {\n",
       "      background-color: #E8F0FE;\n",
       "      border: none;\n",
       "      border-radius: 50%;\n",
       "      cursor: pointer;\n",
       "      display: none;\n",
       "      fill: #1967D2;\n",
       "      height: 32px;\n",
       "      padding: 0 0 0 0;\n",
       "      width: 32px;\n",
       "    }\n",
       "\n",
       "    .colab-df-convert:hover {\n",
       "      background-color: #E2EBFA;\n",
       "      box-shadow: 0px 1px 2px rgba(60, 64, 67, 0.3), 0px 1px 3px 1px rgba(60, 64, 67, 0.15);\n",
       "      fill: #174EA6;\n",
       "    }\n",
       "\n",
       "    [theme=dark] .colab-df-convert {\n",
       "      background-color: #3B4455;\n",
       "      fill: #D2E3FC;\n",
       "    }\n",
       "\n",
       "    [theme=dark] .colab-df-convert:hover {\n",
       "      background-color: #434B5C;\n",
       "      box-shadow: 0px 1px 3px 1px rgba(0, 0, 0, 0.15);\n",
       "      filter: drop-shadow(0px 1px 2px rgba(0, 0, 0, 0.3));\n",
       "      fill: #FFFFFF;\n",
       "    }\n",
       "  </style>\n",
       "\n",
       "      <script>\n",
       "        const buttonEl =\n",
       "          document.querySelector('#df-b1982c4f-69f3-4e97-b62c-748d4f3616bd button.colab-df-convert');\n",
       "        buttonEl.style.display =\n",
       "          google.colab.kernel.accessAllowed ? 'block' : 'none';\n",
       "\n",
       "        async function convertToInteractive(key) {\n",
       "          const element = document.querySelector('#df-b1982c4f-69f3-4e97-b62c-748d4f3616bd');\n",
       "          const dataTable =\n",
       "            await google.colab.kernel.invokeFunction('convertToInteractive',\n",
       "                                                     [key], {});\n",
       "          if (!dataTable) return;\n",
       "\n",
       "          const docLinkHtml = 'Like what you see? Visit the ' +\n",
       "            '<a target=\"_blank\" href=https://colab.research.google.com/notebooks/data_table.ipynb>data table notebook</a>'\n",
       "            + ' to learn more about interactive tables.';\n",
       "          element.innerHTML = '';\n",
       "          dataTable['output_type'] = 'display_data';\n",
       "          await google.colab.output.renderOutput(dataTable, element);\n",
       "          const docLink = document.createElement('div');\n",
       "          docLink.innerHTML = docLinkHtml;\n",
       "          element.appendChild(docLink);\n",
       "        }\n",
       "      </script>\n",
       "    </div>\n",
       "  </div>\n",
       "  "
      ]
     },
     "metadata": {},
     "execution_count": 30
    }
   ]
  },
  {
   "cell_type": "code",
   "source": [],
   "metadata": {
    "id": "OSFuLbhaCr6P",
    "pycharm": {
     "name": "#%%\n"
    }
   },
   "execution_count": null,
   "outputs": []
  },
  {
   "cell_type": "markdown",
   "source": [],
   "metadata": {
    "id": "qBp77lapzK-P",
    "pycharm": {
     "name": "#%% md\n"
    }
   }
  }
 ]
}